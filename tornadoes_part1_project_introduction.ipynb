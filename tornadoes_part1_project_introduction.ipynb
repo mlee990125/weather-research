{
 "cells": [
  {
   "cell_type": "markdown",
   "metadata": {},
   "source": [
    "<img src=\"images/GAlogo.png\" style=\"float: left; margin: 15px; height: 100px\">\n",
    "\n",
    "# CAPSTONE PROJECT\n",
    "## US TORNADOES AND HOW TO PREDICT THEIR MAGNITUDE"
   ]
  },
  {
   "cell_type": "code",
   "execution_count": 1,
   "metadata": {},
   "outputs": [],
   "source": [
    "## Test comment"
   ]
  },
  {
   "cell_type": "markdown",
   "metadata": {},
   "source": [
    "## Goal:\n",
    "The main goal of my study is to try and predict the tornado's magnitude based on different features such as tornadoes' specific characteristics, damages costs, number of casualties, location, date, time, source, etc."
   ]
  },
  {
   "cell_type": "markdown",
   "metadata": {},
   "source": [
    "## Magnitude of tornadoes"
   ]
  },
  {
   "cell_type": "markdown",
   "metadata": {},
   "source": [
    "- The Fujita scale and Enhanced Fujita scale are used to describe a tornado's power of destruction.\n",
    "- Both are based on damaged caused, not wind speed, which is very difficult to compute.\n",
    "- The Fujita scale was not considering the fact that different structures get damaged differently for a same wind speed.\n",
    "- The Enhanced Fujita Scale is more complete and is the current reference. It has been in use since 2007, so if we want to study tornadoes before that year, we will not have any choise but to use the Fujita scale.\n",
    "- For a first study, I am planning to use the tornadoes from 2007 until now. This notebook though shows the work on a 2015 subset.\n",
    "- The table below describe the different degrees of destruction, and the wind speed estimates for both scales."
   ]
  },
  {
   "cell_type": "markdown",
   "metadata": {},
   "source": [
    "Comparison between original and Enhanced Fujita Scales:\n",
    "<img src=\"http://study.com/cimages/multimages/16/efscale.png\" alt=\"Drawing\" style=\"width: 500px;\"/>"
   ]
  },
  {
   "cell_type": "markdown",
   "metadata": {},
   "source": [
    "Comparison between original and Enhanced Fujita Scales:\n",
    "<img src=\"FvsEFscales.png\" alt=\"Drawing\" style=\"width: 500px;\"/>"
   ]
  },
  {
   "cell_type": "markdown",
   "metadata": {},
   "source": [
    "## Risks:\n",
    "- As the magnitude of a tornado is mainly linked to the damages it caused, some earlier data (prior 2007) may not be relevant as they were not using the Enhanced Fujita scale.\n",
    "- Moreover, judging the damages may sometimes be a difficult task, especially for remote tornadoes. Is the magnitude from those datasets a trustworthy variable in most cases? "
   ]
  },
  {
   "cell_type": "markdown",
   "metadata": {},
   "source": [
    "## Outline of this part 2 of the capstone project"
   ]
  },
  {
   "cell_type": "markdown",
   "metadata": {},
   "source": [
    "- In this notebook, I am mainly going to present to you the data I imported.\n",
    "- EDA will be performed\n",
    "- Interesting (hopefully!) insights will be shared\n",
    "- First modeling will be performed, to validate the project :)\n",
    "- Ideas for the next steps will conclude"
   ]
  },
  {
   "cell_type": "markdown",
   "metadata": {},
   "source": [
    "## 500 tornado events in the US, from Jan 1, 2015 to May 19, 2015"
   ]
  },
  {
   "cell_type": "markdown",
   "metadata": {},
   "source": [
    "** For this first notebook, I am going to analyse a subset of the data, <br>available from https://www.ncdc.noaa.gov/stormevents/choosedates.jsp?statefips=-999%2CALL# **"
   ]
  },
  {
   "cell_type": "markdown",
   "metadata": {},
   "source": [
    "<tr>\n",
    "    <td> <img src=\"https://upload.wikimedia.org/wikipedia/commons/thumb/f/ff/US-NationalWeatherService-Logo.svg/160px-US-NationalWeatherService-Logo.svg.png\" alt=\"Drawing\" style=\"float: right; width: 100px;\"/> </td>\n",
    "    <td> <img src=\"https://upload.wikimedia.org/wikipedia/commons/7/79/NOAA_logo.svg\" alt=\"Drawing\" style=\"float: right; width: 100px;\"/> </td>\n",
    "</tr>"
   ]
  },
  {
   "cell_type": "markdown",
   "metadata": {},
   "source": [
    "<br>"
   ]
  },
  {
   "cell_type": "markdown",
   "metadata": {},
   "source": [
    "## Data from the Storm Prediction Center (SPC) \n",
    "- part of the National Centers for Environmental Prediction (NCEP)\n",
    "    - part of  the control of the National Weather Service (NWS)\n",
    "        - part of the National Oceanic and Atmospheric Administration (NOAA) \n",
    "            - part of the United States Department of Commerce (DoC)\n"
   ]
  },
  {
   "cell_type": "markdown",
   "metadata": {},
   "source": [
    "## Description of the features:"
   ]
  },
  {
   "cell_type": "markdown",
   "metadata": {},
   "source": [
    "- **event_id<br>**  Ex: 383097, 374427, 364175\n",
    "(Primary database key field)\n",
    "(ID assigned by NWS to note a single, small part that goes into a specific storm episode; links the storm episode between the three files downloaded from SPC’s website)\n",
    "<br>\n",
    "- **state<br>**  Ex:  GEORGIA,  WYOMING, COLORADO\n",
    "The state name where the event occurred (no State ID’s are included here; State Name is spelled out in ALL CAPS)\n",
    "<br>\n",
    "- **state_fips<br>**  Ex: 45, 30, 12\n",
    "A unique number (State Federal Information Processing Standard) is assigned to the county by the National Institute for Standards and Technology (NIST).\n",
    "<br>\n",
    "- **year<br>**  Ex: 2000, 2006, 2012\n",
    "Four digit year for the event in this record\n",
    "<br>\n",
    "- **month_name<br>**  Ex: January, February, March\n",
    "Name of the month for the event in this record (spelled out; not abbreviated)\n",
    "<br>\n",
    "- **event_type<br>**  Ex: Hail, Thunderstorm Wind, Snow, Ice (spelled out; not abbreviated)\n",
    "<br>\n",
    "- **cz_type<br>**  Ex: C, Z , M\n",
    "Indicates whether the event happened in a (C) county/parish, (Z) zone or (M) marine\n",
    "<br>\n",
    "- **cz_fips<br>** Ex: 245, 003, 155\n",
    "The county FIPS number is a unique number assigned to the county by the National Institute for Standards and Technology (NIST) or NWS Forecast Zone Number (See addendum)\n",
    "<br>\n",
    "- **cz_name<br>**  Ex: AIKEN, RICHMOND, BAXTER (County/Parish, Zone or Marine Name assigned to the county FIPS number or NWS Forecast Zone)\n",
    "<br>\n",
    "- **wfo<br>**  Ex: CAE, BYZ, GJT (National Weather Service Forecast Office’s area of responsibility (County Warning Area) in which the event occurred)\n",
    "<br>\n",
    "- **begin_date_time<br>**  Ex: 4/1/2012  20:48\n",
    "MM/DD/YYYY  24 hour time AM/PM\n",
    "<br>\n",
    "- **cz_timezone<br>**  Ex: EST-5, MST-7, CST-6\n",
    "(Time Zone for the County/Parish, Zone or Marine Name)\n",
    "Eastern Standard Time (EST), Central Standard Time (CST), Mountain Standard Time (MST), etc.\n",
    "<br>\n",
    "- **end_date_time<br>**  Ex: 4/1/2012  21:03\n",
    "MM/DD/YYYY  24 hour time AM/PM\n",
    "<br>\n",
    "- **injuries_direct<br>**  Ex:  1, 0, 56\n",
    "The number of injuries directly related to the weather event\n",
    "<br>\n",
    "- **injuries_indirect<br>**  Ex:  0, 15, 87\n",
    "The number of injuries indirectly related to the weather event\n",
    "<br>\n",
    "- **deaths_direct<br>**  Ex: 0, 45, 23\n",
    "The number of deaths directly related to the weather event.\n",
    "<br>\n",
    "- **deaths_indirect<br>** Ex: 0, 4, 6\n",
    "The number of deaths indirectly related to the weather event\n",
    "<br>\n",
    "- **damage_property<br>**  Ex: 10.00K, 0.00K, 10.00M\n",
    "The estimated amount of damage to property incurred by the weather event.  (e.g. 10.00K = $10,000; 10.00M = $10,000,000)\n",
    "<br>\n",
    "- **damage_crops<br>**  Ex: 0.00K, 500.00K, 15.00M\n",
    "The estimated amount of damage to crops incurred by the weather event   (e.g. 10.00K = $10,000; 10.00M = $10,000,000)\n",
    "source  Ex: Public, Newspaper, Law Enforcement, Broadcast Media, ASOS, Park and Forest Service, Trained Spotter, CoCoRaHS,  etc.  (can be any entry; isn’t restricted in what’s allowed)\n",
    "Source reporting the weather event\n",
    "<br>\n",
    "- **tor_f_scale<br>**  Ex: EF0, EF1, EF2, EF3, EF4, EF5\n",
    "Enhanced Fujita Scale describes the strength of the tornado based on the amount and type of damage caused by the tornado.  The F-scale of damage will vary in the destruction area; therefore, the highest value of the F-scale is recorded for each event. \n",
    "EF0 – Light Damage (40 – 72 mph)\n",
    "EF1 – Moderate Damage (73 – 112 mph)\n",
    "EF2 – Significant damage (113 – 157 mph)\n",
    "EF3 – Severe Damage (158 – 206 mph)\n",
    "EF4 – Devastating Damage (207 – 260 mph)\n",
    "EF5 – Incredible Damage (261 – 318 mph)\n",
    "<br>\n",
    "- **tor_length<br>**  Ex: 0.66, 1.05, 0.48\n",
    "Length of the tornado or tornado segment while on the ground (minimal of tenths of miles)\n",
    "<br>\n",
    "- **tor_width<br>**  Ex:  25, 50, 2640, 10\n",
    "Width of the tornado or tornado segment while on the ground (in feet)\n",
    "<br>\n",
    "- **tor_other_wfo<br>**  Ex: DDC, ICT, TOP,OAX\n",
    "Indicates the continuation of a tornado segment as it crossed from one National Weather Service Forecast Office to another.  The subsequent WFO identifier is provided within this field.\n",
    "<br>\n",
    "- **tor_other_cz_state<br>**   Ex: KS, NE, OK\n",
    "The two character representation for the state name of the continuing tornado segment as it crossed from one county or zone to another.  The subsequent 2-Letter State ID is provided within this field.\n",
    "<br>\n",
    "- **tor_other_cz_fips<br>**  Ex: 41, 127, 153\n",
    "The FIPS number of the county entered by the continuing tornado segment as it crossed from one county to another.  The subsequent FIPS number is provided within this field.\n",
    "<br>\n",
    "- **tor_other_cz_name<br>**  Ex: DICKINSON, NEMAHA, SARPY\n",
    "The FIPS name of the county entered by the continuing tornado segment as it crossed from one county to another.  The subsequent county or zone name is provided within this field in ALL CAPS.\n",
    "<br>\n",
    "- **episode_title<br>**  Ex: Severe weather outbreak on Saturday April 14 in eastern Nebraska\n",
    "A short description of the episode.  (Short name for the episode itself as determined by NWS.)\n",
    "<br>\n",
    "- **episode_narrative<br>**  (The episode narrative depicting the general nature and overall activity of the episode.  The narrative is created by NWS.)  Ex: A strong upper level system over the southern Rockies lifted northeast across the plains causing an intense surface low pressure system and attendant warm front to lift into Nebraska.  \n",
    "<br>\n",
    "- **event_narrative<br>**  (The event narrative provides more specific details of the individual event .  The event narrative is provided by NWS.) Ex:  Heavy rain caused flash flooding across parts of Wilber.  Rainfall of 2 to 3 inches fell across the area. "
   ]
  },
  {
   "cell_type": "markdown",
   "metadata": {},
   "source": [
    "# EDA"
   ]
  },
  {
   "cell_type": "markdown",
   "metadata": {},
   "source": [
    "## Main packages import"
   ]
  },
  {
   "cell_type": "code",
   "execution_count": 2,
   "metadata": {},
   "outputs": [],
   "source": [
    "import pandas as pd\n",
    "import numpy as np\n",
    "import matplotlib.pyplot as plt\n",
    "from matplotlib import cm\n",
    "import seaborn as sns\n",
    "\n",
    "%matplotlib inline"
   ]
  },
  {
   "cell_type": "code",
   "execution_count": 3,
   "metadata": {},
   "outputs": [],
   "source": [
    "# To avoid display of warnings in Jupyter Notebook:\n",
    "import warnings\n",
    "warnings.filterwarnings('ignore')"
   ]
  },
  {
   "cell_type": "markdown",
   "metadata": {},
   "source": [
    "## Exploring the data"
   ]
  },
  {
   "cell_type": "code",
   "execution_count": 4,
   "metadata": {},
   "outputs": [
    {
     "name": "stdout",
     "output_type": "stream",
     "text": [
      "(500, 35)\n"
     ]
    },
    {
     "data": {
      "text/html": [
       "<div>\n",
       "<style scoped>\n",
       "    .dataframe tbody tr th:only-of-type {\n",
       "        vertical-align: middle;\n",
       "    }\n",
       "\n",
       "    .dataframe tbody tr th {\n",
       "        vertical-align: top;\n",
       "    }\n",
       "\n",
       "    .dataframe thead th {\n",
       "        text-align: right;\n",
       "    }\n",
       "</style>\n",
       "<table border=\"1\" class=\"dataframe\">\n",
       "  <thead>\n",
       "    <tr style=\"text-align: right;\">\n",
       "      <th></th>\n",
       "      <th>EVENT_ID</th>\n",
       "      <th>CZ_NAME_STR</th>\n",
       "      <th>BEGIN_LOCATION</th>\n",
       "      <th>BEGIN_DATE</th>\n",
       "      <th>BEGIN_TIME</th>\n",
       "      <th>EVENT_TYPE</th>\n",
       "      <th>MAGNITUDE</th>\n",
       "      <th>TOR_F_SCALE</th>\n",
       "      <th>DEATHS_DIRECT</th>\n",
       "      <th>INJURIES_DIRECT</th>\n",
       "      <th>...</th>\n",
       "      <th>BEGIN_RANGE</th>\n",
       "      <th>BEGIN_AZIMUTH</th>\n",
       "      <th>END_RANGE</th>\n",
       "      <th>END_AZIMUTH</th>\n",
       "      <th>END_LOCATION</th>\n",
       "      <th>BEGIN_LAT</th>\n",
       "      <th>BEGIN_LON</th>\n",
       "      <th>END_LAT</th>\n",
       "      <th>END_LON</th>\n",
       "      <th>ABSOLUTE_ROWNUMBER</th>\n",
       "    </tr>\n",
       "  </thead>\n",
       "  <tbody>\n",
       "    <tr>\n",
       "      <th>0</th>\n",
       "      <td>549199</td>\n",
       "      <td>LAWRENCE CO.</td>\n",
       "      <td>TILTON</td>\n",
       "      <td>01/03/2015</td>\n",
       "      <td>1405</td>\n",
       "      <td>Tornado</td>\n",
       "      <td></td>\n",
       "      <td>EF0</td>\n",
       "      <td>0</td>\n",
       "      <td>0</td>\n",
       "      <td>...</td>\n",
       "      <td>4</td>\n",
       "      <td>E</td>\n",
       "      <td>4</td>\n",
       "      <td>E</td>\n",
       "      <td>TILTON</td>\n",
       "      <td>31.43</td>\n",
       "      <td>-89.96</td>\n",
       "      <td>31.4300</td>\n",
       "      <td>-89.9600</td>\n",
       "      <td>1</td>\n",
       "    </tr>\n",
       "    <tr>\n",
       "      <th>1</th>\n",
       "      <td>549208</td>\n",
       "      <td>COVINGTON CO.</td>\n",
       "      <td>ARBO</td>\n",
       "      <td>01/03/2015</td>\n",
       "      <td>1436</td>\n",
       "      <td>Tornado</td>\n",
       "      <td></td>\n",
       "      <td>EF1</td>\n",
       "      <td>0</td>\n",
       "      <td>0</td>\n",
       "      <td>...</td>\n",
       "      <td>5</td>\n",
       "      <td>SW</td>\n",
       "      <td>3</td>\n",
       "      <td>SSW</td>\n",
       "      <td>ARBO</td>\n",
       "      <td>31.68</td>\n",
       "      <td>-89.68</td>\n",
       "      <td>31.6972</td>\n",
       "      <td>-89.6553</td>\n",
       "      <td>2</td>\n",
       "    </tr>\n",
       "  </tbody>\n",
       "</table>\n",
       "<p>2 rows × 35 columns</p>\n",
       "</div>"
      ],
      "text/plain": [
       "   EVENT_ID    CZ_NAME_STR BEGIN_LOCATION  BEGIN_DATE  BEGIN_TIME EVENT_TYPE  \\\n",
       "0    549199   LAWRENCE CO.         TILTON  01/03/2015        1405    Tornado   \n",
       "1    549208  COVINGTON CO.           ARBO  01/03/2015        1436    Tornado   \n",
       "\n",
       "  MAGNITUDE TOR_F_SCALE  DEATHS_DIRECT  INJURIES_DIRECT  ...  BEGIN_RANGE  \\\n",
       "0                   EF0              0                0  ...            4   \n",
       "1                   EF1              0                0  ...            5   \n",
       "\n",
       "   BEGIN_AZIMUTH END_RANGE END_AZIMUTH END_LOCATION  BEGIN_LAT BEGIN_LON  \\\n",
       "0              E         4           E       TILTON      31.43    -89.96   \n",
       "1             SW         3         SSW         ARBO      31.68    -89.68   \n",
       "\n",
       "   END_LAT  END_LON  ABSOLUTE_ROWNUMBER  \n",
       "0  31.4300 -89.9600                   1  \n",
       "1  31.6972 -89.6553                   2  \n",
       "\n",
       "[2 rows x 35 columns]"
      ]
     },
     "execution_count": 4,
     "metadata": {},
     "output_type": "execute_result"
    }
   ],
   "source": [
    "# Import dataset extracted from website\n",
    "raw_t1_before_dropped = pd.read_csv('./storm_data_search_results.csv')\n",
    "raw_t1 = raw_t1_before_dropped.drop(['EPISODE_NARRATIVE', 'EVENT_NARRATIVE', 'END_DATE', 'END_TIME'], axis=1)\n",
    "print(raw_t1.shape)\n",
    "raw_t1.head(2)"
   ]
  },
  {
   "cell_type": "code",
   "execution_count": 5,
   "metadata": {},
   "outputs": [
    {
     "data": {
      "text/plain": [
       "Index(['EVENT_ID', 'CZ_NAME_STR', 'BEGIN_LOCATION', 'BEGIN_DATE', 'BEGIN_TIME',\n",
       "       'EVENT_TYPE', 'MAGNITUDE', 'TOR_F_SCALE', 'DEATHS_DIRECT',\n",
       "       'INJURIES_DIRECT', 'DAMAGE_PROPERTY_NUM', 'DAMAGE_CROPS_NUM',\n",
       "       'STATE_ABBR', 'CZ_TIMEZONE', 'MAGNITUDE_TYPE', 'EPISODE_ID', 'CZ_TYPE',\n",
       "       'CZ_FIPS', 'WFO', 'INJURIES_INDIRECT', 'DEATHS_INDIRECT', 'SOURCE',\n",
       "       'FLOOD_CAUSE', 'TOR_LENGTH', 'TOR_WIDTH', 'BEGIN_RANGE',\n",
       "       'BEGIN_AZIMUTH', 'END_RANGE', 'END_AZIMUTH', 'END_LOCATION',\n",
       "       'BEGIN_LAT', 'BEGIN_LON', 'END_LAT', 'END_LON', 'ABSOLUTE_ROWNUMBER'],\n",
       "      dtype='object')"
      ]
     },
     "execution_count": 5,
     "metadata": {},
     "output_type": "execute_result"
    }
   ],
   "source": [
    "# Columns\n",
    "raw_t1.columns"
   ]
  },
  {
   "cell_type": "code",
   "execution_count": 6,
   "metadata": {},
   "outputs": [
    {
     "data": {
      "text/html": [
       "<div>\n",
       "<style scoped>\n",
       "    .dataframe tbody tr th:only-of-type {\n",
       "        vertical-align: middle;\n",
       "    }\n",
       "\n",
       "    .dataframe tbody tr th {\n",
       "        vertical-align: top;\n",
       "    }\n",
       "\n",
       "    .dataframe thead th {\n",
       "        text-align: right;\n",
       "    }\n",
       "</style>\n",
       "<table border=\"1\" class=\"dataframe\">\n",
       "  <thead>\n",
       "    <tr style=\"text-align: right;\">\n",
       "      <th></th>\n",
       "      <th>0</th>\n",
       "      <th>1</th>\n",
       "      <th>2</th>\n",
       "      <th>3</th>\n",
       "      <th>4</th>\n",
       "      <th>5</th>\n",
       "      <th>6</th>\n",
       "    </tr>\n",
       "  </thead>\n",
       "  <tbody>\n",
       "    <tr>\n",
       "      <th>EVENT_ID</th>\n",
       "      <td>549199</td>\n",
       "      <td>549208</td>\n",
       "      <td>549220</td>\n",
       "      <td>549233</td>\n",
       "      <td>555830</td>\n",
       "      <td>549251</td>\n",
       "      <td>549253</td>\n",
       "    </tr>\n",
       "    <tr>\n",
       "      <th>CZ_NAME_STR</th>\n",
       "      <td>LAWRENCE CO.</td>\n",
       "      <td>COVINGTON CO.</td>\n",
       "      <td>COVINGTON CO.</td>\n",
       "      <td>JASPER CO.</td>\n",
       "      <td>NEWTON CO.</td>\n",
       "      <td>NEWTON CO.</td>\n",
       "      <td>LAUDERDALE CO.</td>\n",
       "    </tr>\n",
       "    <tr>\n",
       "      <th>BEGIN_LOCATION</th>\n",
       "      <td>TILTON</td>\n",
       "      <td>ARBO</td>\n",
       "      <td>ARBO</td>\n",
       "      <td>MOSS HILL</td>\n",
       "      <td>HICKORY</td>\n",
       "      <td>CHUNKY</td>\n",
       "      <td>POINT</td>\n",
       "    </tr>\n",
       "    <tr>\n",
       "      <th>BEGIN_DATE</th>\n",
       "      <td>01/03/2015</td>\n",
       "      <td>01/03/2015</td>\n",
       "      <td>01/03/2015</td>\n",
       "      <td>01/03/2015</td>\n",
       "      <td>01/03/2015</td>\n",
       "      <td>01/03/2015</td>\n",
       "      <td>01/03/2015</td>\n",
       "    </tr>\n",
       "    <tr>\n",
       "      <th>BEGIN_TIME</th>\n",
       "      <td>1405</td>\n",
       "      <td>1436</td>\n",
       "      <td>1439</td>\n",
       "      <td>1504</td>\n",
       "      <td>1516</td>\n",
       "      <td>1524</td>\n",
       "      <td>1526</td>\n",
       "    </tr>\n",
       "    <tr>\n",
       "      <th>EVENT_TYPE</th>\n",
       "      <td>Tornado</td>\n",
       "      <td>Tornado</td>\n",
       "      <td>Tornado</td>\n",
       "      <td>Tornado</td>\n",
       "      <td>Tornado</td>\n",
       "      <td>Tornado</td>\n",
       "      <td>Tornado</td>\n",
       "    </tr>\n",
       "    <tr>\n",
       "      <th>MAGNITUDE</th>\n",
       "      <td></td>\n",
       "      <td></td>\n",
       "      <td></td>\n",
       "      <td></td>\n",
       "      <td></td>\n",
       "      <td></td>\n",
       "      <td></td>\n",
       "    </tr>\n",
       "    <tr>\n",
       "      <th>TOR_F_SCALE</th>\n",
       "      <td>EF0</td>\n",
       "      <td>EF1</td>\n",
       "      <td>EF1</td>\n",
       "      <td>EF2</td>\n",
       "      <td>EF1</td>\n",
       "      <td>EF1</td>\n",
       "      <td>EF1</td>\n",
       "    </tr>\n",
       "    <tr>\n",
       "      <th>DEATHS_DIRECT</th>\n",
       "      <td>0</td>\n",
       "      <td>0</td>\n",
       "      <td>0</td>\n",
       "      <td>0</td>\n",
       "      <td>0</td>\n",
       "      <td>0</td>\n",
       "      <td>0</td>\n",
       "    </tr>\n",
       "    <tr>\n",
       "      <th>INJURIES_DIRECT</th>\n",
       "      <td>0</td>\n",
       "      <td>0</td>\n",
       "      <td>0</td>\n",
       "      <td>0</td>\n",
       "      <td>0</td>\n",
       "      <td>0</td>\n",
       "      <td>0</td>\n",
       "    </tr>\n",
       "    <tr>\n",
       "      <th>DAMAGE_PROPERTY_NUM</th>\n",
       "      <td>1000</td>\n",
       "      <td>20000</td>\n",
       "      <td>40000</td>\n",
       "      <td>500000</td>\n",
       "      <td>7000</td>\n",
       "      <td>10000</td>\n",
       "      <td>20000</td>\n",
       "    </tr>\n",
       "    <tr>\n",
       "      <th>DAMAGE_CROPS_NUM</th>\n",
       "      <td>0</td>\n",
       "      <td>0</td>\n",
       "      <td>0</td>\n",
       "      <td>0</td>\n",
       "      <td>0</td>\n",
       "      <td>0</td>\n",
       "      <td>0</td>\n",
       "    </tr>\n",
       "    <tr>\n",
       "      <th>STATE_ABBR</th>\n",
       "      <td>MS</td>\n",
       "      <td>MS</td>\n",
       "      <td>MS</td>\n",
       "      <td>MS</td>\n",
       "      <td>MS</td>\n",
       "      <td>MS</td>\n",
       "      <td>MS</td>\n",
       "    </tr>\n",
       "    <tr>\n",
       "      <th>CZ_TIMEZONE</th>\n",
       "      <td>CST-6</td>\n",
       "      <td>CST-6</td>\n",
       "      <td>CST-6</td>\n",
       "      <td>CST-6</td>\n",
       "      <td>CST-6</td>\n",
       "      <td>CST-6</td>\n",
       "      <td>CST-6</td>\n",
       "    </tr>\n",
       "    <tr>\n",
       "      <th>MAGNITUDE_TYPE</th>\n",
       "      <td></td>\n",
       "      <td></td>\n",
       "      <td></td>\n",
       "      <td></td>\n",
       "      <td></td>\n",
       "      <td></td>\n",
       "      <td></td>\n",
       "    </tr>\n",
       "    <tr>\n",
       "      <th>EPISODE_ID</th>\n",
       "      <td>91643</td>\n",
       "      <td>91643</td>\n",
       "      <td>91643</td>\n",
       "      <td>91643</td>\n",
       "      <td>91643</td>\n",
       "      <td>91643</td>\n",
       "      <td>91643</td>\n",
       "    </tr>\n",
       "    <tr>\n",
       "      <th>CZ_TYPE</th>\n",
       "      <td>C</td>\n",
       "      <td>C</td>\n",
       "      <td>C</td>\n",
       "      <td>C</td>\n",
       "      <td>C</td>\n",
       "      <td>C</td>\n",
       "      <td>C</td>\n",
       "    </tr>\n",
       "    <tr>\n",
       "      <th>CZ_FIPS</th>\n",
       "      <td>77</td>\n",
       "      <td>31</td>\n",
       "      <td>31</td>\n",
       "      <td>61</td>\n",
       "      <td>101</td>\n",
       "      <td>101</td>\n",
       "      <td>75</td>\n",
       "    </tr>\n",
       "    <tr>\n",
       "      <th>WFO</th>\n",
       "      <td>JAN</td>\n",
       "      <td>JAN</td>\n",
       "      <td>JAN</td>\n",
       "      <td>JAN</td>\n",
       "      <td>JAN</td>\n",
       "      <td>JAN</td>\n",
       "      <td>JAN</td>\n",
       "    </tr>\n",
       "    <tr>\n",
       "      <th>INJURIES_INDIRECT</th>\n",
       "      <td>0</td>\n",
       "      <td>0</td>\n",
       "      <td>0</td>\n",
       "      <td>0</td>\n",
       "      <td>0</td>\n",
       "      <td>0</td>\n",
       "      <td>0</td>\n",
       "    </tr>\n",
       "    <tr>\n",
       "      <th>DEATHS_INDIRECT</th>\n",
       "      <td>0</td>\n",
       "      <td>0</td>\n",
       "      <td>0</td>\n",
       "      <td>0</td>\n",
       "      <td>0</td>\n",
       "      <td>0</td>\n",
       "      <td>0</td>\n",
       "    </tr>\n",
       "    <tr>\n",
       "      <th>SOURCE</th>\n",
       "      <td>NWS Storm Survey</td>\n",
       "      <td>NWS Storm Survey</td>\n",
       "      <td>NWS Storm Survey</td>\n",
       "      <td>NWS Storm Survey</td>\n",
       "      <td>NWS Storm Survey</td>\n",
       "      <td>NWS Storm Survey</td>\n",
       "      <td>NWS Storm Survey</td>\n",
       "    </tr>\n",
       "    <tr>\n",
       "      <th>FLOOD_CAUSE</th>\n",
       "      <td></td>\n",
       "      <td></td>\n",
       "      <td></td>\n",
       "      <td></td>\n",
       "      <td></td>\n",
       "      <td></td>\n",
       "      <td></td>\n",
       "    </tr>\n",
       "    <tr>\n",
       "      <th>TOR_LENGTH</th>\n",
       "      <td>0.08</td>\n",
       "      <td>1.88</td>\n",
       "      <td>1.03</td>\n",
       "      <td>7.99</td>\n",
       "      <td>0.04</td>\n",
       "      <td>2.38</td>\n",
       "      <td>7.51</td>\n",
       "    </tr>\n",
       "    <tr>\n",
       "      <th>TOR_WIDTH</th>\n",
       "      <td>50</td>\n",
       "      <td>50</td>\n",
       "      <td>100</td>\n",
       "      <td>200</td>\n",
       "      <td>200</td>\n",
       "      <td>100</td>\n",
       "      <td>100</td>\n",
       "    </tr>\n",
       "    <tr>\n",
       "      <th>BEGIN_RANGE</th>\n",
       "      <td>4</td>\n",
       "      <td>5</td>\n",
       "      <td>2</td>\n",
       "      <td>0</td>\n",
       "      <td>7</td>\n",
       "      <td>3</td>\n",
       "      <td>2</td>\n",
       "    </tr>\n",
       "    <tr>\n",
       "      <th>BEGIN_AZIMUTH</th>\n",
       "      <td>E</td>\n",
       "      <td>SW</td>\n",
       "      <td>SSW</td>\n",
       "      <td>WNW</td>\n",
       "      <td>SSE</td>\n",
       "      <td>S</td>\n",
       "      <td>SW</td>\n",
       "    </tr>\n",
       "    <tr>\n",
       "      <th>END_RANGE</th>\n",
       "      <td>4</td>\n",
       "      <td>3</td>\n",
       "      <td>2</td>\n",
       "      <td>5</td>\n",
       "      <td>7</td>\n",
       "      <td>2</td>\n",
       "      <td>3</td>\n",
       "    </tr>\n",
       "    <tr>\n",
       "      <th>END_AZIMUTH</th>\n",
       "      <td>E</td>\n",
       "      <td>SSW</td>\n",
       "      <td>S</td>\n",
       "      <td>E</td>\n",
       "      <td>SSE</td>\n",
       "      <td>SE</td>\n",
       "      <td>WSW</td>\n",
       "    </tr>\n",
       "    <tr>\n",
       "      <th>END_LOCATION</th>\n",
       "      <td>TILTON</td>\n",
       "      <td>ARBO</td>\n",
       "      <td>ARBO</td>\n",
       "      <td>HERO</td>\n",
       "      <td>HICKORY</td>\n",
       "      <td>CHUNKY</td>\n",
       "      <td>NELLIEBURG</td>\n",
       "    </tr>\n",
       "    <tr>\n",
       "      <th>BEGIN_LAT</th>\n",
       "      <td>31.43</td>\n",
       "      <td>31.68</td>\n",
       "      <td>31.7</td>\n",
       "      <td>32.1304</td>\n",
       "      <td>32.224</td>\n",
       "      <td>32.27</td>\n",
       "      <td>32.3</td>\n",
       "    </tr>\n",
       "    <tr>\n",
       "      <th>BEGIN_LON</th>\n",
       "      <td>-89.96</td>\n",
       "      <td>-89.68</td>\n",
       "      <td>-89.65</td>\n",
       "      <td>-89.0711</td>\n",
       "      <td>-88.9911</td>\n",
       "      <td>-88.93</td>\n",
       "      <td>-88.91</td>\n",
       "    </tr>\n",
       "    <tr>\n",
       "      <th>END_LAT</th>\n",
       "      <td>31.43</td>\n",
       "      <td>31.6972</td>\n",
       "      <td>31.7064</td>\n",
       "      <td>32.224</td>\n",
       "      <td>32.2245</td>\n",
       "      <td>32.3</td>\n",
       "      <td>32.3834</td>\n",
       "    </tr>\n",
       "    <tr>\n",
       "      <th>END_LON</th>\n",
       "      <td>-89.96</td>\n",
       "      <td>-89.6553</td>\n",
       "      <td>-89.6341</td>\n",
       "      <td>-88.9911</td>\n",
       "      <td>-88.9909</td>\n",
       "      <td>-88.91</td>\n",
       "      <td>-88.8275</td>\n",
       "    </tr>\n",
       "    <tr>\n",
       "      <th>ABSOLUTE_ROWNUMBER</th>\n",
       "      <td>1</td>\n",
       "      <td>2</td>\n",
       "      <td>3</td>\n",
       "      <td>4</td>\n",
       "      <td>5</td>\n",
       "      <td>6</td>\n",
       "      <td>7</td>\n",
       "    </tr>\n",
       "  </tbody>\n",
       "</table>\n",
       "</div>"
      ],
      "text/plain": [
       "                                    0                 1                 2  \\\n",
       "EVENT_ID                       549199            549208            549220   \n",
       "CZ_NAME_STR              LAWRENCE CO.     COVINGTON CO.     COVINGTON CO.   \n",
       "BEGIN_LOCATION                 TILTON              ARBO              ARBO   \n",
       "BEGIN_DATE                 01/03/2015        01/03/2015        01/03/2015   \n",
       "BEGIN_TIME                       1405              1436              1439   \n",
       "EVENT_TYPE                    Tornado           Tornado           Tornado   \n",
       "MAGNITUDE                                                                   \n",
       "TOR_F_SCALE                       EF0               EF1               EF1   \n",
       "DEATHS_DIRECT                       0                 0                 0   \n",
       "INJURIES_DIRECT                     0                 0                 0   \n",
       "DAMAGE_PROPERTY_NUM              1000             20000             40000   \n",
       "DAMAGE_CROPS_NUM                    0                 0                 0   \n",
       "STATE_ABBR                         MS                MS                MS   \n",
       "CZ_TIMEZONE                     CST-6             CST-6             CST-6   \n",
       "MAGNITUDE_TYPE                                                              \n",
       "EPISODE_ID                      91643             91643             91643   \n",
       "CZ_TYPE                             C                 C                 C   \n",
       "CZ_FIPS                            77                31                31   \n",
       "WFO                               JAN               JAN               JAN   \n",
       "INJURIES_INDIRECT                   0                 0                 0   \n",
       "DEATHS_INDIRECT                     0                 0                 0   \n",
       "SOURCE               NWS Storm Survey  NWS Storm Survey  NWS Storm Survey   \n",
       "FLOOD_CAUSE                                                                 \n",
       "TOR_LENGTH                       0.08              1.88              1.03   \n",
       "TOR_WIDTH                          50                50               100   \n",
       "BEGIN_RANGE                         4                 5                 2   \n",
       "BEGIN_AZIMUTH                       E                SW               SSW   \n",
       "END_RANGE                           4                 3                 2   \n",
       "END_AZIMUTH                         E               SSW                 S   \n",
       "END_LOCATION                   TILTON              ARBO              ARBO   \n",
       "BEGIN_LAT                       31.43             31.68              31.7   \n",
       "BEGIN_LON                      -89.96            -89.68            -89.65   \n",
       "END_LAT                         31.43           31.6972           31.7064   \n",
       "END_LON                        -89.96          -89.6553          -89.6341   \n",
       "ABSOLUTE_ROWNUMBER                  1                 2                 3   \n",
       "\n",
       "                                    3                 4                 5  \\\n",
       "EVENT_ID                       549233            555830            549251   \n",
       "CZ_NAME_STR                JASPER CO.        NEWTON CO.        NEWTON CO.   \n",
       "BEGIN_LOCATION              MOSS HILL           HICKORY            CHUNKY   \n",
       "BEGIN_DATE                 01/03/2015        01/03/2015        01/03/2015   \n",
       "BEGIN_TIME                       1504              1516              1524   \n",
       "EVENT_TYPE                    Tornado           Tornado           Tornado   \n",
       "MAGNITUDE                                                                   \n",
       "TOR_F_SCALE                       EF2               EF1               EF1   \n",
       "DEATHS_DIRECT                       0                 0                 0   \n",
       "INJURIES_DIRECT                     0                 0                 0   \n",
       "DAMAGE_PROPERTY_NUM            500000              7000             10000   \n",
       "DAMAGE_CROPS_NUM                    0                 0                 0   \n",
       "STATE_ABBR                         MS                MS                MS   \n",
       "CZ_TIMEZONE                     CST-6             CST-6             CST-6   \n",
       "MAGNITUDE_TYPE                                                              \n",
       "EPISODE_ID                      91643             91643             91643   \n",
       "CZ_TYPE                             C                 C                 C   \n",
       "CZ_FIPS                            61               101               101   \n",
       "WFO                               JAN               JAN               JAN   \n",
       "INJURIES_INDIRECT                   0                 0                 0   \n",
       "DEATHS_INDIRECT                     0                 0                 0   \n",
       "SOURCE               NWS Storm Survey  NWS Storm Survey  NWS Storm Survey   \n",
       "FLOOD_CAUSE                                                                 \n",
       "TOR_LENGTH                       7.99              0.04              2.38   \n",
       "TOR_WIDTH                         200               200               100   \n",
       "BEGIN_RANGE                         0                 7                 3   \n",
       "BEGIN_AZIMUTH                     WNW               SSE                 S   \n",
       "END_RANGE                           5                 7                 2   \n",
       "END_AZIMUTH                         E               SSE                SE   \n",
       "END_LOCATION                     HERO           HICKORY            CHUNKY   \n",
       "BEGIN_LAT                     32.1304            32.224             32.27   \n",
       "BEGIN_LON                    -89.0711          -88.9911            -88.93   \n",
       "END_LAT                        32.224           32.2245              32.3   \n",
       "END_LON                      -88.9911          -88.9909            -88.91   \n",
       "ABSOLUTE_ROWNUMBER                  4                 5                 6   \n",
       "\n",
       "                                    6  \n",
       "EVENT_ID                       549253  \n",
       "CZ_NAME_STR            LAUDERDALE CO.  \n",
       "BEGIN_LOCATION                  POINT  \n",
       "BEGIN_DATE                 01/03/2015  \n",
       "BEGIN_TIME                       1526  \n",
       "EVENT_TYPE                    Tornado  \n",
       "MAGNITUDE                              \n",
       "TOR_F_SCALE                       EF1  \n",
       "DEATHS_DIRECT                       0  \n",
       "INJURIES_DIRECT                     0  \n",
       "DAMAGE_PROPERTY_NUM             20000  \n",
       "DAMAGE_CROPS_NUM                    0  \n",
       "STATE_ABBR                         MS  \n",
       "CZ_TIMEZONE                     CST-6  \n",
       "MAGNITUDE_TYPE                         \n",
       "EPISODE_ID                      91643  \n",
       "CZ_TYPE                             C  \n",
       "CZ_FIPS                            75  \n",
       "WFO                               JAN  \n",
       "INJURIES_INDIRECT                   0  \n",
       "DEATHS_INDIRECT                     0  \n",
       "SOURCE               NWS Storm Survey  \n",
       "FLOOD_CAUSE                            \n",
       "TOR_LENGTH                       7.51  \n",
       "TOR_WIDTH                         100  \n",
       "BEGIN_RANGE                         2  \n",
       "BEGIN_AZIMUTH                      SW  \n",
       "END_RANGE                           3  \n",
       "END_AZIMUTH                       WSW  \n",
       "END_LOCATION               NELLIEBURG  \n",
       "BEGIN_LAT                        32.3  \n",
       "BEGIN_LON                      -88.91  \n",
       "END_LAT                       32.3834  \n",
       "END_LON                      -88.8275  \n",
       "ABSOLUTE_ROWNUMBER                  7  "
      ]
     },
     "execution_count": 6,
     "metadata": {},
     "output_type": "execute_result"
    }
   ],
   "source": [
    "# Look at the first 7 tornadoes:\n",
    "raw_t1.head(7).T"
   ]
  },
  {
   "cell_type": "code",
   "execution_count": 7,
   "metadata": {},
   "outputs": [
    {
     "name": "stdout",
     "output_type": "stream",
     "text": [
      "<class 'pandas.core.frame.DataFrame'>\n",
      "RangeIndex: 500 entries, 0 to 499\n",
      "Data columns (total 35 columns):\n",
      " #   Column               Non-Null Count  Dtype  \n",
      "---  ------               --------------  -----  \n",
      " 0   EVENT_ID             500 non-null    int64  \n",
      " 1   CZ_NAME_STR          500 non-null    object \n",
      " 2   BEGIN_LOCATION       500 non-null    object \n",
      " 3   BEGIN_DATE           500 non-null    object \n",
      " 4   BEGIN_TIME           500 non-null    int64  \n",
      " 5   EVENT_TYPE           500 non-null    object \n",
      " 6   MAGNITUDE            500 non-null    object \n",
      " 7   TOR_F_SCALE          500 non-null    object \n",
      " 8   DEATHS_DIRECT        500 non-null    int64  \n",
      " 9   INJURIES_DIRECT      500 non-null    int64  \n",
      " 10  DAMAGE_PROPERTY_NUM  500 non-null    int64  \n",
      " 11  DAMAGE_CROPS_NUM     500 non-null    int64  \n",
      " 12  STATE_ABBR           500 non-null    object \n",
      " 13  CZ_TIMEZONE          500 non-null    object \n",
      " 14  MAGNITUDE_TYPE       500 non-null    object \n",
      " 15  EPISODE_ID           500 non-null    int64  \n",
      " 16  CZ_TYPE              500 non-null    object \n",
      " 17  CZ_FIPS              500 non-null    int64  \n",
      " 18  WFO                  500 non-null    object \n",
      " 19  INJURIES_INDIRECT    500 non-null    int64  \n",
      " 20  DEATHS_INDIRECT      500 non-null    int64  \n",
      " 21  SOURCE               500 non-null    object \n",
      " 22  FLOOD_CAUSE          500 non-null    object \n",
      " 23  TOR_LENGTH           500 non-null    float64\n",
      " 24  TOR_WIDTH            500 non-null    int64  \n",
      " 25  BEGIN_RANGE          500 non-null    int64  \n",
      " 26  BEGIN_AZIMUTH        500 non-null    object \n",
      " 27  END_RANGE            500 non-null    int64  \n",
      " 28  END_AZIMUTH          500 non-null    object \n",
      " 29  END_LOCATION         500 non-null    object \n",
      " 30  BEGIN_LAT            500 non-null    float64\n",
      " 31  BEGIN_LON            500 non-null    float64\n",
      " 32  END_LAT              500 non-null    float64\n",
      " 33  END_LON              500 non-null    float64\n",
      " 34  ABSOLUTE_ROWNUMBER   500 non-null    int64  \n",
      "dtypes: float64(5), int64(14), object(16)\n",
      "memory usage: 136.8+ KB\n"
     ]
    }
   ],
   "source": [
    "# Checking for types and NaNs:\n",
    "raw_t1.info()"
   ]
  },
  {
   "cell_type": "markdown",
   "metadata": {},
   "source": [
    "All types seem to be correct and non Null values encountered"
   ]
  },
  {
   "cell_type": "code",
   "execution_count": 8,
   "metadata": {},
   "outputs": [
    {
     "data": {
      "text/plain": [
       "EF0    312\n",
       "EF1    153\n",
       "EF2     26\n",
       "EF3      8\n",
       "EF4      1\n",
       "Name: TOR_F_SCALE, dtype: int64"
      ]
     },
     "execution_count": 8,
     "metadata": {},
     "output_type": "execute_result"
    }
   ],
   "source": [
    "# Analysing the target distribution:\n",
    "raw_t1.TOR_F_SCALE.value_counts()"
   ]
  },
  {
   "cell_type": "markdown",
   "metadata": {},
   "source": [
    "In that first semester of 2015, only one tornado was counted as magnitude EF4. Let's see where and when it occurred:"
   ]
  },
  {
   "cell_type": "code",
   "execution_count": 9,
   "metadata": {},
   "outputs": [
    {
     "data": {
      "text/html": [
       "<div>\n",
       "<style scoped>\n",
       "    .dataframe tbody tr th:only-of-type {\n",
       "        vertical-align: middle;\n",
       "    }\n",
       "\n",
       "    .dataframe tbody tr th {\n",
       "        vertical-align: top;\n",
       "    }\n",
       "\n",
       "    .dataframe thead th {\n",
       "        text-align: right;\n",
       "    }\n",
       "</style>\n",
       "<table border=\"1\" class=\"dataframe\">\n",
       "  <thead>\n",
       "    <tr style=\"text-align: right;\">\n",
       "      <th></th>\n",
       "      <th>99</th>\n",
       "    </tr>\n",
       "  </thead>\n",
       "  <tbody>\n",
       "    <tr>\n",
       "      <th>EVENT_ID</th>\n",
       "      <td>574337</td>\n",
       "    </tr>\n",
       "    <tr>\n",
       "      <th>CZ_NAME_STR</th>\n",
       "      <td>OGLE CO.</td>\n",
       "    </tr>\n",
       "    <tr>\n",
       "      <th>BEGIN_LOCATION</th>\n",
       "      <td>CARTHAGE</td>\n",
       "    </tr>\n",
       "    <tr>\n",
       "      <th>BEGIN_DATE</th>\n",
       "      <td>04/09/2015</td>\n",
       "    </tr>\n",
       "    <tr>\n",
       "      <th>BEGIN_TIME</th>\n",
       "      <td>1743</td>\n",
       "    </tr>\n",
       "    <tr>\n",
       "      <th>EVENT_TYPE</th>\n",
       "      <td>Tornado</td>\n",
       "    </tr>\n",
       "    <tr>\n",
       "      <th>MAGNITUDE</th>\n",
       "      <td></td>\n",
       "    </tr>\n",
       "    <tr>\n",
       "      <th>TOR_F_SCALE</th>\n",
       "      <td>EF4</td>\n",
       "    </tr>\n",
       "    <tr>\n",
       "      <th>DEATHS_DIRECT</th>\n",
       "      <td>0</td>\n",
       "    </tr>\n",
       "    <tr>\n",
       "      <th>INJURIES_DIRECT</th>\n",
       "      <td>0</td>\n",
       "    </tr>\n",
       "    <tr>\n",
       "      <th>DAMAGE_PROPERTY_NUM</th>\n",
       "      <td>10000000</td>\n",
       "    </tr>\n",
       "    <tr>\n",
       "      <th>DAMAGE_CROPS_NUM</th>\n",
       "      <td>0</td>\n",
       "    </tr>\n",
       "    <tr>\n",
       "      <th>STATE_ABBR</th>\n",
       "      <td>IL</td>\n",
       "    </tr>\n",
       "    <tr>\n",
       "      <th>CZ_TIMEZONE</th>\n",
       "      <td>CST-6</td>\n",
       "    </tr>\n",
       "    <tr>\n",
       "      <th>MAGNITUDE_TYPE</th>\n",
       "      <td></td>\n",
       "    </tr>\n",
       "    <tr>\n",
       "      <th>EPISODE_ID</th>\n",
       "      <td>95584</td>\n",
       "    </tr>\n",
       "    <tr>\n",
       "      <th>CZ_TYPE</th>\n",
       "      <td>C</td>\n",
       "    </tr>\n",
       "    <tr>\n",
       "      <th>CZ_FIPS</th>\n",
       "      <td>141</td>\n",
       "    </tr>\n",
       "    <tr>\n",
       "      <th>WFO</th>\n",
       "      <td>LOT</td>\n",
       "    </tr>\n",
       "    <tr>\n",
       "      <th>INJURIES_INDIRECT</th>\n",
       "      <td>0</td>\n",
       "    </tr>\n",
       "    <tr>\n",
       "      <th>DEATHS_INDIRECT</th>\n",
       "      <td>0</td>\n",
       "    </tr>\n",
       "    <tr>\n",
       "      <th>SOURCE</th>\n",
       "      <td>NWS Storm Survey</td>\n",
       "    </tr>\n",
       "    <tr>\n",
       "      <th>FLOOD_CAUSE</th>\n",
       "      <td></td>\n",
       "    </tr>\n",
       "    <tr>\n",
       "      <th>TOR_LENGTH</th>\n",
       "      <td>20.94</td>\n",
       "    </tr>\n",
       "    <tr>\n",
       "      <th>TOR_WIDTH</th>\n",
       "      <td>700</td>\n",
       "    </tr>\n",
       "    <tr>\n",
       "      <th>BEGIN_RANGE</th>\n",
       "      <td>5</td>\n",
       "    </tr>\n",
       "    <tr>\n",
       "      <th>BEGIN_AZIMUTH</th>\n",
       "      <td>ESE</td>\n",
       "    </tr>\n",
       "    <tr>\n",
       "      <th>END_RANGE</th>\n",
       "      <td>3</td>\n",
       "    </tr>\n",
       "    <tr>\n",
       "      <th>END_AZIMUTH</th>\n",
       "      <td>E</td>\n",
       "    </tr>\n",
       "    <tr>\n",
       "      <th>END_LOCATION</th>\n",
       "      <td>MONROE CENTER</td>\n",
       "    </tr>\n",
       "    <tr>\n",
       "      <th>BEGIN_LAT</th>\n",
       "      <td>41.8886</td>\n",
       "    </tr>\n",
       "    <tr>\n",
       "      <th>BEGIN_LON</th>\n",
       "      <td>-89.2381</td>\n",
       "    </tr>\n",
       "    <tr>\n",
       "      <th>END_LAT</th>\n",
       "      <td>42.0947</td>\n",
       "    </tr>\n",
       "    <tr>\n",
       "      <th>END_LON</th>\n",
       "      <td>-88.9392</td>\n",
       "    </tr>\n",
       "    <tr>\n",
       "      <th>ABSOLUTE_ROWNUMBER</th>\n",
       "      <td>100</td>\n",
       "    </tr>\n",
       "  </tbody>\n",
       "</table>\n",
       "</div>"
      ],
      "text/plain": [
       "                                   99\n",
       "EVENT_ID                       574337\n",
       "CZ_NAME_STR                  OGLE CO.\n",
       "BEGIN_LOCATION               CARTHAGE\n",
       "BEGIN_DATE                 04/09/2015\n",
       "BEGIN_TIME                       1743\n",
       "EVENT_TYPE                    Tornado\n",
       "MAGNITUDE                            \n",
       "TOR_F_SCALE                       EF4\n",
       "DEATHS_DIRECT                       0\n",
       "INJURIES_DIRECT                     0\n",
       "DAMAGE_PROPERTY_NUM          10000000\n",
       "DAMAGE_CROPS_NUM                    0\n",
       "STATE_ABBR                         IL\n",
       "CZ_TIMEZONE                     CST-6\n",
       "MAGNITUDE_TYPE                       \n",
       "EPISODE_ID                      95584\n",
       "CZ_TYPE                             C\n",
       "CZ_FIPS                           141\n",
       "WFO                               LOT\n",
       "INJURIES_INDIRECT                   0\n",
       "DEATHS_INDIRECT                     0\n",
       "SOURCE               NWS Storm Survey\n",
       "FLOOD_CAUSE                          \n",
       "TOR_LENGTH                      20.94\n",
       "TOR_WIDTH                         700\n",
       "BEGIN_RANGE                         5\n",
       "BEGIN_AZIMUTH                     ESE\n",
       "END_RANGE                           3\n",
       "END_AZIMUTH                         E\n",
       "END_LOCATION            MONROE CENTER\n",
       "BEGIN_LAT                     41.8886\n",
       "BEGIN_LON                    -89.2381\n",
       "END_LAT                       42.0947\n",
       "END_LON                      -88.9392\n",
       "ABSOLUTE_ROWNUMBER                100"
      ]
     },
     "execution_count": 9,
     "metadata": {},
     "output_type": "execute_result"
    }
   ],
   "source": [
    "raw_t1[raw_t1['TOR_F_SCALE']=='EF4'].T"
   ]
  },
  {
   "cell_type": "markdown",
   "metadata": {},
   "source": [
    "It happened in Ilinois on April 9, 2015. It is know as the Rochelle-Fairdel EF-4 event."
   ]
  },
  {
   "cell_type": "markdown",
   "metadata": {},
   "source": [
    "The 2015 Rochelle-Fairdel tornado near peak intensity:\n",
    "![The 2015 Rochelle-Fairdel tornado near peak intensity](https://upload.wikimedia.org/wikipedia/commons/thumb/7/7d/PraderScott_Rochelle.jpg/270px-PraderScott_Rochelle.jpg)"
   ]
  },
  {
   "cell_type": "code",
   "execution_count": 10,
   "metadata": {},
   "outputs": [
    {
     "data": {
      "image/png": "[encoded data removed]",
      "text/plain": [
       "<Figure size 432x288 with 1 Axes>"
      ]
     },
     "metadata": {
      "needs_background": "light"
     },
     "output_type": "display_data"
    }
   ],
   "source": [
    "# Checking death casualties, taking both direct and indirect ones together:\n",
    "pd.DataFrame(raw_t1.DEATHS_DIRECT+raw_t1.DEATHS_INDIRECT+raw_t1.INJURIES_DIRECT+raw_t1.INJURIES_INDIRECT).hist(bins=40, figsize=(6,4))\n",
    "plt.title(\"Death casualties distribution\")\n",
    "plt.xlabel(\"Number of direct and indirect deaths\")\n",
    "plt.ylabel(\"Tornado count\")\n",
    "plt.show()"
   ]
  },
  {
   "cell_type": "code",
   "execution_count": 11,
   "metadata": {},
   "outputs": [
    {
     "data": {
      "text/html": [
       "<div>\n",
       "<style scoped>\n",
       "    .dataframe tbody tr th:only-of-type {\n",
       "        vertical-align: middle;\n",
       "    }\n",
       "\n",
       "    .dataframe tbody tr th {\n",
       "        vertical-align: top;\n",
       "    }\n",
       "\n",
       "    .dataframe thead th {\n",
       "        text-align: right;\n",
       "    }\n",
       "</style>\n",
       "<table border=\"1\" class=\"dataframe\">\n",
       "  <thead>\n",
       "    <tr style=\"text-align: right;\">\n",
       "      <th></th>\n",
       "      <th>EVENT_ID</th>\n",
       "      <th>CZ_NAME_STR</th>\n",
       "      <th>BEGIN_LOCATION</th>\n",
       "      <th>BEGIN_DATE</th>\n",
       "      <th>BEGIN_TIME</th>\n",
       "      <th>EVENT_TYPE</th>\n",
       "      <th>MAGNITUDE</th>\n",
       "      <th>TOR_F_SCALE</th>\n",
       "      <th>DEATHS_DIRECT</th>\n",
       "      <th>INJURIES_DIRECT</th>\n",
       "      <th>...</th>\n",
       "      <th>BEGIN_RANGE</th>\n",
       "      <th>BEGIN_AZIMUTH</th>\n",
       "      <th>END_RANGE</th>\n",
       "      <th>END_AZIMUTH</th>\n",
       "      <th>END_LOCATION</th>\n",
       "      <th>BEGIN_LAT</th>\n",
       "      <th>BEGIN_LON</th>\n",
       "      <th>END_LAT</th>\n",
       "      <th>END_LON</th>\n",
       "      <th>ABSOLUTE_ROWNUMBER</th>\n",
       "    </tr>\n",
       "  </thead>\n",
       "  <tbody>\n",
       "    <tr>\n",
       "      <th>38</th>\n",
       "      <td>560188</td>\n",
       "      <td>TULSA CO.</td>\n",
       "      <td>WEKIWA</td>\n",
       "      <td>03/25/2015</td>\n",
       "      <td>1630</td>\n",
       "      <td>Tornado</td>\n",
       "      <td></td>\n",
       "      <td>EF2</td>\n",
       "      <td>1</td>\n",
       "      <td>30</td>\n",
       "      <td>...</td>\n",
       "      <td>2</td>\n",
       "      <td>WNW</td>\n",
       "      <td>1</td>\n",
       "      <td>NNE</td>\n",
       "      <td>PRATTVILLE</td>\n",
       "      <td>36.1615</td>\n",
       "      <td>-96.2181</td>\n",
       "      <td>36.1332</td>\n",
       "      <td>-96.1167</td>\n",
       "      <td>39</td>\n",
       "    </tr>\n",
       "    <tr>\n",
       "      <th>102</th>\n",
       "      <td>574338</td>\n",
       "      <td>DE KALB CO.</td>\n",
       "      <td>FAIRDALE</td>\n",
       "      <td>04/09/2015</td>\n",
       "      <td>1812</td>\n",
       "      <td>Tornado</td>\n",
       "      <td></td>\n",
       "      <td>EF3</td>\n",
       "      <td>2</td>\n",
       "      <td>11</td>\n",
       "      <td>...</td>\n",
       "      <td>1</td>\n",
       "      <td>SW</td>\n",
       "      <td>4</td>\n",
       "      <td>NNE</td>\n",
       "      <td>FAIRDALE</td>\n",
       "      <td>42.0947</td>\n",
       "      <td>-88.9392</td>\n",
       "      <td>42.1529</td>\n",
       "      <td>-88.8869</td>\n",
       "      <td>103</td>\n",
       "    </tr>\n",
       "    <tr>\n",
       "      <th>328</th>\n",
       "      <td>575796</td>\n",
       "      <td>EASTLAND CO.</td>\n",
       "      <td>NIMROD</td>\n",
       "      <td>05/09/2015</td>\n",
       "      <td>1532</td>\n",
       "      <td>Tornado</td>\n",
       "      <td></td>\n",
       "      <td>EF3</td>\n",
       "      <td>1</td>\n",
       "      <td>2</td>\n",
       "      <td>...</td>\n",
       "      <td>3</td>\n",
       "      <td>NE</td>\n",
       "      <td>5</td>\n",
       "      <td>SSE</td>\n",
       "      <td>CISCO</td>\n",
       "      <td>32.3032</td>\n",
       "      <td>-99.0133</td>\n",
       "      <td>32.3098</td>\n",
       "      <td>-98.9489</td>\n",
       "      <td>329</td>\n",
       "    </tr>\n",
       "    <tr>\n",
       "      <th>376</th>\n",
       "      <td>570339</td>\n",
       "      <td>VAN ZANDT CO.</td>\n",
       "      <td>PRIMROSE</td>\n",
       "      <td>05/10/2015</td>\n",
       "      <td>1946</td>\n",
       "      <td>Tornado</td>\n",
       "      <td></td>\n",
       "      <td>EF3</td>\n",
       "      <td>2</td>\n",
       "      <td>43</td>\n",
       "      <td>...</td>\n",
       "      <td>2</td>\n",
       "      <td>SW</td>\n",
       "      <td>3</td>\n",
       "      <td>NNE</td>\n",
       "      <td>VAN</td>\n",
       "      <td>32.4095</td>\n",
       "      <td>-95.6190</td>\n",
       "      <td>32.5569</td>\n",
       "      <td>-95.6329</td>\n",
       "      <td>377</td>\n",
       "    </tr>\n",
       "    <tr>\n",
       "      <th>379</th>\n",
       "      <td>566748</td>\n",
       "      <td>HOWARD CO.</td>\n",
       "      <td>NASHVILLE</td>\n",
       "      <td>05/10/2015</td>\n",
       "      <td>2218</td>\n",
       "      <td>Tornado</td>\n",
       "      <td></td>\n",
       "      <td>EF2</td>\n",
       "      <td>2</td>\n",
       "      <td>8</td>\n",
       "      <td>...</td>\n",
       "      <td>1</td>\n",
       "      <td>W</td>\n",
       "      <td>2</td>\n",
       "      <td>SW</td>\n",
       "      <td>CORINTH</td>\n",
       "      <td>33.9311</td>\n",
       "      <td>-93.8659</td>\n",
       "      <td>34.0280</td>\n",
       "      <td>-93.8617</td>\n",
       "      <td>380</td>\n",
       "    </tr>\n",
       "  </tbody>\n",
       "</table>\n",
       "<p>5 rows × 35 columns</p>\n",
       "</div>"
      ],
      "text/plain": [
       "     EVENT_ID    CZ_NAME_STR BEGIN_LOCATION  BEGIN_DATE  BEGIN_TIME  \\\n",
       "38     560188      TULSA CO.         WEKIWA  03/25/2015        1630   \n",
       "102    574338    DE KALB CO.       FAIRDALE  04/09/2015        1812   \n",
       "328    575796   EASTLAND CO.         NIMROD  05/09/2015        1532   \n",
       "376    570339  VAN ZANDT CO.       PRIMROSE  05/10/2015        1946   \n",
       "379    566748     HOWARD CO.      NASHVILLE  05/10/2015        2218   \n",
       "\n",
       "    EVENT_TYPE MAGNITUDE TOR_F_SCALE  DEATHS_DIRECT  INJURIES_DIRECT  ...  \\\n",
       "38     Tornado                   EF2              1               30  ...   \n",
       "102    Tornado                   EF3              2               11  ...   \n",
       "328    Tornado                   EF3              1                2  ...   \n",
       "376    Tornado                   EF3              2               43  ...   \n",
       "379    Tornado                   EF2              2                8  ...   \n",
       "\n",
       "     BEGIN_RANGE  BEGIN_AZIMUTH END_RANGE END_AZIMUTH END_LOCATION  BEGIN_LAT  \\\n",
       "38             2            WNW         1         NNE   PRATTVILLE    36.1615   \n",
       "102            1             SW         4         NNE     FAIRDALE    42.0947   \n",
       "328            3             NE         5         SSE        CISCO    32.3032   \n",
       "376            2             SW         3         NNE          VAN    32.4095   \n",
       "379            1              W         2          SW      CORINTH    33.9311   \n",
       "\n",
       "    BEGIN_LON  END_LAT  END_LON  ABSOLUTE_ROWNUMBER  \n",
       "38   -96.2181  36.1332 -96.1167                  39  \n",
       "102  -88.9392  42.1529 -88.8869                 103  \n",
       "328  -99.0133  32.3098 -98.9489                 329  \n",
       "376  -95.6190  32.5569 -95.6329                 377  \n",
       "379  -93.8659  34.0280 -93.8617                 380  \n",
       "\n",
       "[5 rows x 35 columns]"
      ]
     },
     "execution_count": 11,
     "metadata": {},
     "output_type": "execute_result"
    }
   ],
   "source": [
    "raw_t1[(raw_t1['DEATHS_DIRECT'] > 0)]"
   ]
  },
  {
   "cell_type": "code",
   "execution_count": 12,
   "metadata": {},
   "outputs": [
    {
     "data": {
      "text/html": [
       "<div>\n",
       "<style scoped>\n",
       "    .dataframe tbody tr th:only-of-type {\n",
       "        vertical-align: middle;\n",
       "    }\n",
       "\n",
       "    .dataframe tbody tr th {\n",
       "        vertical-align: top;\n",
       "    }\n",
       "\n",
       "    .dataframe thead th {\n",
       "        text-align: right;\n",
       "    }\n",
       "</style>\n",
       "<table border=\"1\" class=\"dataframe\">\n",
       "  <thead>\n",
       "    <tr style=\"text-align: right;\">\n",
       "      <th></th>\n",
       "      <th>EVENT_ID</th>\n",
       "      <th>CZ_NAME_STR</th>\n",
       "      <th>BEGIN_LOCATION</th>\n",
       "      <th>BEGIN_DATE</th>\n",
       "      <th>BEGIN_TIME</th>\n",
       "      <th>EVENT_TYPE</th>\n",
       "      <th>MAGNITUDE</th>\n",
       "      <th>TOR_F_SCALE</th>\n",
       "      <th>DEATHS_DIRECT</th>\n",
       "      <th>INJURIES_DIRECT</th>\n",
       "      <th>...</th>\n",
       "      <th>BEGIN_RANGE</th>\n",
       "      <th>BEGIN_AZIMUTH</th>\n",
       "      <th>END_RANGE</th>\n",
       "      <th>END_AZIMUTH</th>\n",
       "      <th>END_LOCATION</th>\n",
       "      <th>BEGIN_LAT</th>\n",
       "      <th>BEGIN_LON</th>\n",
       "      <th>END_LAT</th>\n",
       "      <th>END_LON</th>\n",
       "      <th>ABSOLUTE_ROWNUMBER</th>\n",
       "    </tr>\n",
       "  </thead>\n",
       "  <tbody>\n",
       "  </tbody>\n",
       "</table>\n",
       "<p>0 rows × 35 columns</p>\n",
       "</div>"
      ],
      "text/plain": [
       "Empty DataFrame\n",
       "Columns: [EVENT_ID, CZ_NAME_STR, BEGIN_LOCATION, BEGIN_DATE, BEGIN_TIME, EVENT_TYPE, MAGNITUDE, TOR_F_SCALE, DEATHS_DIRECT, INJURIES_DIRECT, DAMAGE_PROPERTY_NUM, DAMAGE_CROPS_NUM, STATE_ABBR, CZ_TIMEZONE, MAGNITUDE_TYPE, EPISODE_ID, CZ_TYPE, CZ_FIPS, WFO, INJURIES_INDIRECT, DEATHS_INDIRECT, SOURCE, FLOOD_CAUSE, TOR_LENGTH, TOR_WIDTH, BEGIN_RANGE, BEGIN_AZIMUTH, END_RANGE, END_AZIMUTH, END_LOCATION, BEGIN_LAT, BEGIN_LON, END_LAT, END_LON, ABSOLUTE_ROWNUMBER]\n",
       "Index: []\n",
       "\n",
       "[0 rows x 35 columns]"
      ]
     },
     "execution_count": 12,
     "metadata": {},
     "output_type": "execute_result"
    }
   ],
   "source": [
    "raw_t1[(raw_t1['DEATHS_INDIRECT'] > 0)]"
   ]
  },
  {
   "cell_type": "code",
   "execution_count": 13,
   "metadata": {},
   "outputs": [
    {
     "data": {
      "text/html": [
       "<div>\n",
       "<style scoped>\n",
       "    .dataframe tbody tr th:only-of-type {\n",
       "        vertical-align: middle;\n",
       "    }\n",
       "\n",
       "    .dataframe tbody tr th {\n",
       "        vertical-align: top;\n",
       "    }\n",
       "\n",
       "    .dataframe thead th {\n",
       "        text-align: right;\n",
       "    }\n",
       "</style>\n",
       "<table border=\"1\" class=\"dataframe\">\n",
       "  <thead>\n",
       "    <tr style=\"text-align: right;\">\n",
       "      <th></th>\n",
       "      <th>EVENT_ID</th>\n",
       "      <th>CZ_NAME_STR</th>\n",
       "      <th>BEGIN_LOCATION</th>\n",
       "      <th>BEGIN_DATE</th>\n",
       "      <th>BEGIN_TIME</th>\n",
       "      <th>EVENT_TYPE</th>\n",
       "      <th>MAGNITUDE</th>\n",
       "      <th>TOR_F_SCALE</th>\n",
       "      <th>DEATHS_DIRECT</th>\n",
       "      <th>INJURIES_DIRECT</th>\n",
       "      <th>...</th>\n",
       "      <th>BEGIN_RANGE</th>\n",
       "      <th>BEGIN_AZIMUTH</th>\n",
       "      <th>END_RANGE</th>\n",
       "      <th>END_AZIMUTH</th>\n",
       "      <th>END_LOCATION</th>\n",
       "      <th>BEGIN_LAT</th>\n",
       "      <th>BEGIN_LON</th>\n",
       "      <th>END_LAT</th>\n",
       "      <th>END_LON</th>\n",
       "      <th>ABSOLUTE_ROWNUMBER</th>\n",
       "    </tr>\n",
       "  </thead>\n",
       "  <tbody>\n",
       "    <tr>\n",
       "      <th>26</th>\n",
       "      <td>552418</td>\n",
       "      <td>BACON CO.</td>\n",
       "      <td>ROCKINGHAM</td>\n",
       "      <td>01/04/2015</td>\n",
       "      <td>1303</td>\n",
       "      <td>Tornado</td>\n",
       "      <td></td>\n",
       "      <td>EF1</td>\n",
       "      <td>0</td>\n",
       "      <td>2</td>\n",
       "      <td>...</td>\n",
       "      <td>1</td>\n",
       "      <td>SSW</td>\n",
       "      <td>2</td>\n",
       "      <td>NNE</td>\n",
       "      <td>NEW LACY</td>\n",
       "      <td>31.5345</td>\n",
       "      <td>-82.4286</td>\n",
       "      <td>31.5719</td>\n",
       "      <td>-82.3597</td>\n",
       "      <td>27</td>\n",
       "    </tr>\n",
       "    <tr>\n",
       "      <th>38</th>\n",
       "      <td>560188</td>\n",
       "      <td>TULSA CO.</td>\n",
       "      <td>WEKIWA</td>\n",
       "      <td>03/25/2015</td>\n",
       "      <td>1630</td>\n",
       "      <td>Tornado</td>\n",
       "      <td></td>\n",
       "      <td>EF2</td>\n",
       "      <td>1</td>\n",
       "      <td>30</td>\n",
       "      <td>...</td>\n",
       "      <td>2</td>\n",
       "      <td>WNW</td>\n",
       "      <td>1</td>\n",
       "      <td>NNE</td>\n",
       "      <td>PRATTVILLE</td>\n",
       "      <td>36.1615</td>\n",
       "      <td>-96.2181</td>\n",
       "      <td>36.1332</td>\n",
       "      <td>-96.1167</td>\n",
       "      <td>39</td>\n",
       "    </tr>\n",
       "    <tr>\n",
       "      <th>44</th>\n",
       "      <td>568694</td>\n",
       "      <td>CLEVELAND CO.</td>\n",
       "      <td>MOORE</td>\n",
       "      <td>03/25/2015</td>\n",
       "      <td>1734</td>\n",
       "      <td>Tornado</td>\n",
       "      <td></td>\n",
       "      <td>EF2</td>\n",
       "      <td>0</td>\n",
       "      <td>7</td>\n",
       "      <td>...</td>\n",
       "      <td>4</td>\n",
       "      <td>W</td>\n",
       "      <td>4</td>\n",
       "      <td>SSW</td>\n",
       "      <td>STANLEY DRAPER LAKE DAM</td>\n",
       "      <td>35.3482</td>\n",
       "      <td>-97.5658</td>\n",
       "      <td>35.2849</td>\n",
       "      <td>-97.3828</td>\n",
       "      <td>45</td>\n",
       "    </tr>\n",
       "    <tr>\n",
       "      <th>55</th>\n",
       "      <td>560149</td>\n",
       "      <td>CRAIG CO.</td>\n",
       "      <td>KELSO</td>\n",
       "      <td>04/02/2015</td>\n",
       "      <td>2059</td>\n",
       "      <td>Tornado</td>\n",
       "      <td></td>\n",
       "      <td>EF1</td>\n",
       "      <td>0</td>\n",
       "      <td>1</td>\n",
       "      <td>...</td>\n",
       "      <td>0</td>\n",
       "      <td>NE</td>\n",
       "      <td>1</td>\n",
       "      <td>ENE</td>\n",
       "      <td>TODD</td>\n",
       "      <td>36.7045</td>\n",
       "      <td>-95.0953</td>\n",
       "      <td>36.6804</td>\n",
       "      <td>-94.9993</td>\n",
       "      <td>56</td>\n",
       "    </tr>\n",
       "    <tr>\n",
       "      <th>102</th>\n",
       "      <td>574338</td>\n",
       "      <td>DE KALB CO.</td>\n",
       "      <td>FAIRDALE</td>\n",
       "      <td>04/09/2015</td>\n",
       "      <td>1812</td>\n",
       "      <td>Tornado</td>\n",
       "      <td></td>\n",
       "      <td>EF3</td>\n",
       "      <td>2</td>\n",
       "      <td>11</td>\n",
       "      <td>...</td>\n",
       "      <td>1</td>\n",
       "      <td>SW</td>\n",
       "      <td>4</td>\n",
       "      <td>NNE</td>\n",
       "      <td>FAIRDALE</td>\n",
       "      <td>42.0947</td>\n",
       "      <td>-88.9392</td>\n",
       "      <td>42.1529</td>\n",
       "      <td>-88.8869</td>\n",
       "      <td>103</td>\n",
       "    </tr>\n",
       "    <tr>\n",
       "      <th>164</th>\n",
       "      <td>561168</td>\n",
       "      <td>CALHOUN CO.</td>\n",
       "      <td>HAMMOND XRDS</td>\n",
       "      <td>04/19/2015</td>\n",
       "      <td>1620</td>\n",
       "      <td>Tornado</td>\n",
       "      <td></td>\n",
       "      <td>EF1</td>\n",
       "      <td>0</td>\n",
       "      <td>2</td>\n",
       "      <td>...</td>\n",
       "      <td>5</td>\n",
       "      <td>SW</td>\n",
       "      <td>4</td>\n",
       "      <td>SW</td>\n",
       "      <td>HAMMOND XRDS</td>\n",
       "      <td>33.6978</td>\n",
       "      <td>-80.9298</td>\n",
       "      <td>33.7016</td>\n",
       "      <td>-80.9290</td>\n",
       "      <td>165</td>\n",
       "    </tr>\n",
       "    <tr>\n",
       "      <th>254</th>\n",
       "      <td>576437</td>\n",
       "      <td>JEWELL CO.</td>\n",
       "      <td>ESBON</td>\n",
       "      <td>05/06/2015</td>\n",
       "      <td>1455</td>\n",
       "      <td>Tornado</td>\n",
       "      <td></td>\n",
       "      <td>EF2</td>\n",
       "      <td>0</td>\n",
       "      <td>1</td>\n",
       "      <td>...</td>\n",
       "      <td>5</td>\n",
       "      <td>SE</td>\n",
       "      <td>6</td>\n",
       "      <td>N</td>\n",
       "      <td>BURR OAK</td>\n",
       "      <td>39.7781</td>\n",
       "      <td>-98.3652</td>\n",
       "      <td>39.9505</td>\n",
       "      <td>-98.2889</td>\n",
       "      <td>255</td>\n",
       "    </tr>\n",
       "    <tr>\n",
       "      <th>261</th>\n",
       "      <td>565780</td>\n",
       "      <td>SEDGWICK CO.</td>\n",
       "      <td>MT HOPE</td>\n",
       "      <td>05/06/2015</td>\n",
       "      <td>1549</td>\n",
       "      <td>Tornado</td>\n",
       "      <td></td>\n",
       "      <td>EF3</td>\n",
       "      <td>0</td>\n",
       "      <td>1</td>\n",
       "      <td>...</td>\n",
       "      <td>2</td>\n",
       "      <td>SSE</td>\n",
       "      <td>4</td>\n",
       "      <td>NE</td>\n",
       "      <td>MT HOPE</td>\n",
       "      <td>37.8404</td>\n",
       "      <td>-97.6507</td>\n",
       "      <td>37.9120</td>\n",
       "      <td>-97.6203</td>\n",
       "      <td>262</td>\n",
       "    </tr>\n",
       "    <tr>\n",
       "      <th>291</th>\n",
       "      <td>581866</td>\n",
       "      <td>OKLAHOMA CO.</td>\n",
       "      <td>VALLEY BROOK</td>\n",
       "      <td>05/06/2015</td>\n",
       "      <td>1941</td>\n",
       "      <td>Tornado</td>\n",
       "      <td></td>\n",
       "      <td>EF3</td>\n",
       "      <td>0</td>\n",
       "      <td>12</td>\n",
       "      <td>...</td>\n",
       "      <td>0</td>\n",
       "      <td>NNE</td>\n",
       "      <td>2</td>\n",
       "      <td>NW</td>\n",
       "      <td>VALLEY BROOK</td>\n",
       "      <td>35.4061</td>\n",
       "      <td>-97.4769</td>\n",
       "      <td>35.4209</td>\n",
       "      <td>-97.4994</td>\n",
       "      <td>292</td>\n",
       "    </tr>\n",
       "    <tr>\n",
       "      <th>310</th>\n",
       "      <td>570051</td>\n",
       "      <td>WISE CO.</td>\n",
       "      <td>FORD</td>\n",
       "      <td>05/07/2015</td>\n",
       "      <td>1745</td>\n",
       "      <td>Tornado</td>\n",
       "      <td></td>\n",
       "      <td>EF1</td>\n",
       "      <td>0</td>\n",
       "      <td>1</td>\n",
       "      <td>...</td>\n",
       "      <td>0</td>\n",
       "      <td>SE</td>\n",
       "      <td>2</td>\n",
       "      <td>NNE</td>\n",
       "      <td>BLUETT</td>\n",
       "      <td>33.1468</td>\n",
       "      <td>-97.4658</td>\n",
       "      <td>33.1921</td>\n",
       "      <td>-97.4440</td>\n",
       "      <td>311</td>\n",
       "    </tr>\n",
       "    <tr>\n",
       "      <th>328</th>\n",
       "      <td>575796</td>\n",
       "      <td>EASTLAND CO.</td>\n",
       "      <td>NIMROD</td>\n",
       "      <td>05/09/2015</td>\n",
       "      <td>1532</td>\n",
       "      <td>Tornado</td>\n",
       "      <td></td>\n",
       "      <td>EF3</td>\n",
       "      <td>1</td>\n",
       "      <td>2</td>\n",
       "      <td>...</td>\n",
       "      <td>3</td>\n",
       "      <td>NE</td>\n",
       "      <td>5</td>\n",
       "      <td>SSE</td>\n",
       "      <td>CISCO</td>\n",
       "      <td>32.3032</td>\n",
       "      <td>-99.0133</td>\n",
       "      <td>32.3098</td>\n",
       "      <td>-98.9489</td>\n",
       "      <td>329</td>\n",
       "    </tr>\n",
       "    <tr>\n",
       "      <th>357</th>\n",
       "      <td>576975</td>\n",
       "      <td>DOUGLAS CO.</td>\n",
       "      <td>DELMONT</td>\n",
       "      <td>05/10/2015</td>\n",
       "      <td>934</td>\n",
       "      <td>Tornado</td>\n",
       "      <td></td>\n",
       "      <td>EF2</td>\n",
       "      <td>0</td>\n",
       "      <td>9</td>\n",
       "      <td>...</td>\n",
       "      <td>4</td>\n",
       "      <td>S</td>\n",
       "      <td>4</td>\n",
       "      <td>N</td>\n",
       "      <td>DELMONT</td>\n",
       "      <td>43.2180</td>\n",
       "      <td>-98.1770</td>\n",
       "      <td>43.3207</td>\n",
       "      <td>-98.1572</td>\n",
       "      <td>358</td>\n",
       "    </tr>\n",
       "    <tr>\n",
       "      <th>376</th>\n",
       "      <td>570339</td>\n",
       "      <td>VAN ZANDT CO.</td>\n",
       "      <td>PRIMROSE</td>\n",
       "      <td>05/10/2015</td>\n",
       "      <td>1946</td>\n",
       "      <td>Tornado</td>\n",
       "      <td></td>\n",
       "      <td>EF3</td>\n",
       "      <td>2</td>\n",
       "      <td>43</td>\n",
       "      <td>...</td>\n",
       "      <td>2</td>\n",
       "      <td>SW</td>\n",
       "      <td>3</td>\n",
       "      <td>NNE</td>\n",
       "      <td>VAN</td>\n",
       "      <td>32.4095</td>\n",
       "      <td>-95.6190</td>\n",
       "      <td>32.5569</td>\n",
       "      <td>-95.6329</td>\n",
       "      <td>377</td>\n",
       "    </tr>\n",
       "    <tr>\n",
       "      <th>379</th>\n",
       "      <td>566748</td>\n",
       "      <td>HOWARD CO.</td>\n",
       "      <td>NASHVILLE</td>\n",
       "      <td>05/10/2015</td>\n",
       "      <td>2218</td>\n",
       "      <td>Tornado</td>\n",
       "      <td></td>\n",
       "      <td>EF2</td>\n",
       "      <td>2</td>\n",
       "      <td>8</td>\n",
       "      <td>...</td>\n",
       "      <td>1</td>\n",
       "      <td>W</td>\n",
       "      <td>2</td>\n",
       "      <td>SW</td>\n",
       "      <td>CORINTH</td>\n",
       "      <td>33.9311</td>\n",
       "      <td>-93.8659</td>\n",
       "      <td>34.0280</td>\n",
       "      <td>-93.8617</td>\n",
       "      <td>380</td>\n",
       "    </tr>\n",
       "    <tr>\n",
       "      <th>390</th>\n",
       "      <td>580835</td>\n",
       "      <td>LA SALLE CO.</td>\n",
       "      <td>WOODWARD</td>\n",
       "      <td>05/15/2015</td>\n",
       "      <td>529</td>\n",
       "      <td>Tornado</td>\n",
       "      <td></td>\n",
       "      <td>EF1</td>\n",
       "      <td>0</td>\n",
       "      <td>1</td>\n",
       "      <td>...</td>\n",
       "      <td>4</td>\n",
       "      <td>W</td>\n",
       "      <td>3</td>\n",
       "      <td>WSW</td>\n",
       "      <td>WOODWARD</td>\n",
       "      <td>28.5419</td>\n",
       "      <td>-99.3889</td>\n",
       "      <td>28.5199</td>\n",
       "      <td>-99.3613</td>\n",
       "      <td>391</td>\n",
       "    </tr>\n",
       "    <tr>\n",
       "      <th>394</th>\n",
       "      <td>581094</td>\n",
       "      <td>SAN PATRICIO CO.</td>\n",
       "      <td>GREGORY</td>\n",
       "      <td>05/15/2015</td>\n",
       "      <td>1220</td>\n",
       "      <td>Tornado</td>\n",
       "      <td></td>\n",
       "      <td>EF0</td>\n",
       "      <td>0</td>\n",
       "      <td>3</td>\n",
       "      <td>...</td>\n",
       "      <td>2</td>\n",
       "      <td>SE</td>\n",
       "      <td>2</td>\n",
       "      <td>ESE</td>\n",
       "      <td>GREGORY</td>\n",
       "      <td>27.9043</td>\n",
       "      <td>-97.2797</td>\n",
       "      <td>27.9206</td>\n",
       "      <td>-97.2669</td>\n",
       "      <td>395</td>\n",
       "    </tr>\n",
       "    <tr>\n",
       "      <th>460</th>\n",
       "      <td>579435</td>\n",
       "      <td>OTTAWA CO.</td>\n",
       "      <td>FAIRLAND</td>\n",
       "      <td>05/16/2015</td>\n",
       "      <td>2338</td>\n",
       "      <td>Tornado</td>\n",
       "      <td></td>\n",
       "      <td>EF1</td>\n",
       "      <td>0</td>\n",
       "      <td>1</td>\n",
       "      <td>...</td>\n",
       "      <td>5</td>\n",
       "      <td>SSE</td>\n",
       "      <td>3</td>\n",
       "      <td>ESE</td>\n",
       "      <td>WYANDOTTE</td>\n",
       "      <td>36.6812</td>\n",
       "      <td>-94.8289</td>\n",
       "      <td>36.7866</td>\n",
       "      <td>-94.6860</td>\n",
       "      <td>461</td>\n",
       "    </tr>\n",
       "    <tr>\n",
       "      <th>474</th>\n",
       "      <td>569228</td>\n",
       "      <td>TANGIPAHOA PAR.</td>\n",
       "      <td>TICKFAW</td>\n",
       "      <td>05/17/2015</td>\n",
       "      <td>230</td>\n",
       "      <td>Tornado</td>\n",
       "      <td></td>\n",
       "      <td>EF1</td>\n",
       "      <td>0</td>\n",
       "      <td>2</td>\n",
       "      <td>...</td>\n",
       "      <td>4</td>\n",
       "      <td>WSW</td>\n",
       "      <td>4</td>\n",
       "      <td>W</td>\n",
       "      <td>TICKFAW</td>\n",
       "      <td>30.5479</td>\n",
       "      <td>-90.5421</td>\n",
       "      <td>30.5700</td>\n",
       "      <td>-90.5472</td>\n",
       "      <td>475</td>\n",
       "    </tr>\n",
       "    <tr>\n",
       "      <th>478</th>\n",
       "      <td>577987</td>\n",
       "      <td>LEE CO.</td>\n",
       "      <td>GIDDINGS</td>\n",
       "      <td>05/19/2015</td>\n",
       "      <td>1125</td>\n",
       "      <td>Tornado</td>\n",
       "      <td></td>\n",
       "      <td>EF0</td>\n",
       "      <td>0</td>\n",
       "      <td>1</td>\n",
       "      <td>...</td>\n",
       "      <td>3</td>\n",
       "      <td>ESE</td>\n",
       "      <td>1</td>\n",
       "      <td>E</td>\n",
       "      <td>GIDDINGS</td>\n",
       "      <td>30.1553</td>\n",
       "      <td>-96.8811</td>\n",
       "      <td>30.1774</td>\n",
       "      <td>-96.9063</td>\n",
       "      <td>479</td>\n",
       "    </tr>\n",
       "  </tbody>\n",
       "</table>\n",
       "<p>19 rows × 35 columns</p>\n",
       "</div>"
      ],
      "text/plain": [
       "     EVENT_ID       CZ_NAME_STR BEGIN_LOCATION  BEGIN_DATE  BEGIN_TIME  \\\n",
       "26     552418         BACON CO.     ROCKINGHAM  01/04/2015        1303   \n",
       "38     560188         TULSA CO.         WEKIWA  03/25/2015        1630   \n",
       "44     568694     CLEVELAND CO.          MOORE  03/25/2015        1734   \n",
       "55     560149         CRAIG CO.          KELSO  04/02/2015        2059   \n",
       "102    574338       DE KALB CO.       FAIRDALE  04/09/2015        1812   \n",
       "164    561168       CALHOUN CO.   HAMMOND XRDS  04/19/2015        1620   \n",
       "254    576437        JEWELL CO.          ESBON  05/06/2015        1455   \n",
       "261    565780      SEDGWICK CO.        MT HOPE  05/06/2015        1549   \n",
       "291    581866      OKLAHOMA CO.   VALLEY BROOK  05/06/2015        1941   \n",
       "310    570051          WISE CO.           FORD  05/07/2015        1745   \n",
       "328    575796      EASTLAND CO.         NIMROD  05/09/2015        1532   \n",
       "357    576975       DOUGLAS CO.        DELMONT  05/10/2015         934   \n",
       "376    570339     VAN ZANDT CO.       PRIMROSE  05/10/2015        1946   \n",
       "379    566748        HOWARD CO.      NASHVILLE  05/10/2015        2218   \n",
       "390    580835      LA SALLE CO.       WOODWARD  05/15/2015         529   \n",
       "394    581094  SAN PATRICIO CO.        GREGORY  05/15/2015        1220   \n",
       "460    579435        OTTAWA CO.       FAIRLAND  05/16/2015        2338   \n",
       "474    569228   TANGIPAHOA PAR.        TICKFAW  05/17/2015         230   \n",
       "478    577987           LEE CO.       GIDDINGS  05/19/2015        1125   \n",
       "\n",
       "    EVENT_TYPE MAGNITUDE TOR_F_SCALE  DEATHS_DIRECT  INJURIES_DIRECT  ...  \\\n",
       "26     Tornado                   EF1              0                2  ...   \n",
       "38     Tornado                   EF2              1               30  ...   \n",
       "44     Tornado                   EF2              0                7  ...   \n",
       "55     Tornado                   EF1              0                1  ...   \n",
       "102    Tornado                   EF3              2               11  ...   \n",
       "164    Tornado                   EF1              0                2  ...   \n",
       "254    Tornado                   EF2              0                1  ...   \n",
       "261    Tornado                   EF3              0                1  ...   \n",
       "291    Tornado                   EF3              0               12  ...   \n",
       "310    Tornado                   EF1              0                1  ...   \n",
       "328    Tornado                   EF3              1                2  ...   \n",
       "357    Tornado                   EF2              0                9  ...   \n",
       "376    Tornado                   EF3              2               43  ...   \n",
       "379    Tornado                   EF2              2                8  ...   \n",
       "390    Tornado                   EF1              0                1  ...   \n",
       "394    Tornado                   EF0              0                3  ...   \n",
       "460    Tornado                   EF1              0                1  ...   \n",
       "474    Tornado                   EF1              0                2  ...   \n",
       "478    Tornado                   EF0              0                1  ...   \n",
       "\n",
       "     BEGIN_RANGE  BEGIN_AZIMUTH END_RANGE END_AZIMUTH  \\\n",
       "26             1            SSW         2         NNE   \n",
       "38             2            WNW         1         NNE   \n",
       "44             4              W         4         SSW   \n",
       "55             0             NE         1         ENE   \n",
       "102            1             SW         4         NNE   \n",
       "164            5             SW         4          SW   \n",
       "254            5             SE         6           N   \n",
       "261            2            SSE         4          NE   \n",
       "291            0            NNE         2          NW   \n",
       "310            0             SE         2         NNE   \n",
       "328            3             NE         5         SSE   \n",
       "357            4              S         4           N   \n",
       "376            2             SW         3         NNE   \n",
       "379            1              W         2          SW   \n",
       "390            4              W         3         WSW   \n",
       "394            2             SE         2         ESE   \n",
       "460            5            SSE         3         ESE   \n",
       "474            4            WSW         4           W   \n",
       "478            3            ESE         1           E   \n",
       "\n",
       "                END_LOCATION  BEGIN_LAT BEGIN_LON  END_LAT  END_LON  \\\n",
       "26                  NEW LACY    31.5345  -82.4286  31.5719 -82.3597   \n",
       "38                PRATTVILLE    36.1615  -96.2181  36.1332 -96.1167   \n",
       "44   STANLEY DRAPER LAKE DAM    35.3482  -97.5658  35.2849 -97.3828   \n",
       "55                      TODD    36.7045  -95.0953  36.6804 -94.9993   \n",
       "102                 FAIRDALE    42.0947  -88.9392  42.1529 -88.8869   \n",
       "164             HAMMOND XRDS    33.6978  -80.9298  33.7016 -80.9290   \n",
       "254                 BURR OAK    39.7781  -98.3652  39.9505 -98.2889   \n",
       "261                  MT HOPE    37.8404  -97.6507  37.9120 -97.6203   \n",
       "291             VALLEY BROOK    35.4061  -97.4769  35.4209 -97.4994   \n",
       "310                   BLUETT    33.1468  -97.4658  33.1921 -97.4440   \n",
       "328                    CISCO    32.3032  -99.0133  32.3098 -98.9489   \n",
       "357                  DELMONT    43.2180  -98.1770  43.3207 -98.1572   \n",
       "376                      VAN    32.4095  -95.6190  32.5569 -95.6329   \n",
       "379                  CORINTH    33.9311  -93.8659  34.0280 -93.8617   \n",
       "390                 WOODWARD    28.5419  -99.3889  28.5199 -99.3613   \n",
       "394                  GREGORY    27.9043  -97.2797  27.9206 -97.2669   \n",
       "460                WYANDOTTE    36.6812  -94.8289  36.7866 -94.6860   \n",
       "474                  TICKFAW    30.5479  -90.5421  30.5700 -90.5472   \n",
       "478                 GIDDINGS    30.1553  -96.8811  30.1774 -96.9063   \n",
       "\n",
       "     ABSOLUTE_ROWNUMBER  \n",
       "26                   27  \n",
       "38                   39  \n",
       "44                   45  \n",
       "55                   56  \n",
       "102                 103  \n",
       "164                 165  \n",
       "254                 255  \n",
       "261                 262  \n",
       "291                 292  \n",
       "310                 311  \n",
       "328                 329  \n",
       "357                 358  \n",
       "376                 377  \n",
       "379                 380  \n",
       "390                 391  \n",
       "394                 395  \n",
       "460                 461  \n",
       "474                 475  \n",
       "478                 479  \n",
       "\n",
       "[19 rows x 35 columns]"
      ]
     },
     "execution_count": 13,
     "metadata": {},
     "output_type": "execute_result"
    }
   ],
   "source": [
    "raw_t1[(raw_t1['INJURIES_DIRECT'] > 0)]"
   ]
  },
  {
   "cell_type": "code",
   "execution_count": 14,
   "metadata": {},
   "outputs": [
    {
     "data": {
      "text/html": [
       "<div>\n",
       "<style scoped>\n",
       "    .dataframe tbody tr th:only-of-type {\n",
       "        vertical-align: middle;\n",
       "    }\n",
       "\n",
       "    .dataframe tbody tr th {\n",
       "        vertical-align: top;\n",
       "    }\n",
       "\n",
       "    .dataframe thead th {\n",
       "        text-align: right;\n",
       "    }\n",
       "</style>\n",
       "<table border=\"1\" class=\"dataframe\">\n",
       "  <thead>\n",
       "    <tr style=\"text-align: right;\">\n",
       "      <th></th>\n",
       "      <th>EVENT_ID</th>\n",
       "      <th>CZ_NAME_STR</th>\n",
       "      <th>BEGIN_LOCATION</th>\n",
       "      <th>BEGIN_DATE</th>\n",
       "      <th>BEGIN_TIME</th>\n",
       "      <th>EVENT_TYPE</th>\n",
       "      <th>MAGNITUDE</th>\n",
       "      <th>TOR_F_SCALE</th>\n",
       "      <th>DEATHS_DIRECT</th>\n",
       "      <th>INJURIES_DIRECT</th>\n",
       "      <th>...</th>\n",
       "      <th>BEGIN_RANGE</th>\n",
       "      <th>BEGIN_AZIMUTH</th>\n",
       "      <th>END_RANGE</th>\n",
       "      <th>END_AZIMUTH</th>\n",
       "      <th>END_LOCATION</th>\n",
       "      <th>BEGIN_LAT</th>\n",
       "      <th>BEGIN_LON</th>\n",
       "      <th>END_LAT</th>\n",
       "      <th>END_LON</th>\n",
       "      <th>ABSOLUTE_ROWNUMBER</th>\n",
       "    </tr>\n",
       "  </thead>\n",
       "  <tbody>\n",
       "  </tbody>\n",
       "</table>\n",
       "<p>0 rows × 35 columns</p>\n",
       "</div>"
      ],
      "text/plain": [
       "Empty DataFrame\n",
       "Columns: [EVENT_ID, CZ_NAME_STR, BEGIN_LOCATION, BEGIN_DATE, BEGIN_TIME, EVENT_TYPE, MAGNITUDE, TOR_F_SCALE, DEATHS_DIRECT, INJURIES_DIRECT, DAMAGE_PROPERTY_NUM, DAMAGE_CROPS_NUM, STATE_ABBR, CZ_TIMEZONE, MAGNITUDE_TYPE, EPISODE_ID, CZ_TYPE, CZ_FIPS, WFO, INJURIES_INDIRECT, DEATHS_INDIRECT, SOURCE, FLOOD_CAUSE, TOR_LENGTH, TOR_WIDTH, BEGIN_RANGE, BEGIN_AZIMUTH, END_RANGE, END_AZIMUTH, END_LOCATION, BEGIN_LAT, BEGIN_LON, END_LAT, END_LON, ABSOLUTE_ROWNUMBER]\n",
       "Index: []\n",
       "\n",
       "[0 rows x 35 columns]"
      ]
     },
     "execution_count": 14,
     "metadata": {},
     "output_type": "execute_result"
    }
   ],
   "source": [
    "raw_t1[(raw_t1['INJURIES_INDIRECT'] > 0)]"
   ]
  },
  {
   "cell_type": "code",
   "execution_count": 15,
   "metadata": {},
   "outputs": [
    {
     "data": {
      "image/png": "[encoded data removed]",
      "text/plain": [
       "<Figure size 432x288 with 1 Axes>"
      ]
     },
     "metadata": {
      "needs_background": "light"
     },
     "output_type": "display_data"
    }
   ],
   "source": [
    "raw_t1.DAMAGE_PROPERTY_NUM.hist(bins=40, figsize=(6,4))\n",
    "plt.title(\"Property damage costs distribution\")\n",
    "plt.xlabel(\"Cost of damage in $\")\n",
    "plt.ylabel(\"Tornado count\")\n",
    "plt.show()"
   ]
  },
  {
   "cell_type": "code",
   "execution_count": 16,
   "metadata": {},
   "outputs": [
    {
     "data": {
      "text/plain": [
       "311"
      ]
     },
     "execution_count": 16,
     "metadata": {},
     "output_type": "execute_result"
    }
   ],
   "source": [
    "raw_t1[(raw_t1['DAMAGE_PROPERTY_NUM'] >= 0) & (raw_t1['DAMAGE_PROPERTY_NUM'] < 1)].shape[0]\n",
    "# raw_t1[(raw_t1['DAMAGE_PROPERTY_NUM'] >= 0) & (raw_t1['DAMAGE_PROPERTY_NUM'] < 1)].shape[0]\n"
   ]
  },
  {
   "cell_type": "markdown",
   "metadata": {},
   "source": [
    "From the two previous plots, we can can conclude that damaging tornadoes, in terms of casualties and of propoerties, is quite rare. This was quite obvious considering the distribution of the tornado magnitudes (most tornadoes are EF0 ones)"
   ]
  },
  {
   "cell_type": "code",
   "execution_count": 17,
   "metadata": {},
   "outputs": [
    {
     "data": {
      "image/png": "[encoded data removed]",
      "text/plain": [
       "<Figure size 432x288 with 1 Axes>"
      ]
     },
     "metadata": {
      "needs_background": "light"
     },
     "output_type": "display_data"
    }
   ],
   "source": [
    "raw_t1.TOR_LENGTH.hist(bins=20, figsize=(6,4))\n",
    "plt.title(\"Tornado length distribution\")\n",
    "plt.xlabel(\"Tornado length in miles\")\n",
    "plt.ylabel(\"Tornado count\")\n",
    "plt.show()"
   ]
  },
  {
   "cell_type": "code",
   "execution_count": 18,
   "metadata": {},
   "outputs": [
    {
     "data": {
      "image/png": "[encoded data removed]",
      "text/plain": [
       "<Figure size 432x288 with 1 Axes>"
      ]
     },
     "metadata": {
      "needs_background": "light"
     },
     "output_type": "display_data"
    }
   ],
   "source": [
    "raw_t1.TOR_WIDTH.hist(bins=20, figsize=(6,4))\n",
    "plt.title(\"Tornado width distribution\")\n",
    "plt.xlabel(\"Tornado width in feet\")\n",
    "plt.ylabel(\"Tornado count\")\n",
    "plt.show()"
   ]
  },
  {
   "cell_type": "markdown",
   "metadata": {},
   "source": [
    "Most tornadoes do not have a long path and are not very wide.<br>\n",
    "Big and powerful tornadoes are rare."
   ]
  },
  {
   "cell_type": "code",
   "execution_count": 19,
   "metadata": {},
   "outputs": [
    {
     "data": {
      "text/plain": [
       "TOR_F_SCALE\n",
       "EF0     1.573462\n",
       "EF1     3.937320\n",
       "EF2     9.869231\n",
       "EF3     5.978750\n",
       "EF4    20.940000\n",
       "Name: TOR_LENGTH, dtype: float64"
      ]
     },
     "execution_count": 19,
     "metadata": {},
     "output_type": "execute_result"
    }
   ],
   "source": [
    "# Checking the mean tornado length according to the magnitude:\n",
    "groupEFscale = raw_t1.groupby(by='TOR_F_SCALE')\n",
    "groupEFscale.TOR_LENGTH.mean()"
   ]
  },
  {
   "cell_type": "code",
   "execution_count": 20,
   "metadata": {},
   "outputs": [
    {
     "data": {
      "image/png": "[encoded data removed]",
      "text/plain": [
       "<Figure size 432x288 with 1 Axes>"
      ]
     },
     "metadata": {
      "needs_background": "light"
     },
     "output_type": "display_data"
    }
   ],
   "source": [
    "keys = list(groupEFscale.groups.keys())\n",
    "means = groupEFscale['TOR_LENGTH'].mean()\n",
    "\n",
    "plt.figure(figsize=(6,4))\n",
    "sns.set(font_scale=1.3)\n",
    "plt.title(\"Mean tornado length VS. magnitude - Jan to May 19, 2015\")\n",
    "sns.barplot(x=keys, y=means)\n",
    "plt.xlabel(\"Enhanced Fujita magnitude\")\n",
    "plt.ylabel(\"Mean tornado length in miles*10\")\n",
    "plt.show()"
   ]
  },
  {
   "cell_type": "markdown",
   "metadata": {},
   "source": [
    "It seems like the more powerful the tornado, the longer the length of its straight path."
   ]
  },
  {
   "cell_type": "code",
   "execution_count": 21,
   "metadata": {},
   "outputs": [
    {
     "data": {
      "image/png": "[encoded data removed]",
      "text/plain": [
       "<Figure size 432x288 with 1 Axes>"
      ]
     },
     "metadata": {},
     "output_type": "display_data"
    }
   ],
   "source": [
    "keys = list(groupEFscale.groups.keys())\n",
    "means = groupEFscale['TOR_WIDTH'].mean()\n",
    "\n",
    "plt.figure(figsize=(6,4))\n",
    "plt.title(\"Mean tornado width VS. magnitude - Jan to May 19, 2015\")\n",
    "sns.barplot(x = keys, y = means)\n",
    "plt.xlabel(\"Enhanced Fujita magnitude\")\n",
    "plt.ylabel(\"Mean tornado width in feet\")\n",
    "plt.show()"
   ]
  },
  {
   "cell_type": "markdown",
   "metadata": {},
   "source": [
    "It seems like the wider the tornado is, the more powerful it is likely to be.\n",
    "<br>However, as we saw before, in this subset of data few EF3 and EF4 tornadoes are present. The statistics are therefore not very conclusive. We will study this again when introducing more data."
   ]
  },
  {
   "cell_type": "code",
   "execution_count": 22,
   "metadata": {},
   "outputs": [
    {
     "data": {
      "text/plain": [
       "16"
      ]
     },
     "execution_count": 22,
     "metadata": {},
     "output_type": "execute_result"
    }
   ],
   "source": [
    "# The begining and end azimuth represent the directions of the beginning and end points of the tornado,\n",
    "# based on a weather station of reference \n",
    "raw_t1['BEGIN_AZIMUTH'].nunique()"
   ]
  },
  {
   "cell_type": "markdown",
   "metadata": {},
   "source": [
    "Let's convert these directions in angle from the North, clockwise."
   ]
  },
  {
   "cell_type": "code",
   "execution_count": 23,
   "metadata": {},
   "outputs": [],
   "source": [
    "def direction2degrees(azimuth):\n",
    "    '''Returns an angle in degrees from North, clockwise, from an input direction'''\n",
    "    # The package Windrose used to plot directions does not accept zeros, \n",
    "    # this is why I put 0.001 for North:\n",
    "    if azimuth == 'N': return 0.001\n",
    "    elif azimuth == 'NNE': return 22.5\n",
    "    elif azimuth == 'NE': return 45.\n",
    "    elif azimuth == 'ENE': return 67.5\n",
    "    elif azimuth == 'E': return 90.\n",
    "    elif azimuth == 'ESE': return 112.5\n",
    "    elif azimuth == 'SE': return 135.\n",
    "    elif azimuth == 'SSE': return 157.5\n",
    "    elif azimuth == 'S': return 180.\n",
    "    elif azimuth == 'SSW': return 202.5\n",
    "    elif azimuth == 'SW': return 225.\n",
    "    elif azimuth == 'WSW': return 247.5\n",
    "    elif azimuth == 'W': return 270.\n",
    "    elif azimuth == 'WNW': return 292.5\n",
    "    elif azimuth == 'NW': return 315.\n",
    "    else: return 337.5\n",
    "\n",
    "#Creating new column:\n",
    "raw_t1['AzDegrees'] = raw_t1.BEGIN_AZIMUTH.map(direction2degrees)"
   ]
  },
  {
   "cell_type": "code",
   "execution_count": 24,
   "metadata": {},
   "outputs": [
    {
     "data": {
      "text/html": [
       "<div>\n",
       "<style scoped>\n",
       "    .dataframe tbody tr th:only-of-type {\n",
       "        vertical-align: middle;\n",
       "    }\n",
       "\n",
       "    .dataframe tbody tr th {\n",
       "        vertical-align: top;\n",
       "    }\n",
       "\n",
       "    .dataframe thead th {\n",
       "        text-align: right;\n",
       "    }\n",
       "</style>\n",
       "<table border=\"1\" class=\"dataframe\">\n",
       "  <thead>\n",
       "    <tr style=\"text-align: right;\">\n",
       "      <th></th>\n",
       "      <th>EVENT_ID</th>\n",
       "      <th>CZ_NAME_STR</th>\n",
       "      <th>BEGIN_LOCATION</th>\n",
       "      <th>BEGIN_DATE</th>\n",
       "      <th>BEGIN_TIME</th>\n",
       "      <th>EVENT_TYPE</th>\n",
       "      <th>MAGNITUDE</th>\n",
       "      <th>TOR_F_SCALE</th>\n",
       "      <th>DEATHS_DIRECT</th>\n",
       "      <th>INJURIES_DIRECT</th>\n",
       "      <th>...</th>\n",
       "      <th>BEGIN_AZIMUTH</th>\n",
       "      <th>END_RANGE</th>\n",
       "      <th>END_AZIMUTH</th>\n",
       "      <th>END_LOCATION</th>\n",
       "      <th>BEGIN_LAT</th>\n",
       "      <th>BEGIN_LON</th>\n",
       "      <th>END_LAT</th>\n",
       "      <th>END_LON</th>\n",
       "      <th>ABSOLUTE_ROWNUMBER</th>\n",
       "      <th>AzDegrees</th>\n",
       "    </tr>\n",
       "  </thead>\n",
       "  <tbody>\n",
       "    <tr>\n",
       "      <th>0</th>\n",
       "      <td>549199</td>\n",
       "      <td>LAWRENCE CO.</td>\n",
       "      <td>TILTON</td>\n",
       "      <td>01/03/2015</td>\n",
       "      <td>1405</td>\n",
       "      <td>Tornado</td>\n",
       "      <td></td>\n",
       "      <td>EF0</td>\n",
       "      <td>0</td>\n",
       "      <td>0</td>\n",
       "      <td>...</td>\n",
       "      <td>E</td>\n",
       "      <td>4</td>\n",
       "      <td>E</td>\n",
       "      <td>TILTON</td>\n",
       "      <td>31.4300</td>\n",
       "      <td>-89.9600</td>\n",
       "      <td>31.4300</td>\n",
       "      <td>-89.9600</td>\n",
       "      <td>1</td>\n",
       "      <td>90.0</td>\n",
       "    </tr>\n",
       "    <tr>\n",
       "      <th>1</th>\n",
       "      <td>549208</td>\n",
       "      <td>COVINGTON CO.</td>\n",
       "      <td>ARBO</td>\n",
       "      <td>01/03/2015</td>\n",
       "      <td>1436</td>\n",
       "      <td>Tornado</td>\n",
       "      <td></td>\n",
       "      <td>EF1</td>\n",
       "      <td>0</td>\n",
       "      <td>0</td>\n",
       "      <td>...</td>\n",
       "      <td>SW</td>\n",
       "      <td>3</td>\n",
       "      <td>SSW</td>\n",
       "      <td>ARBO</td>\n",
       "      <td>31.6800</td>\n",
       "      <td>-89.6800</td>\n",
       "      <td>31.6972</td>\n",
       "      <td>-89.6553</td>\n",
       "      <td>2</td>\n",
       "      <td>225.0</td>\n",
       "    </tr>\n",
       "    <tr>\n",
       "      <th>2</th>\n",
       "      <td>549220</td>\n",
       "      <td>COVINGTON CO.</td>\n",
       "      <td>ARBO</td>\n",
       "      <td>01/03/2015</td>\n",
       "      <td>1439</td>\n",
       "      <td>Tornado</td>\n",
       "      <td></td>\n",
       "      <td>EF1</td>\n",
       "      <td>0</td>\n",
       "      <td>0</td>\n",
       "      <td>...</td>\n",
       "      <td>SSW</td>\n",
       "      <td>2</td>\n",
       "      <td>S</td>\n",
       "      <td>ARBO</td>\n",
       "      <td>31.7000</td>\n",
       "      <td>-89.6500</td>\n",
       "      <td>31.7064</td>\n",
       "      <td>-89.6341</td>\n",
       "      <td>3</td>\n",
       "      <td>202.5</td>\n",
       "    </tr>\n",
       "    <tr>\n",
       "      <th>3</th>\n",
       "      <td>549233</td>\n",
       "      <td>JASPER CO.</td>\n",
       "      <td>MOSS HILL</td>\n",
       "      <td>01/03/2015</td>\n",
       "      <td>1504</td>\n",
       "      <td>Tornado</td>\n",
       "      <td></td>\n",
       "      <td>EF2</td>\n",
       "      <td>0</td>\n",
       "      <td>0</td>\n",
       "      <td>...</td>\n",
       "      <td>WNW</td>\n",
       "      <td>5</td>\n",
       "      <td>E</td>\n",
       "      <td>HERO</td>\n",
       "      <td>32.1304</td>\n",
       "      <td>-89.0711</td>\n",
       "      <td>32.2240</td>\n",
       "      <td>-88.9911</td>\n",
       "      <td>4</td>\n",
       "      <td>292.5</td>\n",
       "    </tr>\n",
       "    <tr>\n",
       "      <th>4</th>\n",
       "      <td>555830</td>\n",
       "      <td>NEWTON CO.</td>\n",
       "      <td>HICKORY</td>\n",
       "      <td>01/03/2015</td>\n",
       "      <td>1516</td>\n",
       "      <td>Tornado</td>\n",
       "      <td></td>\n",
       "      <td>EF1</td>\n",
       "      <td>0</td>\n",
       "      <td>0</td>\n",
       "      <td>...</td>\n",
       "      <td>SSE</td>\n",
       "      <td>7</td>\n",
       "      <td>SSE</td>\n",
       "      <td>HICKORY</td>\n",
       "      <td>32.2240</td>\n",
       "      <td>-88.9911</td>\n",
       "      <td>32.2245</td>\n",
       "      <td>-88.9909</td>\n",
       "      <td>5</td>\n",
       "      <td>157.5</td>\n",
       "    </tr>\n",
       "  </tbody>\n",
       "</table>\n",
       "<p>5 rows × 36 columns</p>\n",
       "</div>"
      ],
      "text/plain": [
       "   EVENT_ID    CZ_NAME_STR BEGIN_LOCATION  BEGIN_DATE  BEGIN_TIME EVENT_TYPE  \\\n",
       "0    549199   LAWRENCE CO.         TILTON  01/03/2015        1405    Tornado   \n",
       "1    549208  COVINGTON CO.           ARBO  01/03/2015        1436    Tornado   \n",
       "2    549220  COVINGTON CO.           ARBO  01/03/2015        1439    Tornado   \n",
       "3    549233     JASPER CO.      MOSS HILL  01/03/2015        1504    Tornado   \n",
       "4    555830     NEWTON CO.        HICKORY  01/03/2015        1516    Tornado   \n",
       "\n",
       "  MAGNITUDE TOR_F_SCALE  DEATHS_DIRECT  INJURIES_DIRECT  ...  BEGIN_AZIMUTH  \\\n",
       "0                   EF0              0                0  ...              E   \n",
       "1                   EF1              0                0  ...             SW   \n",
       "2                   EF1              0                0  ...            SSW   \n",
       "3                   EF2              0                0  ...            WNW   \n",
       "4                   EF1              0                0  ...            SSE   \n",
       "\n",
       "   END_RANGE END_AZIMUTH END_LOCATION BEGIN_LAT  BEGIN_LON  END_LAT  END_LON  \\\n",
       "0          4           E       TILTON   31.4300   -89.9600  31.4300 -89.9600   \n",
       "1          3         SSW         ARBO   31.6800   -89.6800  31.6972 -89.6553   \n",
       "2          2           S         ARBO   31.7000   -89.6500  31.7064 -89.6341   \n",
       "3          5           E         HERO   32.1304   -89.0711  32.2240 -88.9911   \n",
       "4          7         SSE      HICKORY   32.2240   -88.9911  32.2245 -88.9909   \n",
       "\n",
       "  ABSOLUTE_ROWNUMBER  AzDegrees  \n",
       "0                  1       90.0  \n",
       "1                  2      225.0  \n",
       "2                  3      202.5  \n",
       "3                  4      292.5  \n",
       "4                  5      157.5  \n",
       "\n",
       "[5 rows x 36 columns]"
      ]
     },
     "execution_count": 24,
     "metadata": {},
     "output_type": "execute_result"
    }
   ],
   "source": [
    "raw_t1.head(5)"
   ]
  },
  {
   "cell_type": "code",
   "execution_count": 25,
   "metadata": {},
   "outputs": [
    {
     "name": "stdout",
     "output_type": "stream",
     "text": [
      "Requirement already satisfied: windrose in /Users/michaellee/opt/anaconda3/lib/python3.9/site-packages (1.8.1)\r\n",
      "Requirement already satisfied: matplotlib>=3 in /Users/michaellee/opt/anaconda3/lib/python3.9/site-packages (from windrose) (3.4.3)\r\n",
      "Requirement already satisfied: numpy>=1.21 in /Users/michaellee/opt/anaconda3/lib/python3.9/site-packages (from windrose) (1.21.3)\r\n",
      "Requirement already satisfied: python-dateutil>=2.7 in /Users/michaellee/opt/anaconda3/lib/python3.9/site-packages (from matplotlib>=3->windrose) (2.8.2)\r\n",
      "Requirement already satisfied: pyparsing>=2.2.1 in /Users/michaellee/opt/anaconda3/lib/python3.9/site-packages (from matplotlib>=3->windrose) (3.0.4)\r\n",
      "Requirement already satisfied: pillow>=6.2.0 in /Users/michaellee/opt/anaconda3/lib/python3.9/site-packages (from matplotlib>=3->windrose) (8.4.0)\r\n",
      "Requirement already satisfied: kiwisolver>=1.0.1 in /Users/michaellee/opt/anaconda3/lib/python3.9/site-packages (from matplotlib>=3->windrose) (1.3.1)\r\n",
      "Requirement already satisfied: cycler>=0.10 in /Users/michaellee/opt/anaconda3/lib/python3.9/site-packages (from matplotlib>=3->windrose) (0.10.0)\r\n",
      "Requirement already satisfied: six in /Users/michaellee/opt/anaconda3/lib/python3.9/site-packages (from cycler>=0.10->matplotlib>=3->windrose) (1.16.0)\r\n"
     ]
    }
   ],
   "source": [
    "!pip install windrose"
   ]
  },
  {
   "cell_type": "code",
   "execution_count": 26,
   "metadata": {},
   "outputs": [],
   "source": [
    "from windrose import WindroseAxes, plot_windrose"
   ]
  },
  {
   "cell_type": "code",
   "execution_count": 27,
   "metadata": {},
   "outputs": [],
   "source": [
    "# Windrose package plots a DF with columns speed and direction. Let's put the count of tornadoes for speed:\n",
    "dfwindrose = pd.DataFrame({'speed':list(raw_t1.AzDegrees.value_counts().values),\\\n",
    "                          'direction':list(raw_t1.AzDegrees.value_counts().index)}).reset_index(drop=True)"
   ]
  },
  {
   "cell_type": "code",
   "execution_count": 28,
   "metadata": {},
   "outputs": [
    {
     "data": {
      "image/png": "[encoded data removed]",
      "text/plain": [
       "<Figure size 640x640 with 1 Axes>"
      ]
     },
     "metadata": {},
     "output_type": "display_data"
    }
   ],
   "source": [
    "sns.set(font_scale=1.3)\n",
    "plot_windrose(dfwindrose, kind='bar', bins=np.arange(19,46,4))\n",
    "plt.title(\"Counts of tornado's beginning azimuths relative to radar position\")\n",
    "plt.legend('lower right')\n",
    "plt.show()"
   ]
  },
  {
   "cell_type": "markdown",
   "metadata": {},
   "source": [
    "- This graph means that a higher proportion of tornadoes is observed from the East of it when it appears.\n",
    "- As we are going to see later, most tornadoes travel from West/South-West to East/NorthEast.\n",
    "- Observing and measuring tornadoes from the East then makes more sense, as there is a higher probability that they are going to move towards the observation point."
   ]
  },
  {
   "cell_type": "code",
   "execution_count": 29,
   "metadata": {},
   "outputs": [
    {
     "data": {
      "text/plain": [
       "NWS Storm Survey          251\n",
       "Storm Chaser               83\n",
       "Trained Spotter            60\n",
       "Emergency Manager          37\n",
       "Amateur Radio              15\n",
       "Public                     13\n",
       "Broadcast Media            12\n",
       "Law Enforcement            12\n",
       "NWS Employee                8\n",
       "Fire Department/Rescue      6\n",
       "Local Official              1\n",
       "Newspaper                   1\n",
       "Other Federal Agency        1\n",
       "Name: SOURCE, dtype: int64"
      ]
     },
     "execution_count": 29,
     "metadata": {},
     "output_type": "execute_result"
    }
   ],
   "source": [
    "# Analysing who reported the tornado\n",
    "raw_t1.SOURCE.value_counts()"
   ]
  },
  {
   "cell_type": "markdown",
   "metadata": {},
   "source": [
    "The majority of tornado events were reported officially through NWS observation\n",
    "<br>This is goog for us as it means the data should be more reliable. It reduces the risk."
   ]
  },
  {
   "cell_type": "code",
   "execution_count": 30,
   "metadata": {},
   "outputs": [
    {
     "data": {
      "image/png": "[encoded data removed]",
      "text/plain": [
       "<Figure size 1080x288 with 1 Axes>"
      ]
     },
     "metadata": {},
     "output_type": "display_data"
    }
   ],
   "source": [
    "plt.figure(figsize=(15,4))\n",
    "sns.barplot(raw_t1.STATE_ABBR.value_counts().index, raw_t1.STATE_ABBR.value_counts().values)\n",
    "plt.title(\"States distribution\")\n",
    "plt.xlabel(\"States\")\n",
    "plt.ylabel(\"Number of tornadoes\")\n",
    "plt.show()"
   ]
  },
  {
   "cell_type": "markdown",
   "metadata": {},
   "source": [
    "- As expected, most tornadoes happen in Texas, Oklahoma and Kansas."
   ]
  },
  {
   "cell_type": "markdown",
   "metadata": {},
   "source": [
    "We have analysed and visualized some of the features. <br>For our first modeling, we are going to drop some of them, which do not seem appropriate for predicting the magnitude."
   ]
  },
  {
   "cell_type": "markdown",
   "metadata": {},
   "source": [
    "## Creating feature matrix and target and further EDA"
   ]
  },
  {
   "cell_type": "markdown",
   "metadata": {},
   "source": [
    "- Let's drop some unnecessary features for modeling like event ID, even type, absolute row number\n",
    "- Let's also drop other features, which we may reintroduce later, but I want to keep it simple for our first models: longitude, latitude, county\n",
    "- We also drop the magnitude, which is our target"
   ]
  },
  {
   "cell_type": "code",
   "execution_count": 31,
   "metadata": {},
   "outputs": [
    {
     "data": {
      "text/html": [
       "<div>\n",
       "<style scoped>\n",
       "    .dataframe tbody tr th:only-of-type {\n",
       "        vertical-align: middle;\n",
       "    }\n",
       "\n",
       "    .dataframe tbody tr th {\n",
       "        vertical-align: top;\n",
       "    }\n",
       "\n",
       "    .dataframe thead th {\n",
       "        text-align: right;\n",
       "    }\n",
       "</style>\n",
       "<table border=\"1\" class=\"dataframe\">\n",
       "  <thead>\n",
       "    <tr style=\"text-align: right;\">\n",
       "      <th></th>\n",
       "      <th>BEGIN_DATE</th>\n",
       "      <th>BEGIN_TIME</th>\n",
       "      <th>TOR_F_SCALE</th>\n",
       "      <th>DEATHS_DIRECT</th>\n",
       "      <th>INJURIES_DIRECT</th>\n",
       "      <th>DAMAGE_PROPERTY_NUM</th>\n",
       "      <th>DAMAGE_CROPS_NUM</th>\n",
       "      <th>STATE_ABBR</th>\n",
       "      <th>INJURIES_INDIRECT</th>\n",
       "      <th>DEATHS_INDIRECT</th>\n",
       "      <th>SOURCE</th>\n",
       "      <th>TOR_LENGTH</th>\n",
       "      <th>TOR_WIDTH</th>\n",
       "    </tr>\n",
       "  </thead>\n",
       "  <tbody>\n",
       "    <tr>\n",
       "      <th>0</th>\n",
       "      <td>01/03/2015</td>\n",
       "      <td>1405</td>\n",
       "      <td>EF0</td>\n",
       "      <td>0</td>\n",
       "      <td>0</td>\n",
       "      <td>1000</td>\n",
       "      <td>0</td>\n",
       "      <td>MS</td>\n",
       "      <td>0</td>\n",
       "      <td>0</td>\n",
       "      <td>NWS Storm Survey</td>\n",
       "      <td>0.08</td>\n",
       "      <td>50</td>\n",
       "    </tr>\n",
       "    <tr>\n",
       "      <th>1</th>\n",
       "      <td>01/03/2015</td>\n",
       "      <td>1436</td>\n",
       "      <td>EF1</td>\n",
       "      <td>0</td>\n",
       "      <td>0</td>\n",
       "      <td>20000</td>\n",
       "      <td>0</td>\n",
       "      <td>MS</td>\n",
       "      <td>0</td>\n",
       "      <td>0</td>\n",
       "      <td>NWS Storm Survey</td>\n",
       "      <td>1.88</td>\n",
       "      <td>50</td>\n",
       "    </tr>\n",
       "  </tbody>\n",
       "</table>\n",
       "</div>"
      ],
      "text/plain": [
       "   BEGIN_DATE  BEGIN_TIME TOR_F_SCALE  DEATHS_DIRECT  INJURIES_DIRECT  \\\n",
       "0  01/03/2015        1405         EF0              0                0   \n",
       "1  01/03/2015        1436         EF1              0                0   \n",
       "\n",
       "   DAMAGE_PROPERTY_NUM  DAMAGE_CROPS_NUM STATE_ABBR  INJURIES_INDIRECT  \\\n",
       "0                 1000                 0         MS                  0   \n",
       "1                20000                 0         MS                  0   \n",
       "\n",
       "   DEATHS_INDIRECT            SOURCE  TOR_LENGTH  TOR_WIDTH  \n",
       "0                0  NWS Storm Survey        0.08         50  \n",
       "1                0  NWS Storm Survey        1.88         50  "
      ]
     },
     "execution_count": 31,
     "metadata": {},
     "output_type": "execute_result"
    }
   ],
   "source": [
    "X1_t1 = raw_t1.drop(['EVENT_ID','CZ_NAME_STR','BEGIN_LOCATION','EVENT_TYPE','MAGNITUDE',\n",
    "                     'CZ_TIMEZONE','MAGNITUDE_TYPE','EPISODE_ID', 'CZ_TYPE', 'CZ_FIPS',\n",
    "                     'WFO','FLOOD_CAUSE','BEGIN_RANGE', 'BEGIN_AZIMUTH', 'END_RANGE',\n",
    "                     'END_AZIMUTH','END_LOCATION','BEGIN_LAT','BEGIN_LON','END_LAT',\n",
    "                     'END_LON', 'ABSOLUTE_ROWNUMBER', 'AzDegrees'], axis=1)\n",
    "X1_t1.head(2)"
   ]
  },
  {
   "cell_type": "code",
   "execution_count": 32,
   "metadata": {},
   "outputs": [
    {
     "data": {
      "text/plain": [
       "BEGIN_DATE              object\n",
       "BEGIN_TIME               int64\n",
       "TOR_F_SCALE             object\n",
       "DEATHS_DIRECT            int64\n",
       "INJURIES_DIRECT          int64\n",
       "DAMAGE_PROPERTY_NUM      int64\n",
       "DAMAGE_CROPS_NUM         int64\n",
       "STATE_ABBR              object\n",
       "INJURIES_INDIRECT        int64\n",
       "DEATHS_INDIRECT          int64\n",
       "SOURCE                  object\n",
       "TOR_LENGTH             float64\n",
       "TOR_WIDTH                int64\n",
       "dtype: object"
      ]
     },
     "execution_count": 32,
     "metadata": {},
     "output_type": "execute_result"
    }
   ],
   "source": [
    "from datetime import datetime, date\n",
    "X1_t1.dtypes"
   ]
  },
  {
   "cell_type": "markdown",
   "metadata": {},
   "source": [
    "We have to work on the date and time variables, for them to have the right type and format for modeling"
   ]
  },
  {
   "cell_type": "code",
   "execution_count": 33,
   "metadata": {},
   "outputs": [],
   "source": [
    "def DateToOrdinal(stringdate):\n",
    "    '''Converts a string date in format MM/DD/YYYY into a unique ordinal number'''\n",
    "    return date.toordinal(datetime.strptime(stringdate, \"%m/%d/%Y\"))"
   ]
  },
  {
   "cell_type": "code",
   "execution_count": 34,
   "metadata": {},
   "outputs": [
    {
     "data": {
      "text/html": [
       "<div>\n",
       "<style scoped>\n",
       "    .dataframe tbody tr th:only-of-type {\n",
       "        vertical-align: middle;\n",
       "    }\n",
       "\n",
       "    .dataframe tbody tr th {\n",
       "        vertical-align: top;\n",
       "    }\n",
       "\n",
       "    .dataframe thead th {\n",
       "        text-align: right;\n",
       "    }\n",
       "</style>\n",
       "<table border=\"1\" class=\"dataframe\">\n",
       "  <thead>\n",
       "    <tr style=\"text-align: right;\">\n",
       "      <th></th>\n",
       "      <th>BEGIN_DATE</th>\n",
       "      <th>BEGIN_TIME</th>\n",
       "      <th>TOR_F_SCALE</th>\n",
       "      <th>DEATHS_DIRECT</th>\n",
       "      <th>INJURIES_DIRECT</th>\n",
       "      <th>DAMAGE_PROPERTY_NUM</th>\n",
       "      <th>DAMAGE_CROPS_NUM</th>\n",
       "      <th>STATE_ABBR</th>\n",
       "      <th>INJURIES_INDIRECT</th>\n",
       "      <th>DEATHS_INDIRECT</th>\n",
       "      <th>SOURCE</th>\n",
       "      <th>TOR_LENGTH</th>\n",
       "      <th>TOR_WIDTH</th>\n",
       "    </tr>\n",
       "  </thead>\n",
       "  <tbody>\n",
       "    <tr>\n",
       "      <th>0</th>\n",
       "      <td>735601</td>\n",
       "      <td>1405</td>\n",
       "      <td>EF0</td>\n",
       "      <td>0</td>\n",
       "      <td>0</td>\n",
       "      <td>1000</td>\n",
       "      <td>0</td>\n",
       "      <td>MS</td>\n",
       "      <td>0</td>\n",
       "      <td>0</td>\n",
       "      <td>NWS Storm Survey</td>\n",
       "      <td>0.08</td>\n",
       "      <td>50</td>\n",
       "    </tr>\n",
       "    <tr>\n",
       "      <th>1</th>\n",
       "      <td>735601</td>\n",
       "      <td>1436</td>\n",
       "      <td>EF1</td>\n",
       "      <td>0</td>\n",
       "      <td>0</td>\n",
       "      <td>20000</td>\n",
       "      <td>0</td>\n",
       "      <td>MS</td>\n",
       "      <td>0</td>\n",
       "      <td>0</td>\n",
       "      <td>NWS Storm Survey</td>\n",
       "      <td>1.88</td>\n",
       "      <td>50</td>\n",
       "    </tr>\n",
       "  </tbody>\n",
       "</table>\n",
       "</div>"
      ],
      "text/plain": [
       "   BEGIN_DATE  BEGIN_TIME TOR_F_SCALE  DEATHS_DIRECT  INJURIES_DIRECT  \\\n",
       "0      735601        1405         EF0              0                0   \n",
       "1      735601        1436         EF1              0                0   \n",
       "\n",
       "   DAMAGE_PROPERTY_NUM  DAMAGE_CROPS_NUM STATE_ABBR  INJURIES_INDIRECT  \\\n",
       "0                 1000                 0         MS                  0   \n",
       "1                20000                 0         MS                  0   \n",
       "\n",
       "   DEATHS_INDIRECT            SOURCE  TOR_LENGTH  TOR_WIDTH  \n",
       "0                0  NWS Storm Survey        0.08         50  \n",
       "1                0  NWS Storm Survey        1.88         50  "
      ]
     },
     "execution_count": 34,
     "metadata": {},
     "output_type": "execute_result"
    }
   ],
   "source": [
    "X1_t1.BEGIN_DATE = X1_t1.BEGIN_DATE.map(DateToOrdinal)\n",
    "X1_t1.head(2)"
   ]
  },
  {
   "cell_type": "code",
   "execution_count": 35,
   "metadata": {},
   "outputs": [],
   "source": [
    "def TimeToOrdinal(inttime):\n",
    "    '''Converts integer time variable in format HHMM into a continuous float variable'''\n",
    "    return round((100*(inttime/100)+(inttime%100)*100/60.), 2)"
   ]
  },
  {
   "cell_type": "code",
   "execution_count": 36,
   "metadata": {},
   "outputs": [
    {
     "data": {
      "text/html": [
       "<div>\n",
       "<style scoped>\n",
       "    .dataframe tbody tr th:only-of-type {\n",
       "        vertical-align: middle;\n",
       "    }\n",
       "\n",
       "    .dataframe tbody tr th {\n",
       "        vertical-align: top;\n",
       "    }\n",
       "\n",
       "    .dataframe thead th {\n",
       "        text-align: right;\n",
       "    }\n",
       "</style>\n",
       "<table border=\"1\" class=\"dataframe\">\n",
       "  <thead>\n",
       "    <tr style=\"text-align: right;\">\n",
       "      <th></th>\n",
       "      <th>BEGIN_DATE</th>\n",
       "      <th>BEGIN_TIME</th>\n",
       "      <th>TOR_F_SCALE</th>\n",
       "      <th>DEATHS_DIRECT</th>\n",
       "      <th>INJURIES_DIRECT</th>\n",
       "      <th>DAMAGE_PROPERTY_NUM</th>\n",
       "      <th>DAMAGE_CROPS_NUM</th>\n",
       "      <th>STATE_ABBR</th>\n",
       "      <th>INJURIES_INDIRECT</th>\n",
       "      <th>DEATHS_INDIRECT</th>\n",
       "      <th>SOURCE</th>\n",
       "      <th>TOR_LENGTH</th>\n",
       "      <th>TOR_WIDTH</th>\n",
       "    </tr>\n",
       "  </thead>\n",
       "  <tbody>\n",
       "    <tr>\n",
       "      <th>0</th>\n",
       "      <td>735601</td>\n",
       "      <td>1413.33</td>\n",
       "      <td>EF0</td>\n",
       "      <td>0</td>\n",
       "      <td>0</td>\n",
       "      <td>1000</td>\n",
       "      <td>0</td>\n",
       "      <td>MS</td>\n",
       "      <td>0</td>\n",
       "      <td>0</td>\n",
       "      <td>NWS Storm Survey</td>\n",
       "      <td>0.08</td>\n",
       "      <td>50</td>\n",
       "    </tr>\n",
       "    <tr>\n",
       "      <th>1</th>\n",
       "      <td>735601</td>\n",
       "      <td>1496.00</td>\n",
       "      <td>EF1</td>\n",
       "      <td>0</td>\n",
       "      <td>0</td>\n",
       "      <td>20000</td>\n",
       "      <td>0</td>\n",
       "      <td>MS</td>\n",
       "      <td>0</td>\n",
       "      <td>0</td>\n",
       "      <td>NWS Storm Survey</td>\n",
       "      <td>1.88</td>\n",
       "      <td>50</td>\n",
       "    </tr>\n",
       "  </tbody>\n",
       "</table>\n",
       "</div>"
      ],
      "text/plain": [
       "   BEGIN_DATE  BEGIN_TIME TOR_F_SCALE  DEATHS_DIRECT  INJURIES_DIRECT  \\\n",
       "0      735601     1413.33         EF0              0                0   \n",
       "1      735601     1496.00         EF1              0                0   \n",
       "\n",
       "   DAMAGE_PROPERTY_NUM  DAMAGE_CROPS_NUM STATE_ABBR  INJURIES_INDIRECT  \\\n",
       "0                 1000                 0         MS                  0   \n",
       "1                20000                 0         MS                  0   \n",
       "\n",
       "   DEATHS_INDIRECT            SOURCE  TOR_LENGTH  TOR_WIDTH  \n",
       "0                0  NWS Storm Survey        0.08         50  \n",
       "1                0  NWS Storm Survey        1.88         50  "
      ]
     },
     "execution_count": 36,
     "metadata": {},
     "output_type": "execute_result"
    }
   ],
   "source": [
    "X1_t1.BEGIN_TIME = X1_t1.BEGIN_TIME.map(TimeToOrdinal)\n",
    "X1_t1.head(2)"
   ]
  },
  {
   "cell_type": "code",
   "execution_count": 37,
   "metadata": {},
   "outputs": [
    {
     "data": {
      "text/html": [
       "<div>\n",
       "<style scoped>\n",
       "    .dataframe tbody tr th:only-of-type {\n",
       "        vertical-align: middle;\n",
       "    }\n",
       "\n",
       "    .dataframe tbody tr th {\n",
       "        vertical-align: top;\n",
       "    }\n",
       "\n",
       "    .dataframe thead th {\n",
       "        text-align: right;\n",
       "    }\n",
       "</style>\n",
       "<table border=\"1\" class=\"dataframe\">\n",
       "  <thead>\n",
       "    <tr style=\"text-align: right;\">\n",
       "      <th></th>\n",
       "      <th>BEGIN_DATE</th>\n",
       "      <th>BEGIN_TIME</th>\n",
       "      <th>TOR_F_SCALE</th>\n",
       "      <th>DAMAGE_PROPERTY_NUM</th>\n",
       "      <th>DAMAGE_CROPS_NUM</th>\n",
       "      <th>STATE_ABBR</th>\n",
       "      <th>SOURCE</th>\n",
       "      <th>TOR_LENGTH</th>\n",
       "      <th>TOR_WIDTH</th>\n",
       "      <th>DEATHS</th>\n",
       "      <th>INJURIES</th>\n",
       "    </tr>\n",
       "  </thead>\n",
       "  <tbody>\n",
       "    <tr>\n",
       "      <th>0</th>\n",
       "      <td>735601</td>\n",
       "      <td>1413.33</td>\n",
       "      <td>EF0</td>\n",
       "      <td>1000</td>\n",
       "      <td>0</td>\n",
       "      <td>MS</td>\n",
       "      <td>NWS Storm Survey</td>\n",
       "      <td>0.08</td>\n",
       "      <td>50</td>\n",
       "      <td>0</td>\n",
       "      <td>0</td>\n",
       "    </tr>\n",
       "    <tr>\n",
       "      <th>1</th>\n",
       "      <td>735601</td>\n",
       "      <td>1496.00</td>\n",
       "      <td>EF1</td>\n",
       "      <td>20000</td>\n",
       "      <td>0</td>\n",
       "      <td>MS</td>\n",
       "      <td>NWS Storm Survey</td>\n",
       "      <td>1.88</td>\n",
       "      <td>50</td>\n",
       "      <td>0</td>\n",
       "      <td>0</td>\n",
       "    </tr>\n",
       "  </tbody>\n",
       "</table>\n",
       "</div>"
      ],
      "text/plain": [
       "   BEGIN_DATE  BEGIN_TIME TOR_F_SCALE  DAMAGE_PROPERTY_NUM  DAMAGE_CROPS_NUM  \\\n",
       "0      735601     1413.33         EF0                 1000                 0   \n",
       "1      735601     1496.00         EF1                20000                 0   \n",
       "\n",
       "  STATE_ABBR            SOURCE  TOR_LENGTH  TOR_WIDTH  DEATHS  INJURIES  \n",
       "0         MS  NWS Storm Survey        0.08         50       0         0  \n",
       "1         MS  NWS Storm Survey        1.88         50       0         0  "
      ]
     },
     "execution_count": 37,
     "metadata": {},
     "output_type": "execute_result"
    }
   ],
   "source": [
    "# Gathering direct and indirect deaths, and injuries:\n",
    "X1_t1['DEATHS'] = X1_t1.DEATHS_DIRECT + X1_t1.DEATHS_INDIRECT\n",
    "X1_t1['INJURIES'] = X1_t1.INJURIES_DIRECT + X1_t1.INJURIES_INDIRECT\n",
    "X1_t1.drop(['DEATHS_DIRECT','DEATHS_INDIRECT','INJURIES_DIRECT','INJURIES_INDIRECT'],\n",
    "           axis=1, inplace=True)\n",
    "X1_t1.head(2)"
   ]
  },
  {
   "cell_type": "markdown",
   "metadata": {},
   "source": [
    "### Target:"
   ]
  },
  {
   "cell_type": "code",
   "execution_count": 38,
   "metadata": {},
   "outputs": [],
   "source": [
    "y1_t1 = X1_t1.TOR_F_SCALE\n",
    "X1_t1.drop(['TOR_F_SCALE'], axis=1, inplace=True)"
   ]
  },
  {
   "cell_type": "markdown",
   "metadata": {},
   "source": [
    "### Standardization:"
   ]
  },
  {
   "cell_type": "code",
   "execution_count": 39,
   "metadata": {
    "scrolled": true
   },
   "outputs": [
    {
     "data": {
      "text/html": [
       "<div>\n",
       "<style scoped>\n",
       "    .dataframe tbody tr th:only-of-type {\n",
       "        vertical-align: middle;\n",
       "    }\n",
       "\n",
       "    .dataframe tbody tr th {\n",
       "        vertical-align: top;\n",
       "    }\n",
       "\n",
       "    .dataframe thead th {\n",
       "        text-align: right;\n",
       "    }\n",
       "</style>\n",
       "<table border=\"1\" class=\"dataframe\">\n",
       "  <thead>\n",
       "    <tr style=\"text-align: right;\">\n",
       "      <th></th>\n",
       "      <th>BEGIN_DATE</th>\n",
       "      <th>BEGIN_TIME</th>\n",
       "      <th>DAMAGE_PROPERTY_NUM</th>\n",
       "      <th>DAMAGE_CROPS_NUM</th>\n",
       "      <th>STATE_ABBR</th>\n",
       "      <th>SOURCE</th>\n",
       "      <th>TOR_LENGTH</th>\n",
       "      <th>TOR_WIDTH</th>\n",
       "      <th>DEATHS</th>\n",
       "      <th>INJURIES</th>\n",
       "    </tr>\n",
       "  </thead>\n",
       "  <tbody>\n",
       "    <tr>\n",
       "      <th>0</th>\n",
       "      <td>-3.438122</td>\n",
       "      <td>-0.458640</td>\n",
       "      <td>-0.098415</td>\n",
       "      <td>-0.07615</td>\n",
       "      <td>MS</td>\n",
       "      <td>NWS Storm Survey</td>\n",
       "      <td>-0.721220</td>\n",
       "      <td>-0.486391</td>\n",
       "      <td>-0.096058</td>\n",
       "      <td>-0.109066</td>\n",
       "    </tr>\n",
       "    <tr>\n",
       "      <th>1</th>\n",
       "      <td>-3.438122</td>\n",
       "      <td>-0.285516</td>\n",
       "      <td>-0.091911</td>\n",
       "      <td>-0.07615</td>\n",
       "      <td>MS</td>\n",
       "      <td>NWS Storm Survey</td>\n",
       "      <td>-0.250416</td>\n",
       "      <td>-0.486391</td>\n",
       "      <td>-0.096058</td>\n",
       "      <td>-0.109066</td>\n",
       "    </tr>\n",
       "  </tbody>\n",
       "</table>\n",
       "</div>"
      ],
      "text/plain": [
       "   BEGIN_DATE  BEGIN_TIME  DAMAGE_PROPERTY_NUM  DAMAGE_CROPS_NUM STATE_ABBR  \\\n",
       "0   -3.438122   -0.458640            -0.098415          -0.07615         MS   \n",
       "1   -3.438122   -0.285516            -0.091911          -0.07615         MS   \n",
       "\n",
       "             SOURCE  TOR_LENGTH  TOR_WIDTH    DEATHS  INJURIES  \n",
       "0  NWS Storm Survey   -0.721220  -0.486391 -0.096058 -0.109066  \n",
       "1  NWS Storm Survey   -0.250416  -0.486391 -0.096058 -0.109066  "
      ]
     },
     "execution_count": 39,
     "metadata": {},
     "output_type": "execute_result"
    }
   ],
   "source": [
    "# Standardizing numerical features:\n",
    "from sklearn.preprocessing import StandardScaler\n",
    "scaler = StandardScaler()\n",
    "for feat in ['BEGIN_DATE','BEGIN_TIME','DAMAGE_PROPERTY_NUM','DAMAGE_CROPS_NUM',\\\n",
    "             'TOR_LENGTH','TOR_WIDTH','DEATHS','INJURIES']:\n",
    "    X1_t1[feat] = scaler.fit_transform(X1_t1[[feat]])\n",
    "X1_t1.head(2)"
   ]
  },
  {
   "cell_type": "markdown",
   "metadata": {},
   "source": [
    "### Correlations analysis of numerical features"
   ]
  },
  {
   "cell_type": "code",
   "execution_count": 40,
   "metadata": {},
   "outputs": [
    {
     "data": {
      "text/html": [
       "<div>\n",
       "<style scoped>\n",
       "    .dataframe tbody tr th:only-of-type {\n",
       "        vertical-align: middle;\n",
       "    }\n",
       "\n",
       "    .dataframe tbody tr th {\n",
       "        vertical-align: top;\n",
       "    }\n",
       "\n",
       "    .dataframe thead th {\n",
       "        text-align: right;\n",
       "    }\n",
       "</style>\n",
       "<table border=\"1\" class=\"dataframe\">\n",
       "  <thead>\n",
       "    <tr style=\"text-align: right;\">\n",
       "      <th></th>\n",
       "      <th>BEGIN_DATE</th>\n",
       "      <th>BEGIN_TIME</th>\n",
       "      <th>DAMAGE_PROPERTY_NUM</th>\n",
       "      <th>DAMAGE_CROPS_NUM</th>\n",
       "      <th>TOR_LENGTH</th>\n",
       "      <th>TOR_WIDTH</th>\n",
       "      <th>DEATHS</th>\n",
       "      <th>INJURIES</th>\n",
       "      <th>MAGNITUDE</th>\n",
       "    </tr>\n",
       "  </thead>\n",
       "  <tbody>\n",
       "    <tr>\n",
       "      <th>0</th>\n",
       "      <td>-3.438122</td>\n",
       "      <td>-0.458640</td>\n",
       "      <td>-0.098415</td>\n",
       "      <td>-0.07615</td>\n",
       "      <td>-0.721220</td>\n",
       "      <td>-0.486391</td>\n",
       "      <td>-0.096058</td>\n",
       "      <td>-0.109066</td>\n",
       "      <td>0</td>\n",
       "    </tr>\n",
       "    <tr>\n",
       "      <th>1</th>\n",
       "      <td>-3.438122</td>\n",
       "      <td>-0.285516</td>\n",
       "      <td>-0.091911</td>\n",
       "      <td>-0.07615</td>\n",
       "      <td>-0.250416</td>\n",
       "      <td>-0.486391</td>\n",
       "      <td>-0.096058</td>\n",
       "      <td>-0.109066</td>\n",
       "      <td>1</td>\n",
       "    </tr>\n",
       "  </tbody>\n",
       "</table>\n",
       "</div>"
      ],
      "text/plain": [
       "   BEGIN_DATE  BEGIN_TIME  DAMAGE_PROPERTY_NUM  DAMAGE_CROPS_NUM  TOR_LENGTH  \\\n",
       "0   -3.438122   -0.458640            -0.098415          -0.07615   -0.721220   \n",
       "1   -3.438122   -0.285516            -0.091911          -0.07615   -0.250416   \n",
       "\n",
       "   TOR_WIDTH    DEATHS  INJURIES  MAGNITUDE  \n",
       "0  -0.486391 -0.096058 -0.109066          0  \n",
       "1  -0.486391 -0.096058 -0.109066          1  "
      ]
     },
     "execution_count": 40,
     "metadata": {},
     "output_type": "execute_result"
    }
   ],
   "source": [
    "# Creating a DF to examine the correlation between the numerical features:\n",
    "numDF = X1_t1.drop(['STATE_ABBR','SOURCE'], axis=1)\n",
    "# Let's reintroduce our target and transform it to integer:\n",
    "numDF['MAGNITUDE'] = raw_t1['TOR_F_SCALE'].map(lambda x: 0 if x=='EF0' else 1 if x=='EF1' \n",
    "                                               else 2 if x=='EF2' else 3 if x=='EF3' \n",
    "                                               else 4 if x=='EF4' else 5)\n",
    "numDF.head(2)"
   ]
  },
  {
   "cell_type": "code",
   "execution_count": 41,
   "metadata": {},
   "outputs": [
    {
     "data": {
      "text/html": [
       "<div>\n",
       "<style scoped>\n",
       "    .dataframe tbody tr th:only-of-type {\n",
       "        vertical-align: middle;\n",
       "    }\n",
       "\n",
       "    .dataframe tbody tr th {\n",
       "        vertical-align: top;\n",
       "    }\n",
       "\n",
       "    .dataframe thead th {\n",
       "        text-align: right;\n",
       "    }\n",
       "</style>\n",
       "<table border=\"1\" class=\"dataframe\">\n",
       "  <thead>\n",
       "    <tr style=\"text-align: right;\">\n",
       "      <th></th>\n",
       "      <th>BEGIN_DATE</th>\n",
       "      <th>BEGIN_TIME</th>\n",
       "      <th>DAMAGE_PROPERTY_NUM</th>\n",
       "      <th>DAMAGE_CROPS_NUM</th>\n",
       "      <th>TOR_LENGTH</th>\n",
       "      <th>TOR_WIDTH</th>\n",
       "      <th>DEATHS</th>\n",
       "      <th>INJURIES</th>\n",
       "      <th>MAGNITUDE</th>\n",
       "    </tr>\n",
       "  </thead>\n",
       "  <tbody>\n",
       "    <tr>\n",
       "      <th>BEGIN_DATE</th>\n",
       "      <td>1.000000</td>\n",
       "      <td>0.126108</td>\n",
       "      <td>-0.016745</td>\n",
       "      <td>0.042289</td>\n",
       "      <td>0.048279</td>\n",
       "      <td>0.072788</td>\n",
       "      <td>0.012734</td>\n",
       "      <td>0.001844</td>\n",
       "      <td>-0.074535</td>\n",
       "    </tr>\n",
       "    <tr>\n",
       "      <th>BEGIN_TIME</th>\n",
       "      <td>0.126108</td>\n",
       "      <td>1.000000</td>\n",
       "      <td>0.040375</td>\n",
       "      <td>-0.011403</td>\n",
       "      <td>0.027118</td>\n",
       "      <td>0.139669</td>\n",
       "      <td>0.060649</td>\n",
       "      <td>0.033969</td>\n",
       "      <td>0.011133</td>\n",
       "    </tr>\n",
       "    <tr>\n",
       "      <th>DAMAGE_PROPERTY_NUM</th>\n",
       "      <td>-0.016745</td>\n",
       "      <td>0.040375</td>\n",
       "      <td>1.000000</td>\n",
       "      <td>-0.003063</td>\n",
       "      <td>0.188091</td>\n",
       "      <td>0.102004</td>\n",
       "      <td>0.406885</td>\n",
       "      <td>0.597311</td>\n",
       "      <td>0.267153</td>\n",
       "    </tr>\n",
       "    <tr>\n",
       "      <th>DAMAGE_CROPS_NUM</th>\n",
       "      <td>0.042289</td>\n",
       "      <td>-0.011403</td>\n",
       "      <td>-0.003063</td>\n",
       "      <td>1.000000</td>\n",
       "      <td>0.013707</td>\n",
       "      <td>0.208685</td>\n",
       "      <td>0.228343</td>\n",
       "      <td>0.022717</td>\n",
       "      <td>0.129348</td>\n",
       "    </tr>\n",
       "    <tr>\n",
       "      <th>TOR_LENGTH</th>\n",
       "      <td>0.048279</td>\n",
       "      <td>0.027118</td>\n",
       "      <td>0.188091</td>\n",
       "      <td>0.013707</td>\n",
       "      <td>1.000000</td>\n",
       "      <td>0.470607</td>\n",
       "      <td>0.096388</td>\n",
       "      <td>0.118300</td>\n",
       "      <td>0.518635</td>\n",
       "    </tr>\n",
       "    <tr>\n",
       "      <th>TOR_WIDTH</th>\n",
       "      <td>0.072788</td>\n",
       "      <td>0.139669</td>\n",
       "      <td>0.102004</td>\n",
       "      <td>0.208685</td>\n",
       "      <td>0.470607</td>\n",
       "      <td>1.000000</td>\n",
       "      <td>0.231008</td>\n",
       "      <td>0.205163</td>\n",
       "      <td>0.588722</td>\n",
       "    </tr>\n",
       "    <tr>\n",
       "      <th>DEATHS</th>\n",
       "      <td>0.012734</td>\n",
       "      <td>0.060649</td>\n",
       "      <td>0.406885</td>\n",
       "      <td>0.228343</td>\n",
       "      <td>0.096388</td>\n",
       "      <td>0.231008</td>\n",
       "      <td>1.000000</td>\n",
       "      <td>0.729725</td>\n",
       "      <td>0.301598</td>\n",
       "    </tr>\n",
       "    <tr>\n",
       "      <th>INJURIES</th>\n",
       "      <td>0.001844</td>\n",
       "      <td>0.033969</td>\n",
       "      <td>0.597311</td>\n",
       "      <td>0.022717</td>\n",
       "      <td>0.118300</td>\n",
       "      <td>0.205163</td>\n",
       "      <td>0.729725</td>\n",
       "      <td>1.000000</td>\n",
       "      <td>0.301924</td>\n",
       "    </tr>\n",
       "    <tr>\n",
       "      <th>MAGNITUDE</th>\n",
       "      <td>-0.074535</td>\n",
       "      <td>0.011133</td>\n",
       "      <td>0.267153</td>\n",
       "      <td>0.129348</td>\n",
       "      <td>0.518635</td>\n",
       "      <td>0.588722</td>\n",
       "      <td>0.301598</td>\n",
       "      <td>0.301924</td>\n",
       "      <td>1.000000</td>\n",
       "    </tr>\n",
       "  </tbody>\n",
       "</table>\n",
       "</div>"
      ],
      "text/plain": [
       "                     BEGIN_DATE  BEGIN_TIME  DAMAGE_PROPERTY_NUM  \\\n",
       "BEGIN_DATE             1.000000    0.126108            -0.016745   \n",
       "BEGIN_TIME             0.126108    1.000000             0.040375   \n",
       "DAMAGE_PROPERTY_NUM   -0.016745    0.040375             1.000000   \n",
       "DAMAGE_CROPS_NUM       0.042289   -0.011403            -0.003063   \n",
       "TOR_LENGTH             0.048279    0.027118             0.188091   \n",
       "TOR_WIDTH              0.072788    0.139669             0.102004   \n",
       "DEATHS                 0.012734    0.060649             0.406885   \n",
       "INJURIES               0.001844    0.033969             0.597311   \n",
       "MAGNITUDE             -0.074535    0.011133             0.267153   \n",
       "\n",
       "                     DAMAGE_CROPS_NUM  TOR_LENGTH  TOR_WIDTH    DEATHS  \\\n",
       "BEGIN_DATE                   0.042289    0.048279   0.072788  0.012734   \n",
       "BEGIN_TIME                  -0.011403    0.027118   0.139669  0.060649   \n",
       "DAMAGE_PROPERTY_NUM         -0.003063    0.188091   0.102004  0.406885   \n",
       "DAMAGE_CROPS_NUM             1.000000    0.013707   0.208685  0.228343   \n",
       "TOR_LENGTH                   0.013707    1.000000   0.470607  0.096388   \n",
       "TOR_WIDTH                    0.208685    0.470607   1.000000  0.231008   \n",
       "DEATHS                       0.228343    0.096388   0.231008  1.000000   \n",
       "INJURIES                     0.022717    0.118300   0.205163  0.729725   \n",
       "MAGNITUDE                    0.129348    0.518635   0.588722  0.301598   \n",
       "\n",
       "                     INJURIES  MAGNITUDE  \n",
       "BEGIN_DATE           0.001844  -0.074535  \n",
       "BEGIN_TIME           0.033969   0.011133  \n",
       "DAMAGE_PROPERTY_NUM  0.597311   0.267153  \n",
       "DAMAGE_CROPS_NUM     0.022717   0.129348  \n",
       "TOR_LENGTH           0.118300   0.518635  \n",
       "TOR_WIDTH            0.205163   0.588722  \n",
       "DEATHS               0.729725   0.301598  \n",
       "INJURIES             1.000000   0.301924  \n",
       "MAGNITUDE            0.301924   1.000000  "
      ]
     },
     "execution_count": 41,
     "metadata": {},
     "output_type": "execute_result"
    }
   ],
   "source": [
    "# Correlation matrix:\n",
    "numDF.corr()"
   ]
  },
  {
   "cell_type": "code",
   "execution_count": 44,
   "metadata": {},
   "outputs": [
    {
     "data": {
      "image/png": "[encoded data removed]",
      "text/plain": [
       "<Figure size 576x576 with 2 Axes>"
      ]
     },
     "metadata": {},
     "output_type": "display_data"
    }
   ],
   "source": [
    "# Heatmap for easier interpretation:\n",
    "plt.figure(figsize=(8,8))\n",
    "sns.set(font_scale=1.2)\n",
    "sns.heatmap(numDF.corr().round(2), square=True, annot=True)\n",
    "plt.show()"
   ]
  },
  {
   "cell_type": "code",
   "execution_count": 46,
   "metadata": {},
   "outputs": [],
   "source": [
    "# # Pairplots with different colors corresponding to magnitude:\n",
    "# sns.pairplot(numDF, hue='MAGNITUDE')\n",
    "# plt.show()"
   ]
  },
  {
   "cell_type": "markdown",
   "metadata": {},
   "source": [
    "** Observation from the heatmap:**\n",
    "- Clear strong positive correlation between number of deaths and injuries\n",
    "- Strong positive correlation between number of injured persons and value of property damages\n",
    "- Strong positive correlations between Magnitude, Tornado length and Tornado width\n",
    "- It will be interesting to try Principal Component Analysis in order to reduce the number of correlated features"
   ]
  },
  {
   "cell_type": "markdown",
   "metadata": {},
   "source": [
    "<br>\n",
    "**Observation from the pairplot:**\n",
    "- The pair plot does not really show much at this stage. We will analyse it further when introducing more data.\n",
    "- Especially date and time of the Tornado need statistics over more months and years\n",
    "- The correlation between Tornado width and Tornado length seem to appear\n",
    "- The colored points tend to show that our target may benefit from regrouping the magnitudes. Having a binary target may help our analysis, at least to start with"
   ]
  },
  {
   "cell_type": "markdown",
   "metadata": {},
   "source": [
    "### Dummyfying Source and State:"
   ]
  },
  {
   "cell_type": "code",
   "execution_count": 47,
   "metadata": {},
   "outputs": [
    {
     "data": {
      "text/html": [
       "<div>\n",
       "<style scoped>\n",
       "    .dataframe tbody tr th:only-of-type {\n",
       "        vertical-align: middle;\n",
       "    }\n",
       "\n",
       "    .dataframe tbody tr th {\n",
       "        vertical-align: top;\n",
       "    }\n",
       "\n",
       "    .dataframe thead th {\n",
       "        text-align: right;\n",
       "    }\n",
       "</style>\n",
       "<table border=\"1\" class=\"dataframe\">\n",
       "  <thead>\n",
       "    <tr style=\"text-align: right;\">\n",
       "      <th></th>\n",
       "      <th>BEGIN_DATE</th>\n",
       "      <th>BEGIN_TIME</th>\n",
       "      <th>DAMAGE_PROPERTY_NUM</th>\n",
       "      <th>DAMAGE_CROPS_NUM</th>\n",
       "      <th>STATE_ABBR</th>\n",
       "      <th>SOURCE</th>\n",
       "      <th>TOR_LENGTH</th>\n",
       "      <th>TOR_WIDTH</th>\n",
       "      <th>DEATHS</th>\n",
       "      <th>INJURIES</th>\n",
       "    </tr>\n",
       "  </thead>\n",
       "  <tbody>\n",
       "    <tr>\n",
       "      <th>0</th>\n",
       "      <td>-3.438122</td>\n",
       "      <td>-0.458640</td>\n",
       "      <td>-0.098415</td>\n",
       "      <td>-0.07615</td>\n",
       "      <td>MS</td>\n",
       "      <td>NWS Storm Survey</td>\n",
       "      <td>-0.721220</td>\n",
       "      <td>-0.486391</td>\n",
       "      <td>-0.096058</td>\n",
       "      <td>-0.109066</td>\n",
       "    </tr>\n",
       "    <tr>\n",
       "      <th>1</th>\n",
       "      <td>-3.438122</td>\n",
       "      <td>-0.285516</td>\n",
       "      <td>-0.091911</td>\n",
       "      <td>-0.07615</td>\n",
       "      <td>MS</td>\n",
       "      <td>NWS Storm Survey</td>\n",
       "      <td>-0.250416</td>\n",
       "      <td>-0.486391</td>\n",
       "      <td>-0.096058</td>\n",
       "      <td>-0.109066</td>\n",
       "    </tr>\n",
       "  </tbody>\n",
       "</table>\n",
       "</div>"
      ],
      "text/plain": [
       "   BEGIN_DATE  BEGIN_TIME  DAMAGE_PROPERTY_NUM  DAMAGE_CROPS_NUM STATE_ABBR  \\\n",
       "0   -3.438122   -0.458640            -0.098415          -0.07615         MS   \n",
       "1   -3.438122   -0.285516            -0.091911          -0.07615         MS   \n",
       "\n",
       "             SOURCE  TOR_LENGTH  TOR_WIDTH    DEATHS  INJURIES  \n",
       "0  NWS Storm Survey   -0.721220  -0.486391 -0.096058 -0.109066  \n",
       "1  NWS Storm Survey   -0.250416  -0.486391 -0.096058 -0.109066  "
      ]
     },
     "execution_count": 47,
     "metadata": {},
     "output_type": "execute_result"
    }
   ],
   "source": [
    "X1_t1.head(2)"
   ]
  },
  {
   "cell_type": "code",
   "execution_count": 49,
   "metadata": {},
   "outputs": [
    {
     "name": "stdout",
     "output_type": "stream",
     "text": [
      "(500, 10) (500, 50)\n"
     ]
    },
    {
     "data": {
      "text/html": [
       "<div>\n",
       "<style scoped>\n",
       "    .dataframe tbody tr th:only-of-type {\n",
       "        vertical-align: middle;\n",
       "    }\n",
       "\n",
       "    .dataframe tbody tr th {\n",
       "        vertical-align: top;\n",
       "    }\n",
       "\n",
       "    .dataframe thead th {\n",
       "        text-align: right;\n",
       "    }\n",
       "</style>\n",
       "<table border=\"1\" class=\"dataframe\">\n",
       "  <thead>\n",
       "    <tr style=\"text-align: right;\">\n",
       "      <th></th>\n",
       "      <th>BEGIN_DATE</th>\n",
       "      <th>BEGIN_TIME</th>\n",
       "      <th>DAMAGE_PROPERTY_NUM</th>\n",
       "      <th>DAMAGE_CROPS_NUM</th>\n",
       "      <th>TOR_LENGTH</th>\n",
       "      <th>TOR_WIDTH</th>\n",
       "      <th>DEATHS</th>\n",
       "      <th>INJURIES</th>\n",
       "      <th>STATE_AL</th>\n",
       "      <th>STATE_AR</th>\n",
       "      <th>...</th>\n",
       "      <th>SOURCE_Emergency Manager</th>\n",
       "      <th>SOURCE_Fire Department/Rescue</th>\n",
       "      <th>SOURCE_Law Enforcement</th>\n",
       "      <th>SOURCE_Local Official</th>\n",
       "      <th>SOURCE_NWS Employee</th>\n",
       "      <th>SOURCE_Newspaper</th>\n",
       "      <th>SOURCE_Other Federal Agency</th>\n",
       "      <th>SOURCE_Public</th>\n",
       "      <th>SOURCE_Storm Chaser</th>\n",
       "      <th>SOURCE_Trained Spotter</th>\n",
       "    </tr>\n",
       "  </thead>\n",
       "  <tbody>\n",
       "    <tr>\n",
       "      <th>0</th>\n",
       "      <td>-3.438122</td>\n",
       "      <td>-0.458640</td>\n",
       "      <td>-0.098415</td>\n",
       "      <td>-0.07615</td>\n",
       "      <td>-0.721220</td>\n",
       "      <td>-0.486391</td>\n",
       "      <td>-0.096058</td>\n",
       "      <td>-0.109066</td>\n",
       "      <td>0</td>\n",
       "      <td>0</td>\n",
       "      <td>...</td>\n",
       "      <td>0</td>\n",
       "      <td>0</td>\n",
       "      <td>0</td>\n",
       "      <td>0</td>\n",
       "      <td>0</td>\n",
       "      <td>0</td>\n",
       "      <td>0</td>\n",
       "      <td>0</td>\n",
       "      <td>0</td>\n",
       "      <td>0</td>\n",
       "    </tr>\n",
       "    <tr>\n",
       "      <th>1</th>\n",
       "      <td>-3.438122</td>\n",
       "      <td>-0.285516</td>\n",
       "      <td>-0.091911</td>\n",
       "      <td>-0.07615</td>\n",
       "      <td>-0.250416</td>\n",
       "      <td>-0.486391</td>\n",
       "      <td>-0.096058</td>\n",
       "      <td>-0.109066</td>\n",
       "      <td>0</td>\n",
       "      <td>0</td>\n",
       "      <td>...</td>\n",
       "      <td>0</td>\n",
       "      <td>0</td>\n",
       "      <td>0</td>\n",
       "      <td>0</td>\n",
       "      <td>0</td>\n",
       "      <td>0</td>\n",
       "      <td>0</td>\n",
       "      <td>0</td>\n",
       "      <td>0</td>\n",
       "      <td>0</td>\n",
       "    </tr>\n",
       "  </tbody>\n",
       "</table>\n",
       "<p>2 rows × 50 columns</p>\n",
       "</div>"
      ],
      "text/plain": [
       "   BEGIN_DATE  BEGIN_TIME  DAMAGE_PROPERTY_NUM  DAMAGE_CROPS_NUM  TOR_LENGTH  \\\n",
       "0   -3.438122   -0.458640            -0.098415          -0.07615   -0.721220   \n",
       "1   -3.438122   -0.285516            -0.091911          -0.07615   -0.250416   \n",
       "\n",
       "   TOR_WIDTH    DEATHS  INJURIES  STATE_AL  STATE_AR  ...  \\\n",
       "0  -0.486391 -0.096058 -0.109066         0         0  ...   \n",
       "1  -0.486391 -0.096058 -0.109066         0         0  ...   \n",
       "\n",
       "   SOURCE_Emergency Manager  SOURCE_Fire Department/Rescue  \\\n",
       "0                         0                              0   \n",
       "1                         0                              0   \n",
       "\n",
       "   SOURCE_Law Enforcement  SOURCE_Local Official  SOURCE_NWS Employee  \\\n",
       "0                       0                      0                    0   \n",
       "1                       0                      0                    0   \n",
       "\n",
       "   SOURCE_Newspaper  SOURCE_Other Federal Agency  SOURCE_Public  \\\n",
       "0                 0                            0              0   \n",
       "1                 0                            0              0   \n",
       "\n",
       "   SOURCE_Storm Chaser  SOURCE_Trained Spotter  \n",
       "0                    0                       0  \n",
       "1                    0                       0  \n",
       "\n",
       "[2 rows x 50 columns]"
      ]
     },
     "execution_count": 49,
     "metadata": {},
     "output_type": "execute_result"
    }
   ],
   "source": [
    "X1_t1_dums = pd.get_dummies(X1_t1, prefix=['STATE','SOURCE'], columns=['STATE_ABBR','SOURCE'])\n",
    "X1_t1_dums.drop(['STATE_TX','SOURCE_NWS Storm Survey'], axis=1, inplace=True)\n",
    "print(X1_t1.shape, X1_t1_dums.shape)\n",
    "X1_t1_dums.head(2)"
   ]
  },
  {
   "cell_type": "markdown",
   "metadata": {},
   "source": [
    "# Modeling"
   ]
  },
  {
   "cell_type": "code",
   "execution_count": 50,
   "metadata": {},
   "outputs": [],
   "source": [
    "from sklearn.linear_model import LogisticRegression\n",
    "from sklearn.ensemble import RandomForestClassifier\n",
    "\n",
    "from sklearn.model_selection import train_test_split, GridSearchCV, cross_val_score\n",
    "from sklearn.metrics import accuracy_score, confusion_matrix\n",
    "import itertools"
   ]
  },
  {
   "cell_type": "markdown",
   "metadata": {},
   "source": [
    "## Train/test split"
   ]
  },
  {
   "cell_type": "markdown",
   "metadata": {},
   "source": [
    "In this subset of 500 tornadoes, only 1 was classified EF4 and none EF5. It means stratifying is not possible.<br>\n",
    "For this subset, I am then going to gather EF4 with EF3 and call it EFsup3<br>"
   ]
  },
  {
   "cell_type": "code",
   "execution_count": 51,
   "metadata": {},
   "outputs": [
    {
     "data": {
      "text/plain": [
       "EF0       312\n",
       "EF1       153\n",
       "EF2        26\n",
       "EFsup3      9\n",
       "Name: TOR_F_SCALE, dtype: int64"
      ]
     },
     "execution_count": 51,
     "metadata": {},
     "output_type": "execute_result"
    }
   ],
   "source": [
    "y1_t1_transf = y1_t1.map(lambda x: 'EFsup3' if x=='EF3' or x=='EF4' else x)\n",
    "y1_t1_transf.value_counts()"
   ]
  },
  {
   "cell_type": "code",
   "execution_count": 52,
   "metadata": {},
   "outputs": [],
   "source": [
    "Xtrain, Xtest, ytrain, ytest = train_test_split(X1_t1_dums, y1_t1_transf,\n",
    "                                                stratify=y1_t1_transf,\n",
    "                                                random_state=31)"
   ]
  },
  {
   "cell_type": "markdown",
   "metadata": {},
   "source": [
    "## Baseline"
   ]
  },
  {
   "cell_type": "code",
   "execution_count": 53,
   "metadata": {},
   "outputs": [],
   "source": [
    "ytest_valcounts = ytest.value_counts()"
   ]
  },
  {
   "cell_type": "code",
   "execution_count": 56,
   "metadata": {},
   "outputs": [
    {
     "data": {
      "image/png": "[encoded data removed]",
      "text/plain": [
       "<Figure size 432x288 with 1 Axes>"
      ]
     },
     "metadata": {},
     "output_type": "display_data"
    }
   ],
   "source": [
    "# Checking the new distribution after gathering EF3 and EF4 tornadoes:\n",
    "plt.figure(figsize=(6,4))\n",
    "sns.set(font_scale=1.3)\n",
    "plt.title(\"Tornado's EF magnitude distribution - Jan to May 19, 2015\")\n",
    "sns.barplot(list(ytest_valcounts.keys()), list(ytest_valcounts.values))\n",
    "plt.xlabel(\"Enhanced Fujita magnitude\")\n",
    "plt.ylabel(\"Number of tornados\")\n",
    "plt.show()"
   ]
  },
  {
   "cell_type": "markdown",
   "metadata": {},
   "source": [
    "The baseline accuracy is the probability to get an EF0 tornado"
   ]
  },
  {
   "cell_type": "code",
   "execution_count": 70,
   "metadata": {},
   "outputs": [
    {
     "name": "stdout",
     "output_type": "stream",
     "text": [
      "Accuracy | Test\t\t | Baseline\t\t | EF0 tornados:\t 0.624\n"
     ]
    }
   ],
   "source": [
    "accuracy_baseline = ytest_valcounts.values[0]/float(ytest_valcounts.values.sum())\n",
    "print(\"Accuracy | Test\\t\\t | Baseline\\t\\t | EF0 tornados:\\t\", round(accuracy_baseline, 3))"
   ]
  },
  {
   "cell_type": "markdown",
   "metadata": {},
   "source": [
    "## Logisitic regression"
   ]
  },
  {
   "cell_type": "markdown",
   "metadata": {},
   "source": [
    "### Default parameters:"
   ]
  },
  {
   "cell_type": "markdown",
   "metadata": {},
   "source": [
    "#### Cross-validation on train set:"
   ]
  },
  {
   "cell_type": "code",
   "execution_count": 77,
   "metadata": {},
   "outputs": [],
   "source": [
    "lr1 = LogisticRegression()"
   ]
  },
  {
   "cell_type": "code",
   "execution_count": 78,
   "metadata": {},
   "outputs": [
    {
     "name": "stdout",
     "output_type": "stream",
     "text": [
      "Accuracy | Train CV5\t | Logistic Regresssion\t | Default params:\t 0.763\n"
     ]
    }
   ],
   "source": [
    "accuracy_cv5_lr1 = np.mean(cross_val_score(lr1, Xtrain, ytrain, cv=5))\n",
    "print(\"Accuracy | Train CV5\\t | Logistic Regresssion\\t | Default params:\\t\", round(accuracy_cv5_lr1, 3))"
   ]
  },
  {
   "cell_type": "markdown",
   "metadata": {},
   "source": [
    "#### Fitting on train set and Scoring on test set:"
   ]
  },
  {
   "cell_type": "code",
   "execution_count": 79,
   "metadata": {},
   "outputs": [
    {
     "data": {
      "text/plain": [
       "LogisticRegression()"
      ]
     },
     "execution_count": 79,
     "metadata": {},
     "output_type": "execute_result"
    }
   ],
   "source": [
    "lr1.fit(Xtrain, ytrain)"
   ]
  },
  {
   "cell_type": "code",
   "execution_count": 80,
   "metadata": {},
   "outputs": [
    {
     "name": "stdout",
     "output_type": "stream",
     "text": [
      "Accuracy | Test\t\t | Logistic Regresssion\t | Default params:\t 0.696\n"
     ]
    }
   ],
   "source": [
    "yhat_lr1 = lr1.predict(Xtest)\n",
    "accuracy_lr1 = accuracy_score(ytest, yhat_lr1)\n",
    "print(\"Accuracy | Test\\t\\t | Logistic Regresssion\\t | Default params:\\t\", round(accuracy_lr1, 3))"
   ]
  },
  {
   "cell_type": "markdown",
   "metadata": {},
   "source": [
    "### Parameter optimization:"
   ]
  },
  {
   "cell_type": "code",
   "execution_count": 81,
   "metadata": {},
   "outputs": [],
   "source": [
    "params_logreg_v1 = {'penalty': ['l1','l2'], 'C':np.logspace(-1,1,51)}\n",
    "lr2 = GridSearchCV(lr1, param_grid=params_logreg_v1, cv=5)"
   ]
  },
  {
   "cell_type": "code",
   "execution_count": 82,
   "metadata": {},
   "outputs": [
    {
     "data": {
      "text/plain": [
       "GridSearchCV(cv=5, estimator=LogisticRegression(),\n",
       "             param_grid={'C': array([ 0.1       ,  0.10964782,  0.12022644,  0.13182567,  0.14454398,\n",
       "        0.15848932,  0.17378008,  0.19054607,  0.20892961,  0.22908677,\n",
       "        0.25118864,  0.27542287,  0.30199517,  0.33113112,  0.36307805,\n",
       "        0.39810717,  0.43651583,  0.47863009,  0.52480746,  0.57543994,\n",
       "        0.63095734,  0.69183097,  0.75857758,  0.83176377,  0.91201084,\n",
       "        1.        ,  1.0964782 ,  1.20226443,  1.31825674,  1.44543977,\n",
       "        1.58489319,  1.73780083,  1.90546072,  2.08929613,  2.29086765,\n",
       "        2.51188643,  2.7542287 ,  3.01995172,  3.31131121,  3.63078055,\n",
       "        3.98107171,  4.36515832,  4.78630092,  5.2480746 ,  5.75439937,\n",
       "        6.30957344,  6.91830971,  7.58577575,  8.31763771,  9.12010839,\n",
       "       10.        ]),\n",
       "                         'penalty': ['l1', 'l2']})"
      ]
     },
     "execution_count": 82,
     "metadata": {},
     "output_type": "execute_result"
    }
   ],
   "source": [
    "lr2.fit(Xtrain, ytrain)"
   ]
  },
  {
   "cell_type": "code",
   "execution_count": 83,
   "metadata": {},
   "outputs": [
    {
     "data": {
      "text/plain": [
       "{'C': 0.6918309709189364, 'penalty': 'l2'}"
      ]
     },
     "execution_count": 83,
     "metadata": {},
     "output_type": "execute_result"
    }
   ],
   "source": [
    "lr2.best_params_"
   ]
  },
  {
   "cell_type": "code",
   "execution_count": 84,
   "metadata": {},
   "outputs": [
    {
     "data": {
      "text/plain": [
       "GridSearchCV(cv=5, estimator=LogisticRegression(),\n",
       "             param_grid={'C': array([0.5 , 0.55, 0.6 , 0.65, 0.7 , 0.75, 0.8 , 0.85, 0.9 , 0.95, 1.  ,\n",
       "       1.05, 1.1 , 1.15, 1.2 , 1.25, 1.3 , 1.35, 1.4 , 1.45, 1.5 , 1.55,\n",
       "       1.6 , 1.65, 1.7 , 1.75, 1.8 , 1.85, 1.9 , 1.95, 2.  , 2.05, 2.1 ,\n",
       "       2.15, 2.2 , 2.25, 2.3 , 2.35, 2.4 , 2.45, 2.5 ]),\n",
       "                         'penalty': ['l1', 'l2']})"
      ]
     },
     "execution_count": 84,
     "metadata": {},
     "output_type": "execute_result"
    }
   ],
   "source": [
    "params_logreg_v2 = {'penalty': ['l1','l2'], 'C':np.linspace(0.5,2.5,41)}\n",
    "lr2 = GridSearchCV(lr1, param_grid=params_logreg_v2, cv=5)\n",
    "lr2.fit(Xtrain, ytrain)"
   ]
  },
  {
   "cell_type": "code",
   "execution_count": 85,
   "metadata": {},
   "outputs": [
    {
     "name": "stdout",
     "output_type": "stream",
     "text": [
      "Best logistic regression parameters for liblinear solver:\n",
      " {'C': 0.7, 'penalty': 'l2'}\n"
     ]
    }
   ],
   "source": [
    "print(\"Best logistic regression parameters for liblinear solver:\\n\", lr2.best_params_)"
   ]
  },
  {
   "cell_type": "code",
   "execution_count": 86,
   "metadata": {},
   "outputs": [
    {
     "name": "stdout",
     "output_type": "stream",
     "text": [
      "Accuracy | Train CV5\t | Logistic Regresssion\t | Optimal params:\t 0.768\n"
     ]
    }
   ],
   "source": [
    "print(\"Accuracy | Train CV5\\t | Logistic Regresssion\\t | Optimal params:\\t\", round(lr2.best_score_, 3))"
   ]
  },
  {
   "cell_type": "markdown",
   "metadata": {},
   "source": [
    "### Best logistic model"
   ]
  },
  {
   "cell_type": "code",
   "execution_count": 87,
   "metadata": {},
   "outputs": [
    {
     "name": "stdout",
     "output_type": "stream",
     "text": [
      "Accuracy | Test\t\t | Logistic Regresssion\t | Default params:\t 0.696\n",
      "Accuracy | Test\t\t | Logistic Regresssion\t | Optimal params:\t 0.712\n"
     ]
    }
   ],
   "source": [
    "lr3 = lr2.best_estimator_.fit(Xtrain, ytrain)\n",
    "yhat_lr3 = lr3.predict(Xtest)\n",
    "accuracy_lr3 = accuracy_score(ytest, yhat_lr3)\n",
    "print(\"Accuracy | Test\\t\\t | Logistic Regresssion\\t | Default params:\\t\", round(accuracy_lr1, 3))\n",
    "print(\"Accuracy | Test\\t\\t | Logistic Regresssion\\t | Optimal params:\\t\", round(accuracy_lr3, 3))"
   ]
  },
  {
   "cell_type": "markdown",
   "metadata": {},
   "source": [
    "**Let's regridsearch again, using only Ridge penalty, so that we can try other solvers**"
   ]
  },
  {
   "cell_type": "code",
   "execution_count": 88,
   "metadata": {},
   "outputs": [],
   "source": [
    "params_logreg_v3 = {'penalty': ['l2'], 'C':np.logspace(-1,1,51), \n",
    "                    'solver': ['newton-cg', 'lbfgs', 'liblinear', 'sag']}\n",
    "lr4 = GridSearchCV(lr1, param_grid=params_logreg_v3, cv=5)"
   ]
  },
  {
   "cell_type": "code",
   "execution_count": 89,
   "metadata": {},
   "outputs": [
    {
     "data": {
      "text/plain": [
       "{'C': 0.6918309709189364, 'penalty': 'l2', 'solver': 'newton-cg'}"
      ]
     },
     "execution_count": 89,
     "metadata": {},
     "output_type": "execute_result"
    }
   ],
   "source": [
    "lr4.fit(Xtrain, ytrain)\n",
    "lr4.best_params_"
   ]
  },
  {
   "cell_type": "code",
   "execution_count": null,
   "metadata": {},
   "outputs": [],
   "source": [
    "params_logreg_v4 = {'penalty': ['l2'], 'C':np.linspace(1,3,41), \n",
    "                    'solver': ['newton-cg', 'lbfgs', 'liblinear', 'sag']}\n",
    "lr5 = GridSearchCV(lr1, param_grid=params_logreg_v4, cv=5)\n",
    "lr5.fit(Xtrain, ytrain)"
   ]
  },
  {
   "cell_type": "code",
   "execution_count": null,
   "metadata": {},
   "outputs": [],
   "source": [
    "lr5.best_params_"
   ]
  },
  {
   "cell_type": "code",
   "execution_count": null,
   "metadata": {},
   "outputs": [],
   "source": [
    "lr5.best_score_"
   ]
  },
  {
   "cell_type": "code",
   "execution_count": null,
   "metadata": {},
   "outputs": [],
   "source": [
    "accuracy_score(ytest, lr5.best_estimator_.fit(Xtrain, ytrain).predict(Xtest))"
   ]
  },
  {
   "cell_type": "code",
   "execution_count": null,
   "metadata": {},
   "outputs": [],
   "source": [
    "lr6 = lr5.best_estimator_.fit(Xtrain, ytrain)\n",
    "yhat_lr6 = lr6.predict(Xtest)\n",
    "accuracy_lr6 = accuracy_score(ytest, yhat_lr6)\n",
    "print \"Accuracy | Test\\t\\t | Logistic Regresssion\\t | Default params:\\t\", round(accuracy_lr1, 3)\n",
    "print \"Accuracy | Test\\t\\t | Logistic Regresssion\\t | Optimal params:\\t\", round(accuracy_lr6, 3)"
   ]
  },
  {
   "cell_type": "markdown",
   "metadata": {},
   "source": [
    "- **Well, default is still better.**\n",
    "- **The reason for this is probably due to the fact that for all our GridSearch results, C gets higher than the default, which means regularization is weaker, which means overfitting is more likely, which means performance on train set is better, but the test set performs worse**\n",
    "- **For the best logistic regression model, I am therefore going to choose the default hyperparameters**"
   ]
  },
  {
   "cell_type": "markdown",
   "metadata": {},
   "source": [
    "### Confusion matrix for best logistic regression model:"
   ]
  },
  {
   "cell_type": "code",
   "execution_count": null,
   "metadata": {},
   "outputs": [],
   "source": [
    "lr1.classes_"
   ]
  },
  {
   "cell_type": "code",
   "execution_count": null,
   "metadata": {},
   "outputs": [],
   "source": [
    "# Function to plot the confusion matrices in a nicer and more interpretable way:\n",
    "def plot_confusion_matrix(cm, classes, title='Confusion matrix', cmap=plt.cm.Blues, \n",
    "                          xlab='Predicted label',ylab='True label'):\n",
    "    plt.imshow(cm, interpolation='nearest', cmap=cmap)\n",
    "    plt.title(title)\n",
    "    plt.colorbar()\n",
    "    tick_marks = np.arange(len(classes))\n",
    "    plt.xticks(tick_marks, classes, rotation=45)\n",
    "    plt.yticks(tick_marks, classes)\n",
    "    thresh = cm.max() / 2.\n",
    "    for i, j in itertools.product(range(cm.shape[0]), range(cm.shape[1])):\n",
    "        plt.text(j, i, cm[i, j],\n",
    "                 horizontalalignment=\"center\",\n",
    "                 color=\"white\" if cm[i, j] > thresh else \"black\")\n",
    "    plt.ylabel(ylab)\n",
    "    plt.xlabel(xlab)\n",
    "    plt.show()\n",
    "\n",
    "# Computing the confusion matrix\n",
    "confmatrix_lr1 = confusion_matrix(ytest, yhat_lr1)\n",
    "\n",
    "# Plotting it using the function:\n",
    "sns.set(font_scale=1.5)\n",
    "plt.figure(figsize=(7,5))\n",
    "plot_confusion_matrix(confmatrix_lr1, lr1.classes_,\\\n",
    "                      'Confusion matrix - Logistic regression - Default hyperparameters',\\\n",
    "                      xlab='Predicted EF scale magnitude', ylab='True EF scale magnitude')\n",
    "plt.show()"
   ]
  },
  {
   "cell_type": "markdown",
   "metadata": {},
   "source": [
    "** Observations on confusion matrix:**\n",
    "\n",
    "- It is somehow more striking that the number of statistics for strong tornardos is not enough.\n",
    "- For this subset of 500 tornardos, we should make the target binary for strong and weak tornardo (according to the Storm Prediction Center, a significant tornado could be defined as EF2 and higher)\n",
    "- If we want to better categorize the tornadoes, even the most powerfull ones which are rare, we will need to incorporate much more data over a long period of time.\n",
    "\n",
    "- Most EF0 tornados are correctly predicted. The few ones which are not were predicted as EF1.\n",
    "- Lots of stronger tornados are predicted as EF0 too. The model tend to approximate the baseline. We will need to improve our modeling by different means:\n",
    "    * Incorporating more tornadoes to have better statistics\n",
    "    * Incorporating new features from the same original table and/or other datasets:\n",
    "        - Average income per county: EF scale is linked to damage caused by a tornado, rather than the actual strength of its winds. Damage is linked to the quality of the properties. It would therefore be interesting to find US census data about that quality, like maybe the average income per county\n",
    "        - Duration of the tornado\n",
    "        - Azimuth of the tornado, which can be computed by beginning and end longitude and latitude data.\n",
    "    * Reducing the number of features by doing a principal component analysis: as we saw before, some features are correlated like the length and width, it may be useful to find the direction of high variance and reduce the number of features"
   ]
  },
  {
   "cell_type": "markdown",
   "metadata": {},
   "source": [
    "### Coefficients from best logistic model:"
   ]
  },
  {
   "cell_type": "code",
   "execution_count": null,
   "metadata": {},
   "outputs": [],
   "source": [
    "# Creating a DF out of the coefficients, and sorting them in order of importance of their absolute value:\n",
    "coefDF_lr1 = pd.DataFrame({'Coefficients EF0': [lr1.intercept_[0]]+list(lr1.coef_[0]),\\\n",
    "                           'Coefficients EF1': [lr1.intercept_[1]]+list(lr1.coef_[1]),\\\n",
    "                           'Coefficients EF2': [lr1.intercept_[2]]+list(lr1.coef_[2]),\\\n",
    "                           'Coefficients EFsup3': [lr1.intercept_[3]]+list(lr1.coef_[3])},\n",
    "                          index = [['Intercept']+[str(i) for i in Xtrain.columns]])\n",
    "\n",
    "coefDF_lr1['AbsoluteValue EF0'] = coefDF_lr1['Coefficients EF0'].map(lambda x: np.abs(x))\n",
    "coefDF_lr1['AbsoluteValue EF1'] = coefDF_lr1['Coefficients EF1'].map(lambda x: np.abs(x))\n",
    "coefDF_lr1['AbsoluteValue EF2'] = coefDF_lr1['Coefficients EF2'].map(lambda x: np.abs(x))\n",
    "coefDF_lr1['AbsoluteValue EFsup3'] = coefDF_lr1['Coefficients EFsup3'].map(lambda x: np.abs(x))\n",
    "\n",
    "coefDF_lr1.head(10)"
   ]
  },
  {
   "cell_type": "code",
   "execution_count": null,
   "metadata": {},
   "outputs": [],
   "source": [
    "# Plotting the coefficients in decreasing order of importance for each magnitude:\n",
    "\n",
    "# Variable used for the labels of each graph\n",
    "magtxt = [['0', '1'], ['2', 'sup3']]\n",
    "\n",
    "# Initialization of the 4 plots:\n",
    "sns.set(font_scale=1.1)\n",
    "fig, ax = plt.subplots(2,2, figsize=(10,9), sharex=True)\n",
    "fig.subplots_adjust(wspace = 1)\n",
    "\n",
    "# Looping over the 4 different tornado magnitudes:\n",
    "for i in range(2):\n",
    "    for j in range(2):\n",
    "        # Saving the first 15 rows of sorted dataframes, without the coefficients=0:\n",
    "        coefDFsort_lr1 = coefDF_lr1[coefDF_lr1['Coefficients EF{}'.format(magtxt[i][j])]!=0]\\\n",
    "                                    .sort_values(by='AbsoluteValue EF{}'.format(magtxt[i][j]),\\\n",
    "                                                 ascending=False).head(15)\n",
    "\n",
    "        # Horizontal bar plot\n",
    "        sns.barplot(coefDFsort_lr1['Coefficients EF{}'.format(magtxt[i][j])],\\\n",
    "                    list(coefDFsort_lr1.index),\\\n",
    "                    orient='h', ax=ax[i][j])\n",
    "\n",
    "        # Labels:\n",
    "        ax[i][j].set_title(\"Impactful features on EF{} tornados\".format(magtxt[i][j]))\n",
    "        ax[i][j].set_xlabel(\"Coefficient\")"
   ]
  },
  {
   "cell_type": "code",
   "execution_count": null,
   "metadata": {},
   "outputs": [],
   "source": [
    "# For a reminder:\n",
    "y1_t1_transf.value_counts()"
   ]
  },
  {
   "cell_type": "markdown",
   "metadata": {},
   "source": [
    "- At this stage, because there are so few tornadoes about EF3 magnitude, the computed importance of the coefficients given by Lasso is not completly reliable.\n",
    "- Same for EF2 tornados: only 26 out of 500 (5%)\n",
    "- It will be interesting to do the same exercise with more data for a longer period of time\n",
    "<br>\n",
    "<br>\n",
    "- For EF0 and EF1 tornadoes, the results are probably more reliable. Some interesting facts:\n",
    "    - Storm chasers and trained spotters are the most inflential features: positively for EF0 and negatively for EF1. It means weak tornadoes are more likely to be reported by them than by officials (do radars detect well weak tornadoes?). The negative correlation for EF1 is due to the fact that they most likely classify wrongly the EF1 as EF0, as we saw from the interpretation of the confusion matrix.\n",
    "    - The tornado width as a third (negatively) influential feature to predict EF0 tornadoes confirms our assumption that weak tornadoes are likely to be thinner.\n",
    "<br>\n",
    "<br>\n",
    "- Let's now try Random Forest to check if we can improve the accuracy of the model"
   ]
  },
  {
   "cell_type": "markdown",
   "metadata": {},
   "source": [
    "## Random Forest"
   ]
  },
  {
   "cell_type": "markdown",
   "metadata": {},
   "source": [
    "### Default parameters:"
   ]
  },
  {
   "cell_type": "markdown",
   "metadata": {},
   "source": [
    "#### Cross-validation on train set:"
   ]
  },
  {
   "cell_type": "code",
   "execution_count": null,
   "metadata": {},
   "outputs": [],
   "source": [
    "rf1 = RandomForestClassifier(random_state=31)"
   ]
  },
  {
   "cell_type": "code",
   "execution_count": null,
   "metadata": {},
   "outputs": [],
   "source": [
    "accuracy_cv5_rf1 = np.mean(cross_val_score(rf1, Xtrain, ytrain, cv=5))\n",
    "print \"Accuracy | Train CV5\\t | Random Forest\\t | Default params:\\t\", round(accuracy_cv5_rf1, 3)"
   ]
  },
  {
   "cell_type": "markdown",
   "metadata": {},
   "source": [
    "#### Fitting on train set and Scoring on test set:"
   ]
  },
  {
   "cell_type": "code",
   "execution_count": null,
   "metadata": {},
   "outputs": [],
   "source": [
    "rf1.fit(Xtrain, ytrain)"
   ]
  },
  {
   "cell_type": "code",
   "execution_count": null,
   "metadata": {},
   "outputs": [],
   "source": [
    "yhat_rf1 = rf1.predict(Xtest)\n",
    "accuracy_rf1 = accuracy_score(ytest, yhat_rf1)\n",
    "print \"Accuracy | Test\\t\\t | Random Forest\\t | Default params:\\t\", round(accuracy_rf1, 3)"
   ]
  },
  {
   "cell_type": "markdown",
   "metadata": {},
   "source": [
    "### Parameter optimization:"
   ]
  },
  {
   "cell_type": "code",
   "execution_count": null,
   "metadata": {},
   "outputs": [],
   "source": [
    "params_randfor_v1 = {'criterion': ['gini','entropy'],\n",
    "                     'max_depth': [2,4,6,8,10,15,20],\n",
    "                     'max_features': [0.5,0.6,0.7,0.8,0.9],\n",
    "                     'n_estimators': [10,20,30,40,50,60]\n",
    "                    }\n",
    "\n",
    "rf2 = GridSearchCV(rf1, param_grid=params_randfor_v1, cv=5, verbose=1, n_jobs=2)"
   ]
  },
  {
   "cell_type": "code",
   "execution_count": null,
   "metadata": {},
   "outputs": [],
   "source": [
    "rf2.fit(Xtrain, ytrain)"
   ]
  },
  {
   "cell_type": "code",
   "execution_count": null,
   "metadata": {},
   "outputs": [],
   "source": [
    "rf2.best_score_"
   ]
  },
  {
   "cell_type": "code",
   "execution_count": null,
   "metadata": {},
   "outputs": [],
   "source": [
    "rf2.best_params_"
   ]
  },
  {
   "cell_type": "code",
   "execution_count": null,
   "metadata": {},
   "outputs": [],
   "source": [
    "print \"Accuracy | Train CV5\\t | Random Forest\\t | Opimized params:\\t\", round(rf2.best_score_, 3)"
   ]
  },
  {
   "cell_type": "markdown",
   "metadata": {},
   "source": [
    "More parameters:"
   ]
  },
  {
   "cell_type": "code",
   "execution_count": null,
   "metadata": {},
   "outputs": [],
   "source": [
    "params_randfor_v2 = {'criterion': ['gini','entropy'],\n",
    "                     'max_depth': [6,8,10,12],\n",
    "                     'max_features': [0.7,0.8,0.9],\n",
    "                     'n_estimators': [10,20,30,40],\n",
    "                     'min_samples_split': [2,5,8,11],\n",
    "                     'min_samples_leaf': [1,3,5]\n",
    "                    }\n",
    "\n",
    "rf3 = GridSearchCV(rf1, param_grid=params_randfor_v2, cv=5, verbose=1, n_jobs=2)\n",
    "\n",
    "rf3.fit(Xtrain, ytrain)"
   ]
  },
  {
   "cell_type": "code",
   "execution_count": null,
   "metadata": {},
   "outputs": [],
   "source": [
    "rf3.best_score_"
   ]
  },
  {
   "cell_type": "code",
   "execution_count": null,
   "metadata": {},
   "outputs": [],
   "source": [
    "rf3.best_params_"
   ]
  },
  {
   "cell_type": "code",
   "execution_count": null,
   "metadata": {},
   "outputs": [],
   "source": [
    "params_randfor_v3 = {'criterion': ['gini','entropy'],\n",
    "                     'max_depth': [5,6,7,8,9],\n",
    "                     'max_features': [0.6,0.7,0.8,0.9],\n",
    "                     'n_estimators': [18,19,20,21,22,24],\n",
    "                     'min_samples_split': [4,5,6,7,8,9],\n",
    "                     'min_samples_leaf': [1,2]\n",
    "                    }\n",
    "\n",
    "rf4 = GridSearchCV(rf1, param_grid=params_randfor_v3, cv=5, verbose=1, n_jobs=2)\n",
    "\n",
    "rf4.fit(Xtrain, ytrain)"
   ]
  },
  {
   "cell_type": "code",
   "execution_count": null,
   "metadata": {},
   "outputs": [],
   "source": [
    "rf4.best_score_"
   ]
  },
  {
   "cell_type": "markdown",
   "metadata": {},
   "source": [
    "OK, got over 80% accuracy, now I'm happy :)"
   ]
  },
  {
   "cell_type": "code",
   "execution_count": null,
   "metadata": {},
   "outputs": [],
   "source": [
    "rf4.best_params_"
   ]
  },
  {
   "cell_type": "markdown",
   "metadata": {},
   "source": [
    "Seems like we reached the best score so far, let's use it into a new model:"
   ]
  },
  {
   "cell_type": "markdown",
   "metadata": {},
   "source": [
    "### Best Random Forest model"
   ]
  },
  {
   "cell_type": "code",
   "execution_count": null,
   "metadata": {},
   "outputs": [],
   "source": [
    "rf5 = rf4.best_estimator_\n",
    "rf5.fit(Xtrain, ytrain)"
   ]
  },
  {
   "cell_type": "code",
   "execution_count": null,
   "metadata": {},
   "outputs": [],
   "source": [
    "print \"Accuracy | Train+Test\\t | Baseline\\t\\t | EF0 tornados:\\t\", round(312/500., 3)\n",
    "print \"Accuracy | Train CV5\\t | Logistic Regresssion\\t | Default params:\\t\", round(accuracy_cv5_lr1, 3)\n",
    "print \"Accuracy | Train CV5\\t | Logistic Regresssion\\t | Optimal params:\\t\", round(lr2.best_score_, 3)\n",
    "print \"Accuracy | Train CV5\\t | Random Forest\\t | Default params:\\t\", round(accuracy_cv5_rf1, 3)\n",
    "print \"Accuracy | Train CV5\\t | Random Forest\\t | Optimal params:\\t\", round(rf4.best_score_, 3)"
   ]
  },
  {
   "cell_type": "code",
   "execution_count": null,
   "metadata": {},
   "outputs": [],
   "source": [
    "yhat_rf5 = rf5.predict(Xtest)\n",
    "accuracy_rf5 = accuracy_score(ytest, yhat_rf5)\n",
    "print \"Accuracy | Test\\t\\t | Baseline\\t\\t | EF0 tornados:\\t\", round(accuracy_baseline, 3)\n",
    "print \"Accuracy | Test\\t\\t | Logistic Regresssion\\t | Default params:\\t\", round(accuracy_lr1, 3)\n",
    "print \"Accuracy | Test\\t\\t | Logistic Regresssion\\t | Optimal params:\\t\", round(accuracy_lr3, 3)\n",
    "print \"Accuracy | Test\\t\\t | Random Forest\\t | Default params:\\t\", round(accuracy_rf1, 3)\n",
    "print \"Accuracy | Test\\t\\t | Random Forest\\t | Optimized params:\\t\", round(accuracy_rf5, 3)"
   ]
  },
  {
   "cell_type": "markdown",
   "metadata": {},
   "source": [
    "** Summary tables of the model scores so far:**"
   ]
  },
  {
   "cell_type": "markdown",
   "metadata": {},
   "source": [
    "| Type | Train or Test | Model | Parameters | Score |\n",
    "| :---: | :---: | :---: | :---: | :--- |\n",
    "| Accuracy | Train+Test | Baseline | EF0 tornados | 0.624 |\n",
    "| Accuracy | Train CV5 | Logistic Regresssion | Default params | 0.75 |\n",
    "| Accuracy | Train CV5 | Logistic Regresssion | Optimal params | 0.763 |\n",
    "| Accuracy | Train CV5\t| Random Forest | Default params | 0.771 |\n",
    "| Accuracy | Train CV5 | Random Forest | Optimized params | 0.8 |"
   ]
  },
  {
   "cell_type": "markdown",
   "metadata": {},
   "source": [
    "| Type | Train or Test | Model | Parameters | Score |\n",
    "| :---: | :---: | :---: | :---: | :--- |\n",
    "| Accuracy | Test | Baseline | EF0 tornados | 0.624 |\n",
    "| Accuracy | Test | Logistic Regresssion | Default params | 0.712 |\n",
    "| Accuracy | Test | Logistic Regresssion | Optimal params | 0.688 |\n",
    "| Accuracy | Test\t| Random Forest | Default params | 0.744 |\n",
    "| Accuracy | Test | Random Forest | Optimized params | 0.768 |"
   ]
  },
  {
   "cell_type": "markdown",
   "metadata": {},
   "source": [
    "- As expected, random forest gets the best accuracy\n",
    "- We managed to improve the baseline by 20%\n",
    "- Let's now try and improve it more, by re-introducing some of the features we previously dropped, and which could provide meaningful information"
   ]
  },
  {
   "cell_type": "markdown",
   "metadata": {
    "collapsed": true
   },
   "source": [
    "# Adding more features: "
   ]
  },
  {
   "cell_type": "markdown",
   "metadata": {},
   "source": [
    "- Heading of the tornado\n",
    "- New computation of the tornado length\n",
    "- Average longitude along the tornado's path\n",
    "- Average latitude along the tornado's path"
   ]
  },
  {
   "cell_type": "markdown",
   "metadata": {},
   "source": [
    "## Direction and length of the tornado based on lat and long of beginning and end points:"
   ]
  },
  {
   "cell_type": "markdown",
   "metadata": {},
   "source": [
    "- $R$ is the Earth radius\n",
    "<br>\n",
    "- Let's call $A (long_{A}, lat_{A})$ the beginning point of a tornado and $B (long_{B}, lat_{B})$ the end point\n",
    "- Let's call $\\alpha$ the azimuth of the straight line going from A to B. This is the angle in degrees between North and $\\overrightarrow{AB}$, clockwise\n",
    "- From trigonometry, we get:\n",
    "    * The distance from A to B:\n",
    "$$ AB = R\\sqrt{(long_{B}-long_{A})^2+(lat_{B}-lat_{A})^2} $$\n",
    "    * The azimuth:\n",
    "$$ \\alpha = \\arctan\\left(\\frac{long_{B}-long_{A}}{lat_{B}-lat_{A}}\\right) $$\n",
    "\n",
    "<br>\n",
    "- In our dataframe, we already have the tornado length, so we can compare with our computation. Let's remind ourselves that the lat, long and length were computed originally from azimuths and range from a geographical center."
   ]
  },
  {
   "cell_type": "markdown",
   "metadata": {},
   "source": [
    "## Function adding the 4 new features"
   ]
  },
  {
   "cell_type": "code",
   "execution_count": null,
   "metadata": {},
   "outputs": [],
   "source": [
    "# Computing statistics of the average latitude of the tornado paths:\n",
    "((raw_t1.BEGIN_LAT+raw_t1.END_LAT)/2).describe()"
   ]
  },
  {
   "cell_type": "markdown",
   "metadata": {},
   "source": [
    "From https://rechneronline.de/earth-radius/, we get the Earth radius for any given latitude and altitude.\n",
    "Let's compute it from the mean latitude $36^o$ and with assumption at mean sea surface. We get $R = 6370.789km = 3958.625 miles$"
   ]
  },
  {
   "cell_type": "code",
   "execution_count": null,
   "metadata": {},
   "outputs": [],
   "source": [
    "def computeLength(df, xA='BEGIN_LON', yA='BEGIN_LAT', xB='END_LON', yB='END_LAT'):\n",
    "    '''Takes a tornado dataframe in input, with geographical coordinates of beginning and\n",
    "    end points.\n",
    "    Returns the dataframe with 4 new features: \n",
    "    direction the tornado headed from North (azimuth)\n",
    "    length of its rectiligne path\n",
    "    average latitude\n",
    "    average longitude'''\n",
    "    \n",
    "    # Approximate Earth radius in miles:\n",
    "    R = 3959\n",
    "    \n",
    "    # Coordinates differences converted to radians:\n",
    "    diffLON = np.radians(df[xB] - df[xA])\n",
    "    diffLAT = np.radians(df[yB] - df[yA])\n",
    "    \n",
    "    # Length and azimuth:\n",
    "    L = R * np.sqrt(diffLON**2 + diffLAT**2)\n",
    "    AZ = np.degrees(np.arctan(diffLON/diffLAT))\n",
    "    LAT = (df[yA]+df[yB])/2\n",
    "    LON = (df[xA]+df[xB])/2\n",
    "    df['ComputedLength'] = np.round(L,2)\n",
    "    \n",
    "    # To keep only positive azimuths:\n",
    "    df['ComputedAzimuth'] = np.round(AZ,2).map(lambda x: 360+x if x<0 else x)\n",
    "    \n",
    "    df['AverageLatitude'] = np.round(LAT,4)\n",
    "    df['AverageLongitude'] = np.round(LON,4)\n",
    "    return df"
   ]
  },
  {
   "cell_type": "code",
   "execution_count": null,
   "metadata": {},
   "outputs": [],
   "source": [
    "# Let's have a look at the example of the strongest tornado:\n",
    "X2_t1 = computeLength(raw_t1)\n",
    "X2_t1[X2_t1['TOR_F_SCALE']=='EF4'][['BEGIN_LOCATION', 'END_LOCATION', 'TOR_F_SCALE','TOR_LENGTH',\n",
    "                                    'BEGIN_LAT', 'END_LAT', 'BEGIN_LON', 'END_LON', \n",
    "                                    'ComputedLength', 'ComputedAzimuth', 'AverageLatitude',\n",
    "                                    'AverageLongitude']]"
   ]
  },
  {
   "cell_type": "markdown",
   "metadata": {},
   "source": [
    "Our computed length is about 20% higher than the given one in the table"
   ]
  },
  {
   "cell_type": "code",
   "execution_count": null,
   "metadata": {},
   "outputs": [],
   "source": [
    "# Let's take the example of EF3 tornados:\n",
    "X2_t1[X2_t1['TOR_F_SCALE']=='EF3'][['BEGIN_LOCATION', 'END_LOCATION', 'TOR_F_SCALE', 'TOR_LENGTH',\n",
    "                                    'ComputedLength', 'ComputedAzimuth', 'BEGIN_LAT', 'END_LAT',\n",
    "                                    'BEGIN_LON', 'END_LON', 'BEGIN_RANGE', 'END_RANGE',\n",
    "                                    'BEGIN_AZIMUTH', 'END_AZIMUTH', \n",
    "                                    'AverageLatitude', 'AverageLongitude']]"
   ]
  },
  {
   "cell_type": "markdown",
   "metadata": {},
   "source": [
    "The computed length is slightly higher in most cases.<br>\n",
    "Let's do a scatter plot between the original and newly computed length:"
   ]
  },
  {
   "cell_type": "markdown",
   "metadata": {},
   "source": [
    "## Analysis computed vs original tornado length:"
   ]
  },
  {
   "cell_type": "code",
   "execution_count": null,
   "metadata": {},
   "outputs": [],
   "source": [
    "plt.figure(figsize=(8,8))\n",
    "sns.set(font_scale=1.2)\n",
    "plt.scatter(X2_t1.TOR_LENGTH, X2_t1.ComputedLength)\n",
    "plt.title('Tornado length comparison')\n",
    "plt.xlabel('Original length in miles')\n",
    "plt.ylabel('Computed length in miles')\n",
    "plt.show()"
   ]
  },
  {
   "cell_type": "markdown",
   "metadata": {},
   "source": [
    "- There is a clear linear relation between the computed and original lengths.\n",
    "- I was expecting them to be equal, but in general they are very close. \n",
    "- A few points are uncorrelated. It would be good to analyse why\n",
    "- I tend to trust more the original length, as mine was computed from lat and long, which was computed by them from azimuth and range. It is an indirect computation. I will compute the length again later."
   ]
  },
  {
   "cell_type": "markdown",
   "metadata": {},
   "source": [
    "## Tornado's heading distribution"
   ]
  },
  {
   "cell_type": "code",
   "execution_count": null,
   "metadata": {},
   "outputs": [],
   "source": [
    "# Number of NaNs:\n",
    "X2_t1.ComputedAzimuth.isnull().sum()"
   ]
  },
  {
   "cell_type": "markdown",
   "metadata": {},
   "source": [
    "There are 73 NaNs, which are due to the fact that some beginning and end latitudes are the same $=>$ division by 0 in the Arctan formula.\n",
    "<br> Let's analyse the general stats:"
   ]
  },
  {
   "cell_type": "code",
   "execution_count": null,
   "metadata": {},
   "outputs": [],
   "source": [
    "X2_t1[~X2_t1['ComputedAzimuth'].isnull()]['ComputedAzimuth'].describe()"
   ]
  },
  {
   "cell_type": "markdown",
   "metadata": {},
   "source": [
    "The mean and the median are really different, let's seen a histogram"
   ]
  },
  {
   "cell_type": "code",
   "execution_count": null,
   "metadata": {},
   "outputs": [],
   "source": [
    "X2_t1[~X2_t1['ComputedAzimuth'].isnull()]['ComputedAzimuth'].hist(bins=30)\n",
    "plt.title(\"Tornado path's azimuth distribution\")\n",
    "plt.xlabel(\"Azimuth in degrees (angle from N clockwise)\")\n",
    "plt.ylabel(\"Tornado count\")\n",
    "plt.show()"
   ]
  },
  {
   "cell_type": "markdown",
   "metadata": {},
   "source": [
    "- Clearly there is a big gap of heading (towards Southern directions)\n",
    "- The median represents the data better\n",
    "- Let's replace the NaN values by the median then"
   ]
  },
  {
   "cell_type": "code",
   "execution_count": null,
   "metadata": {},
   "outputs": [],
   "source": [
    "X2_t1.ComputedAzimuth.fillna(61.46, inplace=True)\n",
    "X2_t1.ComputedAzimuth.isnull().sum()"
   ]
  },
  {
   "cell_type": "code",
   "execution_count": null,
   "metadata": {},
   "outputs": [],
   "source": []
  },
  {
   "cell_type": "markdown",
   "metadata": {},
   "source": [
    "Let's use again the Python's tool Windrose to transform our azimuth data into an easily interpretable direction windrose"
   ]
  },
  {
   "cell_type": "code",
   "execution_count": null,
   "metadata": {},
   "outputs": [],
   "source": [
    "# DataFrame simulating speed as the tornado magnitude,\n",
    "# and direction as the actual direction the tornado is heading\n",
    "dfwindroseAzim = pd.DataFrame({'speed':list(X2_t1.TOR_F_SCALE.map(lambda x: 0 if x=='EF0' \n",
    "                                                                  else 1 if x=='EF1' \n",
    "                                                                  else 2 if x=='EF2' \n",
    "                                                                  else 3 if x=='EF3' \n",
    "                                                                  else 4).values),\n",
    "                               'direction':list(X2_t1.ComputedAzimuth.values)}\n",
    "                             ).reset_index(drop=True)\n",
    "\n",
    "# Radial grids must be strictly positive for the windrose display:\n",
    "dfwindroseAzim.direction = dfwindroseAzim.direction.map(lambda x: 0.001 if x==0 else x)\n",
    "\n",
    "sns.set(font_scale=1.3)\n",
    "plot_windrose(dfwindroseAzim, kind='bar', bins=np.arange(-0.5,4.5,1), edgecolor='black',\n",
    "              label=['EF0','EF1','EF2','EF3','EF4'])\n",
    "\n",
    "plt.title(\"Distribution of the heading of tornados (colors represent the magnitudes:\\\n",
    "          Blue to Red for weak to strong)\")\n",
    "plt.legend(\"lower right\")\n",
    "plt.show()"
   ]
  },
  {
   "cell_type": "markdown",
   "metadata": {},
   "source": [
    "**This is an inexpected and interesting result: most tornadoes head North East! And none head South!**<br>\n",
    "This is confirmed by the Storm Prediction Center (http://www.spc.noaa.gov/faq/tornado/):<br>\n",
    "\"Most move from southwest to northeast, or west to east.\"\n",
    "<br>Another interesting fact on this subset is that the strongest EF3 and EF4 tornadoes head NE (and not ENE or NNE). It seems like a precise fact, which we should verify later with more data."
   ]
  },
  {
   "cell_type": "markdown",
   "metadata": {},
   "source": [
    "- Unfortunately, because I put 73 missing values equal to the median, the count of tornadoes heading ENE seems to be overestimated.\n",
    "- Instead of working from the latitude and longitude data, which were actually computed by the SPC from a weather station of reference and values of range and azimuth, I am going to compute the tornado path's azimuth directly from those variables. It should be more accurate, and will allow using directly measured variables, instead of approximate values of lat and long."
   ]
  },
  {
   "cell_type": "markdown",
   "metadata": {},
   "source": [
    "## Direction and length of the tornado based on range and azimuth of beginning and end points:"
   ]
  },
  {
   "cell_type": "markdown",
   "metadata": {},
   "source": [
    "- Given variables:\n",
    "    - 0: weather station point\n",
    "    - A: tornado starting point\n",
    "    - B: tornado end point\n",
    "    - $r_{A}$: range of A (=distance in miles from weather station to A)\n",
    "    - $r_{A}$: range of B (=distance in miles from weather station to B)\n",
    "    - $\\alpha_{A}$: azimuth of A (=clockwise angle in degrees between North and $\\overrightarrow{OA}$)\n",
    "    - $\\alpha_{B}$: azimuth of B (=clockwise angle in degrees between North and $\\overrightarrow{OB}$)\n",
    "<br>\n",
    "<br>\n",
    "- Unknown variables:\n",
    "    - $\\alpha$: azimuth of the tornado path (=clockwise angle in degrees between North and $\\overrightarrow{AB}$)\n",
    "    - $L$: tornado length in miles (=$AB$)\n",
    "\n",
    "\n",
    "- From trigonometry, we get:\n",
    "    * The tornado length:\n",
    "$$ L = \\sqrt{r_{A}^2+r_{B}^2-2r_{A}r_{B}\\cos{(\\alpha_{B}-\\alpha_{A})}} $$\n",
    "    * The tornado path azimuth:\n",
    "$$ \\alpha = \\alpha_{B} + \\arctan\\left(\\frac{r_{A}\\sin{(\\alpha_{B}-\\alpha_{A})}}{r_{B}-r_{A}\\cos{(\\alpha_{B}-\\alpha_{A})}}\\right) $$\n",
    "\n",
    "<br>\n",
    "- We can now compare the values we had computed before using lat and long with those new ones. <br>Is the new computed length closer to original length? <br>Does the tornado azimuth still contain NaN values? <br>We will now try and answer those questions."
   ]
  },
  {
   "cell_type": "code",
   "execution_count": null,
   "metadata": {},
   "outputs": [],
   "source": [
    "def compute_L_Az(df, rA='BEGIN_RANGE', alA='BEGIN_AZIMUTH', rB='END_RANGE', alB='END_AZIMUTH'):\n",
    "    '''Takes a tornado dataframe in input, with range and direction azimuth from a reference\n",
    "    point.\n",
    "    Returns the dataframe with 2 new features: \n",
    "    direction the tornado headed (angle in degree clockwise from North)\n",
    "    length of its straight path'''\n",
    "\n",
    "    # Function writing underway!\n",
    "    \n",
    "    return df"
   ]
  },
  {
   "cell_type": "markdown",
   "metadata": {
    "collapsed": true
   },
   "source": [
    "# Next steps I intend to do\n",
    "\n",
    "### Finish the work above\n",
    "- better compute the azimuth from original tornado parameters\n",
    "- check again the path length against original value\n",
    "\n",
    "### Improve models:\n",
    "- Redo modeling with new added features: tornado azimuth, mean latitude, mean longitude.\n",
    "- Principal component analysis to check if our model gets a better score.\n",
    "\n",
    "### Get more tornado data:\n",
    "- Write a Class for the preprocessing work, in order to prepare for import of new data. I intend to use pipeline to make it more efficient<br>\n",
    "- Import new data from the SCP website: one csv file for each year. Check how to do that in a go without having to download one by one.\n",
    "\n",
    "### Incorporate other types of data:\n",
    "- Incorporate \"poverty\" feature from US census:<br> https://www.census.gov/did/www/saipe/data/interactive/saipe.html?s_appName=saipe&map_yearSelector=2014&map_geoSelector=mhi_c&s_measures=aa_snc&menu=grid_proxy&s_inclUsTot=n&s_inclStTot=n&s_USStOnly=n\n",
    "- Incorporate population per county info:<br> https://factfinder.census.gov/faces/tableservices/jsf/pages/productview.xhtml?pid=PEP_2016_PEPANNRES&src=pt\n",
    "- Find weather data<br>\n",
    "\n",
    "### NLP:\n",
    "- NLP using the event and episode narratives. Extraction of significant words as features. \n",
    "\n",
    "### Final modeling\n",
    "- Include the new features in our predictor list and check models' scores.<br>\n",
    "- Try and predict other targets, like number of casualties or damage costs.<br>"
   ]
  }
 ],
 "metadata": {
  "kernelspec": {
   "display_name": "Python 3 (ipykernel)",
   "language": "python",
   "name": "python3"
  },
  "language_info": {
   "codemirror_mode": {
    "name": "ipython",
    "version": 3
   },
   "file_extension": ".py",
   "mimetype": "text/x-python",
   "name": "python",
   "nbconvert_exporter": "python",
   "pygments_lexer": "ipython3",
   "version": "3.9.7"
  }
 },
 "nbformat": 4,
 "nbformat_minor": 2
}
